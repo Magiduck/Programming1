{
 "cells": [
  {
   "cell_type": "markdown",
   "metadata": {},
   "source": [
    "## Assignment week 05: Sleeping habits\n",
    "\n",
    "Welcome to **week five** of this course programming 1. You will learn about analysing data with pandas and numpy and you will learn to visualize with bokeh. Concretely, you will preprocess the Sleep Study data in an appropiate format in order to conduct statistical and visual analysis. Learning outcomes:\n",
    "\n",
    "\n",
    "## About the data\n",
    "\n",
    "The data is collected from a survey-based study of the sleeping habits of individuals within the US. \n",
    "\n",
    "Below is a description of each of the variables contained within the dataset.\n",
    "\n",
    "- Enough = Do you think that you get enough sleep?\n",
    "- Hours = On average, how many hours of sleep do you get on a weeknight?\n",
    "- PhoneReach = Do you sleep with your phone within arms reach?\n",
    "- PhoneTime = Do you use your phone within 30 minutes of falling asleep?\n",
    "- Tired = On a scale from 1 to 5, how tired are you throughout the day? (1 being not tired, 5 being very tired)\n",
    "- Breakfast = Do you typically eat breakfast?\n",
    "\n",
    "The two research questions you should answer in this assignment are:\n",
    "1. Is there a differences in Hours sleep caused by having breakfast (yes, no)?\n",
    "2. Is there a differences in Hours sleep caused by having breakfast and the tireness (score)\n",
    "\n",
    "\n",
    "The assignment consists of 6 parts:\n",
    "\n",
    "- [part 1: load the data](#0)\n",
    "- [part 2: data inspection](#1)\n",
    "- [part 3: check assumptions](#2)\n",
    "   - [check normality 3.1](#ex-31)\n",
    "   - [check equal variance 3.2](#ex-32)\n",
    "- [part 4: prepare the data](#3)\n",
    "- [part 5: answer the research question](#4)\n",
    "- [part 6: enhanced plotting](#5)\n",
    "\n",
    "Part 1 till 5 are mandatory, part 6 is optional (bonus)\n",
    "To pass the assingnment you need to a score of 60%. \n",
    "\n",
    "\n",
    "**NOTE If your project data is suitable you can use that data instead of the given data**"
   ]
  },
  {
   "cell_type": "markdown",
   "metadata": {},
   "source": [
    "## ANOVA\n",
    "\n",
    "Analysis of variance (ANOVA) compares the variances between groups versus within groups. It basically determines whether the differences between groups is larger than the differences within a group (the noise). \n",
    "A graph picturing this is as follow: https://link.springer.com/article/10.1007/s00424-019-02300-4/figures/2\n",
    "\n",
    "\n",
    "In ANOVA, the dependent variable must be a continuous (interval or ratio) level of measurement. For instance Glucose level. The independent variables in ANOVA must be categorical (nominal or ordinal) variables. For instance trial category, time of day (AM versus PM) or time of trial (different categories). Like the t-test, ANOVA is also a parametric test and has some assumptions. ANOVA assumes that the data is normally distributed.  The ANOVA also assumes homogeneity of variance, which means that the variance among the groups should be approximately equal. ANOVA also assumes that the observations are independent of each other. \n",
    "\n",
    "A one-way ANOVA has just one independent variable. A two-way ANOVA (are also called factorial ANOVA) refers to an ANOVA using two independent variables. For research question 1 we can use the one-way ANOVA, for research question two we can use two-way ANOVA. But first we need to check the assumptions. \n"
   ]
  },
  {
   "cell_type": "markdown",
   "metadata": {},
   "source": [
    "---"
   ]
  },
  {
   "cell_type": "markdown",
   "metadata": {},
   "source": [
    "<a name='0'></a>\n",
    "## Part 1: Load the data (10 pt)\n",
    "\n",
    "load the `sleep.csv` data. Get yourself familiar with the data. Answer the following questions.\n",
    "\n",
    "1. What is the percentage missing data?\n",
    "2. Considering the research question, what is the dependent variable and what are the indepent variables? Are they of the correct datatype? "
   ]
  },
  {
   "cell_type": "code",
   "execution_count": 85,
   "metadata": {},
   "outputs": [
    {
     "name": "stdout",
     "output_type": "stream",
     "text": [
      "Enough        0.000000\n",
      "Hours         1.923077\n",
      "PhoneReach    0.000000\n",
      "PhoneTime     0.000000\n",
      "Tired         0.000000\n",
      "Breakfast     0.000000\n",
      "dtype: float64\n"
     ]
    }
   ],
   "source": [
    "#code printing percentage missing data\n",
    "import pandas as pd\n",
    "\n",
    "PATH = \"../data/sleep.csv\"\n",
    "df = pd.read_csv(PATH)\n",
    "print(f\"{(df.isnull().sum()/len(df))*100}\")"
   ]
  },
  {
   "cell_type": "code",
   "execution_count": 86,
   "metadata": {},
   "outputs": [
    {
     "name": "stdout",
     "output_type": "stream",
     "text": [
      "Dependent variable = Hours\n",
      "Independent variables = ['Enough', 'PhoneReach', 'PhoneTime', 'Tired', 'Breakfast']\n"
     ]
    }
   ],
   "source": [
    "#code printing answer dependent and independent variables\n",
    "print(f\"Dependent variable = {df.Hours.name}\")\n",
    "print(f\"Independent variables = {[col for col in df.drop(columns=['Hours']).columns]}\")"
   ]
  },
  {
   "cell_type": "code",
   "execution_count": 87,
   "metadata": {},
   "outputs": [
    {
     "name": "stdout",
     "output_type": "stream",
     "text": [
      "<class 'pandas.core.frame.DataFrame'>\n",
      "RangeIndex: 104 entries, 0 to 103\n",
      "Data columns (total 6 columns):\n",
      " #   Column      Non-Null Count  Dtype  \n",
      "---  ------      --------------  -----  \n",
      " 0   Enough      104 non-null    object \n",
      " 1   Hours       102 non-null    float64\n",
      " 2   PhoneReach  104 non-null    object \n",
      " 3   PhoneTime   104 non-null    object \n",
      " 4   Tired       104 non-null    int64  \n",
      " 5   Breakfast   104 non-null    object \n",
      "dtypes: float64(1), int64(1), object(4)\n",
      "memory usage: 5.0+ KB\n",
      "None\n",
      "<class 'pandas.core.frame.DataFrame'>\n",
      "RangeIndex: 104 entries, 0 to 103\n",
      "Data columns (total 6 columns):\n",
      " #   Column      Non-Null Count  Dtype   \n",
      "---  ------      --------------  -----   \n",
      " 0   Enough      104 non-null    category\n",
      " 1   Hours       102 non-null    float64 \n",
      " 2   PhoneReach  104 non-null    category\n",
      " 3   PhoneTime   104 non-null    category\n",
      " 4   Tired       104 non-null    category\n",
      " 5   Breakfast   104 non-null    category\n",
      "dtypes: category(5), float64(1)\n",
      "memory usage: 2.0 KB\n",
      "None\n"
     ]
    }
   ],
   "source": [
    "#code printing answer about datatypes\n",
    "print(df.info())\n",
    "\n",
    "df.Enough = df.Enough.astype('category')\n",
    "df.PhoneReach = df.PhoneReach.astype('category')\n",
    "df.PhoneTime = df.PhoneTime.astype('category')\n",
    "df.Tired = df.Tired.astype('category')\n",
    "df.Breakfast = df.Breakfast.astype('category')\n",
    "\n",
    "print(df.info())"
   ]
  },
  {
   "cell_type": "markdown",
   "metadata": {},
   "source": [
    "---"
   ]
  },
  {
   "cell_type": "markdown",
   "metadata": {},
   "source": [
    "<a name='1'></a>\n",
    "## Part 2: Inspect the data (30 pt)\n",
    "\n",
    "Inspect the data practically. Get an idea about how well the variable categories are ballanced. Are the values of a variable equally divided? What is the mean value of the dependent variable? Are there correlations amongs the variables?\n"
   ]
  },
  {
   "cell_type": "markdown",
   "metadata": {},
   "source": [
    "<ul>\n",
    "<li>Create some meaninful overviews such as variable value counts</li>\n",
    "<li>Create a scatter plot ploting the relation between being tired and hours of sleep with different colors for Breakfast</li>\n",
    "    <li>Print some basic statistics about the target (mean, standard deviation)</li>\n",
    "    <li>Create a heatmap to check for correlations among variables. </li>\n",
    "\n",
    "<details>    \n",
    "<summary>\n",
    "    <font size=\"3\" color=\"darkgreen\"><b>Hints</b></font>\n",
    "</summary>\n",
    "    <ul><li>the gitbook has a bokeh heatmap example</li></ul>\n",
    "</details>\n",
    "</ul>"
   ]
  },
  {
   "cell_type": "code",
   "execution_count": 95,
   "metadata": {},
   "outputs": [
    {
     "data": {
      "text/html": [
       "\n",
       "    <div class=\"bk-root\">\n",
       "        <a href=\"https://bokeh.org\" target=\"_blank\" class=\"bk-logo bk-logo-small bk-logo-notebook\"></a>\n",
       "        <span id=\"5661\">Loading BokehJS ...</span>\n",
       "    </div>"
      ]
     },
     "metadata": {},
     "output_type": "display_data"
    },
    {
     "data": {
      "application/javascript": [
       "\n",
       "(function(root) {\n",
       "  function now() {\n",
       "    return new Date();\n",
       "  }\n",
       "\n",
       "  var force = true;\n",
       "\n",
       "  if (typeof root._bokeh_onload_callbacks === \"undefined\" || force === true) {\n",
       "    root._bokeh_onload_callbacks = [];\n",
       "    root._bokeh_is_loading = undefined;\n",
       "  }\n",
       "\n",
       "  var JS_MIME_TYPE = 'application/javascript';\n",
       "  var HTML_MIME_TYPE = 'text/html';\n",
       "  var EXEC_MIME_TYPE = 'application/vnd.bokehjs_exec.v0+json';\n",
       "  var CLASS_NAME = 'output_bokeh rendered_html';\n",
       "\n",
       "  /**\n",
       "   * Render data to the DOM node\n",
       "   */\n",
       "  function render(props, node) {\n",
       "    var script = document.createElement(\"script\");\n",
       "    node.appendChild(script);\n",
       "  }\n",
       "\n",
       "  /**\n",
       "   * Handle when an output is cleared or removed\n",
       "   */\n",
       "  function handleClearOutput(event, handle) {\n",
       "    var cell = handle.cell;\n",
       "\n",
       "    var id = cell.output_area._bokeh_element_id;\n",
       "    var server_id = cell.output_area._bokeh_server_id;\n",
       "    // Clean up Bokeh references\n",
       "    if (id != null && id in Bokeh.index) {\n",
       "      Bokeh.index[id].model.document.clear();\n",
       "      delete Bokeh.index[id];\n",
       "    }\n",
       "\n",
       "    if (server_id !== undefined) {\n",
       "      // Clean up Bokeh references\n",
       "      var cmd = \"from bokeh.io.state import curstate; print(curstate().uuid_to_server['\" + server_id + \"'].get_sessions()[0].document.roots[0]._id)\";\n",
       "      cell.notebook.kernel.execute(cmd, {\n",
       "        iopub: {\n",
       "          output: function(msg) {\n",
       "            var id = msg.content.text.trim();\n",
       "            if (id in Bokeh.index) {\n",
       "              Bokeh.index[id].model.document.clear();\n",
       "              delete Bokeh.index[id];\n",
       "            }\n",
       "          }\n",
       "        }\n",
       "      });\n",
       "      // Destroy server and session\n",
       "      var cmd = \"import bokeh.io.notebook as ion; ion.destroy_server('\" + server_id + \"')\";\n",
       "      cell.notebook.kernel.execute(cmd);\n",
       "    }\n",
       "  }\n",
       "\n",
       "  /**\n",
       "   * Handle when a new output is added\n",
       "   */\n",
       "  function handleAddOutput(event, handle) {\n",
       "    var output_area = handle.output_area;\n",
       "    var output = handle.output;\n",
       "\n",
       "    // limit handleAddOutput to display_data with EXEC_MIME_TYPE content only\n",
       "    if ((output.output_type != \"display_data\") || (!output.data.hasOwnProperty(EXEC_MIME_TYPE))) {\n",
       "      return\n",
       "    }\n",
       "\n",
       "    var toinsert = output_area.element.find(\".\" + CLASS_NAME.split(' ')[0]);\n",
       "\n",
       "    if (output.metadata[EXEC_MIME_TYPE][\"id\"] !== undefined) {\n",
       "      toinsert[toinsert.length - 1].firstChild.textContent = output.data[JS_MIME_TYPE];\n",
       "      // store reference to embed id on output_area\n",
       "      output_area._bokeh_element_id = output.metadata[EXEC_MIME_TYPE][\"id\"];\n",
       "    }\n",
       "    if (output.metadata[EXEC_MIME_TYPE][\"server_id\"] !== undefined) {\n",
       "      var bk_div = document.createElement(\"div\");\n",
       "      bk_div.innerHTML = output.data[HTML_MIME_TYPE];\n",
       "      var script_attrs = bk_div.children[0].attributes;\n",
       "      for (var i = 0; i < script_attrs.length; i++) {\n",
       "        toinsert[toinsert.length - 1].firstChild.setAttribute(script_attrs[i].name, script_attrs[i].value);\n",
       "        toinsert[toinsert.length - 1].firstChild.textContent = bk_div.children[0].textContent\n",
       "      }\n",
       "      // store reference to server id on output_area\n",
       "      output_area._bokeh_server_id = output.metadata[EXEC_MIME_TYPE][\"server_id\"];\n",
       "    }\n",
       "  }\n",
       "\n",
       "  function register_renderer(events, OutputArea) {\n",
       "\n",
       "    function append_mime(data, metadata, element) {\n",
       "      // create a DOM node to render to\n",
       "      var toinsert = this.create_output_subarea(\n",
       "        metadata,\n",
       "        CLASS_NAME,\n",
       "        EXEC_MIME_TYPE\n",
       "      );\n",
       "      this.keyboard_manager.register_events(toinsert);\n",
       "      // Render to node\n",
       "      var props = {data: data, metadata: metadata[EXEC_MIME_TYPE]};\n",
       "      render(props, toinsert[toinsert.length - 1]);\n",
       "      element.append(toinsert);\n",
       "      return toinsert\n",
       "    }\n",
       "\n",
       "    /* Handle when an output is cleared or removed */\n",
       "    events.on('clear_output.CodeCell', handleClearOutput);\n",
       "    events.on('delete.Cell', handleClearOutput);\n",
       "\n",
       "    /* Handle when a new output is added */\n",
       "    events.on('output_added.OutputArea', handleAddOutput);\n",
       "\n",
       "    /**\n",
       "     * Register the mime type and append_mime function with output_area\n",
       "     */\n",
       "    OutputArea.prototype.register_mime_type(EXEC_MIME_TYPE, append_mime, {\n",
       "      /* Is output safe? */\n",
       "      safe: true,\n",
       "      /* Index of renderer in `output_area.display_order` */\n",
       "      index: 0\n",
       "    });\n",
       "  }\n",
       "\n",
       "  // register the mime type if in Jupyter Notebook environment and previously unregistered\n",
       "  if (root.Jupyter !== undefined) {\n",
       "    var events = require('base/js/events');\n",
       "    var OutputArea = require('notebook/js/outputarea').OutputArea;\n",
       "\n",
       "    if (OutputArea.prototype.mime_types().indexOf(EXEC_MIME_TYPE) == -1) {\n",
       "      register_renderer(events, OutputArea);\n",
       "    }\n",
       "  }\n",
       "\n",
       "  \n",
       "  if (typeof (root._bokeh_timeout) === \"undefined\" || force === true) {\n",
       "    root._bokeh_timeout = Date.now() + 5000;\n",
       "    root._bokeh_failed_load = false;\n",
       "  }\n",
       "\n",
       "  var NB_LOAD_WARNING = {'data': {'text/html':\n",
       "     \"<div style='background-color: #fdd'>\\n\"+\n",
       "     \"<p>\\n\"+\n",
       "     \"BokehJS does not appear to have successfully loaded. If loading BokehJS from CDN, this \\n\"+\n",
       "     \"may be due to a slow or bad network connection. Possible fixes:\\n\"+\n",
       "     \"</p>\\n\"+\n",
       "     \"<ul>\\n\"+\n",
       "     \"<li>re-rerun `output_notebook()` to attempt to load from CDN again, or</li>\\n\"+\n",
       "     \"<li>use INLINE resources instead, as so:</li>\\n\"+\n",
       "     \"</ul>\\n\"+\n",
       "     \"<code>\\n\"+\n",
       "     \"from bokeh.resources import INLINE\\n\"+\n",
       "     \"output_notebook(resources=INLINE)\\n\"+\n",
       "     \"</code>\\n\"+\n",
       "     \"</div>\"}};\n",
       "\n",
       "  function display_loaded() {\n",
       "    var el = document.getElementById(\"5661\");\n",
       "    if (el != null) {\n",
       "      el.textContent = \"BokehJS is loading...\";\n",
       "    }\n",
       "    if (root.Bokeh !== undefined) {\n",
       "      if (el != null) {\n",
       "        el.textContent = \"BokehJS \" + root.Bokeh.version + \" successfully loaded.\";\n",
       "      }\n",
       "    } else if (Date.now() < root._bokeh_timeout) {\n",
       "      setTimeout(display_loaded, 100)\n",
       "    }\n",
       "  }\n",
       "\n",
       "\n",
       "  function run_callbacks() {\n",
       "    try {\n",
       "      root._bokeh_onload_callbacks.forEach(function(callback) {\n",
       "        if (callback != null)\n",
       "          callback();\n",
       "      });\n",
       "    } finally {\n",
       "      delete root._bokeh_onload_callbacks\n",
       "    }\n",
       "    console.debug(\"Bokeh: all callbacks have finished\");\n",
       "  }\n",
       "\n",
       "  function load_libs(css_urls, js_urls, callback) {\n",
       "    if (css_urls == null) css_urls = [];\n",
       "    if (js_urls == null) js_urls = [];\n",
       "\n",
       "    root._bokeh_onload_callbacks.push(callback);\n",
       "    if (root._bokeh_is_loading > 0) {\n",
       "      console.debug(\"Bokeh: BokehJS is being loaded, scheduling callback at\", now());\n",
       "      return null;\n",
       "    }\n",
       "    if (js_urls == null || js_urls.length === 0) {\n",
       "      run_callbacks();\n",
       "      return null;\n",
       "    }\n",
       "    console.debug(\"Bokeh: BokehJS not loaded, scheduling load and callback at\", now());\n",
       "    root._bokeh_is_loading = css_urls.length + js_urls.length;\n",
       "\n",
       "    function on_load() {\n",
       "      root._bokeh_is_loading--;\n",
       "      if (root._bokeh_is_loading === 0) {\n",
       "        console.debug(\"Bokeh: all BokehJS libraries/stylesheets loaded\");\n",
       "        run_callbacks()\n",
       "      }\n",
       "    }\n",
       "\n",
       "    function on_error() {\n",
       "      console.error(\"failed to load \" + url);\n",
       "    }\n",
       "\n",
       "    for (var i = 0; i < css_urls.length; i++) {\n",
       "      var url = css_urls[i];\n",
       "      const element = document.createElement(\"link\");\n",
       "      element.onload = on_load;\n",
       "      element.onerror = on_error;\n",
       "      element.rel = \"stylesheet\";\n",
       "      element.type = \"text/css\";\n",
       "      element.href = url;\n",
       "      console.debug(\"Bokeh: injecting link tag for BokehJS stylesheet: \", url);\n",
       "      document.body.appendChild(element);\n",
       "    }\n",
       "\n",
       "    const hashes = {\"https://cdn.bokeh.org/bokeh/release/bokeh-2.2.3.min.js\": \"T2yuo9Oe71Cz/I4X9Ac5+gpEa5a8PpJCDlqKYO0CfAuEszu1JrXLl8YugMqYe3sM\", \"https://cdn.bokeh.org/bokeh/release/bokeh-widgets-2.2.3.min.js\": \"98GDGJ0kOMCUMUePhksaQ/GYgB3+NH9h996V88sh3aOiUNX3N+fLXAtry6xctSZ6\", \"https://cdn.bokeh.org/bokeh/release/bokeh-tables-2.2.3.min.js\": \"89bArO+nlbP3sgakeHjCo1JYxYR5wufVgA3IbUvDY+K7w4zyxJqssu7wVnfeKCq8\"};\n",
       "\n",
       "    for (var i = 0; i < js_urls.length; i++) {\n",
       "      var url = js_urls[i];\n",
       "      var element = document.createElement('script');\n",
       "      element.onload = on_load;\n",
       "      element.onerror = on_error;\n",
       "      element.async = false;\n",
       "      element.src = url;\n",
       "      if (url in hashes) {\n",
       "        element.crossOrigin = \"anonymous\";\n",
       "        element.integrity = \"sha384-\" + hashes[url];\n",
       "      }\n",
       "      console.debug(\"Bokeh: injecting script tag for BokehJS library: \", url);\n",
       "      document.head.appendChild(element);\n",
       "    }\n",
       "  };\n",
       "\n",
       "  function inject_raw_css(css) {\n",
       "    const element = document.createElement(\"style\");\n",
       "    element.appendChild(document.createTextNode(css));\n",
       "    document.body.appendChild(element);\n",
       "  }\n",
       "\n",
       "  \n",
       "  var js_urls = [\"https://cdn.bokeh.org/bokeh/release/bokeh-2.2.3.min.js\", \"https://cdn.bokeh.org/bokeh/release/bokeh-widgets-2.2.3.min.js\", \"https://cdn.bokeh.org/bokeh/release/bokeh-tables-2.2.3.min.js\"];\n",
       "  var css_urls = [];\n",
       "  \n",
       "\n",
       "  var inline_js = [\n",
       "    function(Bokeh) {\n",
       "      Bokeh.set_log_level(\"info\");\n",
       "    },\n",
       "    function(Bokeh) {\n",
       "    \n",
       "    \n",
       "    }\n",
       "  ];\n",
       "\n",
       "  function run_inline_js() {\n",
       "    \n",
       "    if (root.Bokeh !== undefined || force === true) {\n",
       "      \n",
       "    for (var i = 0; i < inline_js.length; i++) {\n",
       "      inline_js[i].call(root, root.Bokeh);\n",
       "    }\n",
       "    if (force === true) {\n",
       "        display_loaded();\n",
       "      }} else if (Date.now() < root._bokeh_timeout) {\n",
       "      setTimeout(run_inline_js, 100);\n",
       "    } else if (!root._bokeh_failed_load) {\n",
       "      console.log(\"Bokeh: BokehJS failed to load within specified timeout.\");\n",
       "      root._bokeh_failed_load = true;\n",
       "    } else if (force !== true) {\n",
       "      var cell = $(document.getElementById(\"5661\")).parents('.cell').data().cell;\n",
       "      cell.output_area.append_execute_result(NB_LOAD_WARNING)\n",
       "    }\n",
       "\n",
       "  }\n",
       "\n",
       "  if (root._bokeh_is_loading === 0) {\n",
       "    console.debug(\"Bokeh: BokehJS loaded, going straight to plotting\");\n",
       "    run_inline_js();\n",
       "  } else {\n",
       "    load_libs(css_urls, js_urls, function() {\n",
       "      console.debug(\"Bokeh: BokehJS plotting callback run at\", now());\n",
       "      run_inline_js();\n",
       "    });\n",
       "  }\n",
       "}(window));"
      ],
      "application/vnd.bokehjs_load.v0+json": "\n(function(root) {\n  function now() {\n    return new Date();\n  }\n\n  var force = true;\n\n  if (typeof root._bokeh_onload_callbacks === \"undefined\" || force === true) {\n    root._bokeh_onload_callbacks = [];\n    root._bokeh_is_loading = undefined;\n  }\n\n  \n\n  \n  if (typeof (root._bokeh_timeout) === \"undefined\" || force === true) {\n    root._bokeh_timeout = Date.now() + 5000;\n    root._bokeh_failed_load = false;\n  }\n\n  var NB_LOAD_WARNING = {'data': {'text/html':\n     \"<div style='background-color: #fdd'>\\n\"+\n     \"<p>\\n\"+\n     \"BokehJS does not appear to have successfully loaded. If loading BokehJS from CDN, this \\n\"+\n     \"may be due to a slow or bad network connection. Possible fixes:\\n\"+\n     \"</p>\\n\"+\n     \"<ul>\\n\"+\n     \"<li>re-rerun `output_notebook()` to attempt to load from CDN again, or</li>\\n\"+\n     \"<li>use INLINE resources instead, as so:</li>\\n\"+\n     \"</ul>\\n\"+\n     \"<code>\\n\"+\n     \"from bokeh.resources import INLINE\\n\"+\n     \"output_notebook(resources=INLINE)\\n\"+\n     \"</code>\\n\"+\n     \"</div>\"}};\n\n  function display_loaded() {\n    var el = document.getElementById(\"5661\");\n    if (el != null) {\n      el.textContent = \"BokehJS is loading...\";\n    }\n    if (root.Bokeh !== undefined) {\n      if (el != null) {\n        el.textContent = \"BokehJS \" + root.Bokeh.version + \" successfully loaded.\";\n      }\n    } else if (Date.now() < root._bokeh_timeout) {\n      setTimeout(display_loaded, 100)\n    }\n  }\n\n\n  function run_callbacks() {\n    try {\n      root._bokeh_onload_callbacks.forEach(function(callback) {\n        if (callback != null)\n          callback();\n      });\n    } finally {\n      delete root._bokeh_onload_callbacks\n    }\n    console.debug(\"Bokeh: all callbacks have finished\");\n  }\n\n  function load_libs(css_urls, js_urls, callback) {\n    if (css_urls == null) css_urls = [];\n    if (js_urls == null) js_urls = [];\n\n    root._bokeh_onload_callbacks.push(callback);\n    if (root._bokeh_is_loading > 0) {\n      console.debug(\"Bokeh: BokehJS is being loaded, scheduling callback at\", now());\n      return null;\n    }\n    if (js_urls == null || js_urls.length === 0) {\n      run_callbacks();\n      return null;\n    }\n    console.debug(\"Bokeh: BokehJS not loaded, scheduling load and callback at\", now());\n    root._bokeh_is_loading = css_urls.length + js_urls.length;\n\n    function on_load() {\n      root._bokeh_is_loading--;\n      if (root._bokeh_is_loading === 0) {\n        console.debug(\"Bokeh: all BokehJS libraries/stylesheets loaded\");\n        run_callbacks()\n      }\n    }\n\n    function on_error() {\n      console.error(\"failed to load \" + url);\n    }\n\n    for (var i = 0; i < css_urls.length; i++) {\n      var url = css_urls[i];\n      const element = document.createElement(\"link\");\n      element.onload = on_load;\n      element.onerror = on_error;\n      element.rel = \"stylesheet\";\n      element.type = \"text/css\";\n      element.href = url;\n      console.debug(\"Bokeh: injecting link tag for BokehJS stylesheet: \", url);\n      document.body.appendChild(element);\n    }\n\n    const hashes = {\"https://cdn.bokeh.org/bokeh/release/bokeh-2.2.3.min.js\": \"T2yuo9Oe71Cz/I4X9Ac5+gpEa5a8PpJCDlqKYO0CfAuEszu1JrXLl8YugMqYe3sM\", \"https://cdn.bokeh.org/bokeh/release/bokeh-widgets-2.2.3.min.js\": \"98GDGJ0kOMCUMUePhksaQ/GYgB3+NH9h996V88sh3aOiUNX3N+fLXAtry6xctSZ6\", \"https://cdn.bokeh.org/bokeh/release/bokeh-tables-2.2.3.min.js\": \"89bArO+nlbP3sgakeHjCo1JYxYR5wufVgA3IbUvDY+K7w4zyxJqssu7wVnfeKCq8\"};\n\n    for (var i = 0; i < js_urls.length; i++) {\n      var url = js_urls[i];\n      var element = document.createElement('script');\n      element.onload = on_load;\n      element.onerror = on_error;\n      element.async = false;\n      element.src = url;\n      if (url in hashes) {\n        element.crossOrigin = \"anonymous\";\n        element.integrity = \"sha384-\" + hashes[url];\n      }\n      console.debug(\"Bokeh: injecting script tag for BokehJS library: \", url);\n      document.head.appendChild(element);\n    }\n  };\n\n  function inject_raw_css(css) {\n    const element = document.createElement(\"style\");\n    element.appendChild(document.createTextNode(css));\n    document.body.appendChild(element);\n  }\n\n  \n  var js_urls = [\"https://cdn.bokeh.org/bokeh/release/bokeh-2.2.3.min.js\", \"https://cdn.bokeh.org/bokeh/release/bokeh-widgets-2.2.3.min.js\", \"https://cdn.bokeh.org/bokeh/release/bokeh-tables-2.2.3.min.js\"];\n  var css_urls = [];\n  \n\n  var inline_js = [\n    function(Bokeh) {\n      Bokeh.set_log_level(\"info\");\n    },\n    function(Bokeh) {\n    \n    \n    }\n  ];\n\n  function run_inline_js() {\n    \n    if (root.Bokeh !== undefined || force === true) {\n      \n    for (var i = 0; i < inline_js.length; i++) {\n      inline_js[i].call(root, root.Bokeh);\n    }\n    if (force === true) {\n        display_loaded();\n      }} else if (Date.now() < root._bokeh_timeout) {\n      setTimeout(run_inline_js, 100);\n    } else if (!root._bokeh_failed_load) {\n      console.log(\"Bokeh: BokehJS failed to load within specified timeout.\");\n      root._bokeh_failed_load = true;\n    } else if (force !== true) {\n      var cell = $(document.getElementById(\"5661\")).parents('.cell').data().cell;\n      cell.output_area.append_execute_result(NB_LOAD_WARNING)\n    }\n\n  }\n\n  if (root._bokeh_is_loading === 0) {\n    console.debug(\"Bokeh: BokehJS loaded, going straight to plotting\");\n    run_inline_js();\n  } else {\n    load_libs(css_urls, js_urls, function() {\n      console.debug(\"Bokeh: BokehJS plotting callback run at\", now());\n      run_inline_js();\n    });\n  }\n}(window));"
     },
     "metadata": {},
     "output_type": "display_data"
    },
    {
     "name": "stdout",
     "output_type": "stream",
     "text": [
      "No     68\n",
      "Yes    36\n",
      "Name: Enough, dtype: int64\n",
      "\n",
      "Yes    72\n",
      "No     32\n",
      "Name: PhoneReach, dtype: int64\n",
      "\n",
      "Yes    84\n",
      "No     20\n",
      "Name: PhoneTime, dtype: int64\n",
      "\n",
      "3    40\n",
      "2    27\n",
      "4    23\n",
      "5    10\n",
      "1     4\n",
      "Name: Tired, dtype: int64\n",
      "\n",
      "Yes    63\n",
      "No     41\n",
      "Name: Breakfast, dtype: int64\n",
      "\n"
     ]
    },
    {
     "data": {
      "text/html": [
       "\n",
       "\n",
       "\n",
       "\n",
       "\n",
       "\n",
       "  <div class=\"bk-root\" id=\"bb4a2000-50b8-4693-aa9c-2bbe4f33c3dc\" data-root-id=\"5895\"></div>\n"
      ]
     },
     "metadata": {},
     "output_type": "display_data"
    },
    {
     "data": {
      "application/javascript": [
       "(function(root) {\n",
       "  function embed_document(root) {\n",
       "    \n",
       "  var docs_json = {\"5dd1f5d3-6f76-4ff6-818b-3e109ee3d0b0\":{\"roots\":{\"references\":[{\"attributes\":{\"children\":[{\"id\":\"5894\"},{\"id\":\"5892\"}]},\"id\":\"5895\",\"type\":\"Column\"},{\"attributes\":{\"data_source\":{\"id\":\"5694\"},\"glyph\":{\"id\":\"5695\"},\"hover_glyph\":null,\"muted_glyph\":null,\"nonselection_glyph\":{\"id\":\"5696\"},\"selection_glyph\":null,\"view\":{\"id\":\"5698\"}},\"id\":\"5697\",\"type\":\"GlyphRenderer\"},{\"attributes\":{\"source\":{\"id\":\"5731\"}},\"id\":\"5735\",\"type\":\"CDSView\"},{\"attributes\":{\"children\":[[{\"id\":\"5662\"},0,0],[{\"id\":\"5699\"},0,1],[{\"id\":\"5736\"},1,0],[{\"id\":\"5773\"},1,1],[{\"id\":\"5810\"},2,0]]},\"id\":\"5892\",\"type\":\"GridBox\"},{\"attributes\":{},\"id\":\"5708\",\"type\":\"LinearScale\"},{\"attributes\":{},\"id\":\"5780\",\"type\":\"CategoricalScale\"},{\"attributes\":{},\"id\":\"5680\",\"type\":\"PanTool\"},{\"attributes\":{\"start\":0},\"id\":\"5741\",\"type\":\"DataRange1d\"},{\"attributes\":{\"below\":[{\"id\":\"5747\"}],\"center\":[{\"id\":\"5749\"},{\"id\":\"5753\"}],\"left\":[{\"id\":\"5750\"}],\"plot_height\":300,\"plot_width\":450,\"renderers\":[{\"id\":\"5771\"}],\"title\":{\"id\":\"5737\"},\"toolbar\":{\"id\":\"5761\"},\"toolbar_location\":null,\"x_range\":{\"id\":\"5739\"},\"x_scale\":{\"id\":\"5743\"},\"y_range\":{\"id\":\"5741\"},\"y_scale\":{\"id\":\"5745\"}},\"id\":\"5736\",\"subtype\":\"Figure\",\"type\":\"Plot\"},{\"attributes\":{},\"id\":\"5782\",\"type\":\"LinearScale\"},{\"attributes\":{},\"id\":\"5681\",\"type\":\"WheelZoomTool\"},{\"attributes\":{\"axis\":{\"id\":\"5784\"},\"grid_line_color\":null,\"ticker\":null},\"id\":\"5786\",\"type\":\"Grid\"},{\"attributes\":{\"overlay\":{\"id\":\"5686\"}},\"id\":\"5682\",\"type\":\"BoxZoomTool\"},{\"attributes\":{\"axis_label\":\"count\",\"formatter\":{\"id\":\"5878\"},\"ticker\":{\"id\":\"5788\"}},\"id\":\"5787\",\"type\":\"LinearAxis\"},{\"attributes\":{},\"id\":\"5683\",\"type\":\"SaveTool\"},{\"attributes\":{},\"id\":\"5788\",\"type\":\"BasicTicker\"},{\"attributes\":{},\"id\":\"5684\",\"type\":\"ResetTool\"},{\"attributes\":{\"factors\":[\"Yes\",\"No\"]},\"id\":\"5739\",\"type\":\"FactorRange\"},{\"attributes\":{\"axis\":{\"id\":\"5787\"},\"dimension\":1,\"ticker\":null},\"id\":\"5790\",\"type\":\"Grid\"},{\"attributes\":{},\"id\":\"5685\",\"type\":\"HelpTool\"},{\"attributes\":{\"text\":\"PhoneTime\"},\"id\":\"5737\",\"type\":\"Title\"},{\"attributes\":{\"below\":[{\"id\":\"5821\"}],\"center\":[{\"id\":\"5823\"},{\"id\":\"5827\"}],\"left\":[{\"id\":\"5824\"}],\"plot_height\":300,\"plot_width\":450,\"renderers\":[{\"id\":\"5845\"}],\"title\":{\"id\":\"5811\"},\"toolbar\":{\"id\":\"5835\"},\"toolbar_location\":null,\"x_range\":{\"id\":\"5813\"},\"x_scale\":{\"id\":\"5817\"},\"y_range\":{\"id\":\"5815\"},\"y_scale\":{\"id\":\"5819\"}},\"id\":\"5810\",\"subtype\":\"Figure\",\"type\":\"Plot\"},{\"attributes\":{\"data_source\":{\"id\":\"5805\"},\"glyph\":{\"id\":\"5806\"},\"hover_glyph\":null,\"muted_glyph\":null,\"nonselection_glyph\":{\"id\":\"5807\"},\"selection_glyph\":null,\"view\":{\"id\":\"5809\"}},\"id\":\"5808\",\"type\":\"GlyphRenderer\"},{\"attributes\":{\"active_drag\":\"auto\",\"active_inspect\":\"auto\",\"active_multi\":null,\"active_scroll\":\"auto\",\"active_tap\":\"auto\",\"tools\":[{\"id\":\"5680\"},{\"id\":\"5681\"},{\"id\":\"5682\"},{\"id\":\"5683\"},{\"id\":\"5684\"},{\"id\":\"5685\"}]},\"id\":\"5687\",\"type\":\"Toolbar\"},{\"attributes\":{},\"id\":\"5743\",\"type\":\"CategoricalScale\"},{\"attributes\":{\"bottom_units\":\"screen\",\"fill_alpha\":0.5,\"fill_color\":\"lightgrey\",\"left_units\":\"screen\",\"level\":\"overlay\",\"line_alpha\":1.0,\"line_color\":\"black\",\"line_dash\":[4,4],\"line_width\":2,\"right_units\":\"screen\",\"top_units\":\"screen\"},\"id\":\"5686\",\"type\":\"BoxAnnotation\"},{\"attributes\":{},\"id\":\"5791\",\"type\":\"PanTool\"},{\"attributes\":{},\"id\":\"5745\",\"type\":\"LinearScale\"},{\"attributes\":{\"source\":{\"id\":\"5694\"}},\"id\":\"5698\",\"type\":\"CDSView\"},{\"attributes\":{},\"id\":\"5792\",\"type\":\"WheelZoomTool\"},{\"attributes\":{\"axis_label\":\"value\",\"formatter\":{\"id\":\"5867\"},\"ticker\":{\"id\":\"5748\"}},\"id\":\"5747\",\"type\":\"CategoricalAxis\"},{\"attributes\":{\"fill_alpha\":{\"value\":0.1},\"fill_color\":{\"value\":\"green\"},\"line_alpha\":{\"value\":0.1},\"line_color\":{\"value\":\"green\"},\"top\":{\"field\":\"top\"},\"width\":{\"value\":0.8},\"x\":{\"field\":\"x\"}},\"id\":\"5696\",\"type\":\"VBar\"},{\"attributes\":{\"overlay\":{\"id\":\"5797\"}},\"id\":\"5793\",\"type\":\"BoxZoomTool\"},{\"attributes\":{},\"id\":\"5748\",\"type\":\"CategoricalTicker\"},{\"attributes\":{},\"id\":\"5794\",\"type\":\"SaveTool\"},{\"attributes\":{\"axis\":{\"id\":\"5747\"},\"grid_line_color\":null,\"ticker\":null},\"id\":\"5749\",\"type\":\"Grid\"},{\"attributes\":{},\"id\":\"5711\",\"type\":\"CategoricalTicker\"},{\"attributes\":{},\"id\":\"5795\",\"type\":\"ResetTool\"},{\"attributes\":{\"axis_label\":\"count\",\"formatter\":{\"id\":\"5869\"},\"ticker\":{\"id\":\"5751\"}},\"id\":\"5750\",\"type\":\"LinearAxis\"},{\"attributes\":{},\"id\":\"5796\",\"type\":\"HelpTool\"},{\"attributes\":{},\"id\":\"5751\",\"type\":\"BasicTicker\"},{\"attributes\":{\"axis\":{\"id\":\"5750\"},\"dimension\":1,\"ticker\":null},\"id\":\"5753\",\"type\":\"Grid\"},{\"attributes\":{},\"id\":\"5858\",\"type\":\"CategoricalTickFormatter\"},{\"attributes\":{\"fill_color\":{\"value\":\"green\"},\"line_color\":{\"value\":\"green\"},\"top\":{\"field\":\"top\"},\"width\":{\"value\":0.8},\"x\":{\"field\":\"x\"}},\"id\":\"5806\",\"type\":\"VBar\"},{\"attributes\":{\"active_drag\":\"auto\",\"active_inspect\":\"auto\",\"active_multi\":null,\"active_scroll\":\"auto\",\"active_tap\":\"auto\",\"tools\":[{\"id\":\"5791\"},{\"id\":\"5792\"},{\"id\":\"5793\"},{\"id\":\"5794\"},{\"id\":\"5795\"},{\"id\":\"5796\"}]},\"id\":\"5798\",\"type\":\"Toolbar\"},{\"attributes\":{\"data_source\":{\"id\":\"5768\"},\"glyph\":{\"id\":\"5769\"},\"hover_glyph\":null,\"muted_glyph\":null,\"nonselection_glyph\":{\"id\":\"5770\"},\"selection_glyph\":null,\"view\":{\"id\":\"5772\"}},\"id\":\"5771\",\"type\":\"GlyphRenderer\"},{\"attributes\":{\"axis_label\":\"value\",\"formatter\":{\"id\":\"5858\"},\"ticker\":{\"id\":\"5711\"}},\"id\":\"5710\",\"type\":\"CategoricalAxis\"},{\"attributes\":{\"bottom_units\":\"screen\",\"fill_alpha\":0.5,\"fill_color\":\"lightgrey\",\"left_units\":\"screen\",\"level\":\"overlay\",\"line_alpha\":1.0,\"line_color\":\"black\",\"line_dash\":[4,4],\"line_width\":2,\"right_units\":\"screen\",\"top_units\":\"screen\"},\"id\":\"5797\",\"type\":\"BoxAnnotation\"},{\"attributes\":{\"fill_alpha\":{\"value\":0.1},\"fill_color\":{\"value\":\"green\"},\"line_alpha\":{\"value\":0.1},\"line_color\":{\"value\":\"green\"},\"top\":{\"field\":\"top\"},\"width\":{\"value\":0.8},\"x\":{\"field\":\"x\"}},\"id\":\"5733\",\"type\":\"VBar\"},{\"attributes\":{\"data\":{\"top\":[84,20],\"x\":[\"Yes\",\"No\"]},\"selected\":{\"id\":\"5871\"},\"selection_policy\":{\"id\":\"5870\"}},\"id\":\"5768\",\"type\":\"ColumnDataSource\"},{\"attributes\":{\"text\":\"PhoneReach\"},\"id\":\"5700\",\"type\":\"Title\"},{\"attributes\":{},\"id\":\"5754\",\"type\":\"PanTool\"},{\"attributes\":{\"source\":{\"id\":\"5805\"}},\"id\":\"5809\",\"type\":\"CDSView\"},{\"attributes\":{},\"id\":\"5755\",\"type\":\"WheelZoomTool\"},{\"attributes\":{\"axis\":{\"id\":\"5710\"},\"grid_line_color\":null,\"ticker\":null},\"id\":\"5712\",\"type\":\"Grid\"},{\"attributes\":{\"start\":0},\"id\":\"5815\",\"type\":\"DataRange1d\"},{\"attributes\":{\"overlay\":{\"id\":\"5760\"}},\"id\":\"5756\",\"type\":\"BoxZoomTool\"},{\"attributes\":{\"axis_label\":\"count\",\"formatter\":{\"id\":\"5860\"},\"ticker\":{\"id\":\"5714\"}},\"id\":\"5713\",\"type\":\"LinearAxis\"},{\"attributes\":{\"fill_alpha\":{\"value\":0.1},\"fill_color\":{\"value\":\"green\"},\"line_alpha\":{\"value\":0.1},\"line_color\":{\"value\":\"green\"},\"top\":{\"field\":\"top\"},\"width\":{\"value\":0.8},\"x\":{\"field\":\"x\"}},\"id\":\"5807\",\"type\":\"VBar\"},{\"attributes\":{},\"id\":\"5757\",\"type\":\"SaveTool\"},{\"attributes\":{},\"id\":\"5714\",\"type\":\"BasicTicker\"},{\"attributes\":{},\"id\":\"5758\",\"type\":\"ResetTool\"},{\"attributes\":{\"axis\":{\"id\":\"5713\"},\"dimension\":1,\"ticker\":null},\"id\":\"5716\",\"type\":\"Grid\"},{\"attributes\":{},\"id\":\"5759\",\"type\":\"HelpTool\"},{\"attributes\":{\"factors\":[\"Yes\",\"No\"]},\"id\":\"5813\",\"type\":\"FactorRange\"},{\"attributes\":{\"axis_label\":\"value\",\"formatter\":{\"id\":\"5876\"},\"ticker\":{\"id\":\"5785\"}},\"id\":\"5784\",\"type\":\"CategoricalAxis\"},{\"attributes\":{\"data\":{\"top\":[72,32],\"x\":[\"Yes\",\"No\"]},\"selected\":{\"id\":\"5862\"},\"selection_policy\":{\"id\":\"5861\"}},\"id\":\"5731\",\"type\":\"ColumnDataSource\"},{\"attributes\":{\"fill_color\":{\"value\":\"green\"},\"line_color\":{\"value\":\"green\"},\"top\":{\"field\":\"top\"},\"width\":{\"value\":0.8},\"x\":{\"field\":\"x\"}},\"id\":\"5769\",\"type\":\"VBar\"},{\"attributes\":{\"fill_color\":{\"value\":\"green\"},\"line_color\":{\"value\":\"green\"},\"top\":{\"field\":\"top\"},\"width\":{\"value\":0.8},\"x\":{\"field\":\"x\"}},\"id\":\"5843\",\"type\":\"VBar\"},{\"attributes\":{\"active_drag\":\"auto\",\"active_inspect\":\"auto\",\"active_multi\":null,\"active_scroll\":\"auto\",\"active_tap\":\"auto\",\"tools\":[{\"id\":\"5754\"},{\"id\":\"5755\"},{\"id\":\"5756\"},{\"id\":\"5757\"},{\"id\":\"5758\"},{\"id\":\"5759\"}]},\"id\":\"5761\",\"type\":\"Toolbar\"},{\"attributes\":{\"text\":\"Breakfast\"},\"id\":\"5811\",\"type\":\"Title\"},{\"attributes\":{},\"id\":\"5717\",\"type\":\"PanTool\"},{\"attributes\":{\"bottom_units\":\"screen\",\"fill_alpha\":0.5,\"fill_color\":\"lightgrey\",\"left_units\":\"screen\",\"level\":\"overlay\",\"line_alpha\":1.0,\"line_color\":\"black\",\"line_dash\":[4,4],\"line_width\":2,\"right_units\":\"screen\",\"top_units\":\"screen\"},\"id\":\"5760\",\"type\":\"BoxAnnotation\"},{\"attributes\":{},\"id\":\"5718\",\"type\":\"WheelZoomTool\"},{\"attributes\":{},\"id\":\"5817\",\"type\":\"CategoricalScale\"},{\"attributes\":{\"start\":0},\"id\":\"5704\",\"type\":\"DataRange1d\"},{\"attributes\":{\"overlay\":{\"id\":\"5723\"}},\"id\":\"5719\",\"type\":\"BoxZoomTool\"},{\"attributes\":{},\"id\":\"5819\",\"type\":\"LinearScale\"},{\"attributes\":{\"source\":{\"id\":\"5768\"}},\"id\":\"5772\",\"type\":\"CDSView\"},{\"attributes\":{},\"id\":\"5720\",\"type\":\"SaveTool\"},{\"attributes\":{\"axis_label\":\"value\",\"formatter\":{\"id\":\"5885\"},\"ticker\":{\"id\":\"5822\"}},\"id\":\"5821\",\"type\":\"CategoricalAxis\"},{\"attributes\":{\"below\":[{\"id\":\"5784\"}],\"center\":[{\"id\":\"5786\"},{\"id\":\"5790\"}],\"left\":[{\"id\":\"5787\"}],\"plot_height\":300,\"plot_width\":450,\"renderers\":[{\"id\":\"5808\"}],\"title\":{\"id\":\"5774\"},\"toolbar\":{\"id\":\"5798\"},\"toolbar_location\":null,\"x_range\":{\"id\":\"5776\"},\"x_scale\":{\"id\":\"5780\"},\"y_range\":{\"id\":\"5778\"},\"y_scale\":{\"id\":\"5782\"}},\"id\":\"5773\",\"subtype\":\"Figure\",\"type\":\"Plot\"},{\"attributes\":{},\"id\":\"5721\",\"type\":\"ResetTool\"},{\"attributes\":{\"fill_alpha\":{\"value\":0.1},\"fill_color\":{\"value\":\"green\"},\"line_alpha\":{\"value\":0.1},\"line_color\":{\"value\":\"green\"},\"top\":{\"field\":\"top\"},\"width\":{\"value\":0.8},\"x\":{\"field\":\"x\"}},\"id\":\"5770\",\"type\":\"VBar\"},{\"attributes\":{},\"id\":\"5822\",\"type\":\"CategoricalTicker\"},{\"attributes\":{\"data\":{\"top\":[40,27,23,10,4],\"x\":[\"3\",\"2\",\"4\",\"5\",\"1\"]},\"selected\":{\"id\":\"5880\"},\"selection_policy\":{\"id\":\"5879\"}},\"id\":\"5805\",\"type\":\"ColumnDataSource\"},{\"attributes\":{},\"id\":\"5722\",\"type\":\"HelpTool\"},{\"attributes\":{\"axis\":{\"id\":\"5821\"},\"grid_line_color\":null,\"ticker\":null},\"id\":\"5823\",\"type\":\"Grid\"},{\"attributes\":{\"text\":\"Tired\"},\"id\":\"5774\",\"type\":\"Title\"},{\"attributes\":{\"factors\":[\"Yes\",\"No\"]},\"id\":\"5702\",\"type\":\"FactorRange\"},{\"attributes\":{\"axis_label\":\"count\",\"formatter\":{\"id\":\"5887\"},\"ticker\":{\"id\":\"5825\"}},\"id\":\"5824\",\"type\":\"LinearAxis\"},{\"attributes\":{},\"id\":\"5785\",\"type\":\"CategoricalTicker\"},{\"attributes\":{\"fill_color\":{\"value\":\"green\"},\"line_color\":{\"value\":\"green\"},\"top\":{\"field\":\"top\"},\"width\":{\"value\":0.8},\"x\":{\"field\":\"x\"}},\"id\":\"5732\",\"type\":\"VBar\"},{\"attributes\":{\"active_drag\":\"auto\",\"active_inspect\":\"auto\",\"active_multi\":null,\"active_scroll\":\"auto\",\"active_tap\":\"auto\",\"tools\":[{\"id\":\"5717\"},{\"id\":\"5718\"},{\"id\":\"5719\"},{\"id\":\"5720\"},{\"id\":\"5721\"},{\"id\":\"5722\"}]},\"id\":\"5724\",\"type\":\"Toolbar\"},{\"attributes\":{},\"id\":\"5825\",\"type\":\"BasicTicker\"},{\"attributes\":{\"bottom_units\":\"screen\",\"fill_alpha\":0.5,\"fill_color\":\"lightgrey\",\"left_units\":\"screen\",\"level\":\"overlay\",\"line_alpha\":1.0,\"line_color\":\"black\",\"line_dash\":[4,4],\"line_width\":2,\"right_units\":\"screen\",\"top_units\":\"screen\"},\"id\":\"5723\",\"type\":\"BoxAnnotation\"},{\"attributes\":{\"axis\":{\"id\":\"5824\"},\"dimension\":1,\"ticker\":null},\"id\":\"5827\",\"type\":\"Grid\"},{\"attributes\":{\"data_source\":{\"id\":\"5731\"},\"glyph\":{\"id\":\"5732\"},\"hover_glyph\":null,\"muted_glyph\":null,\"nonselection_glyph\":{\"id\":\"5733\"},\"selection_glyph\":null,\"view\":{\"id\":\"5735\"}},\"id\":\"5734\",\"type\":\"GlyphRenderer\"},{\"attributes\":{\"factors\":[\"3\",\"2\",\"4\",\"5\",\"1\"]},\"id\":\"5776\",\"type\":\"FactorRange\"},{\"attributes\":{\"data\":{\"top\":[63,41],\"x\":[\"Yes\",\"No\"]},\"selected\":{\"id\":\"5889\"},\"selection_policy\":{\"id\":\"5888\"}},\"id\":\"5842\",\"type\":\"ColumnDataSource\"},{\"attributes\":{\"fill_alpha\":{\"value\":0.1},\"fill_color\":{\"value\":\"green\"},\"line_alpha\":{\"value\":0.1},\"line_color\":{\"value\":\"green\"},\"top\":{\"field\":\"top\"},\"width\":{\"value\":0.8},\"x\":{\"field\":\"x\"}},\"id\":\"5844\",\"type\":\"VBar\"},{\"attributes\":{\"data_source\":{\"id\":\"5842\"},\"glyph\":{\"id\":\"5843\"},\"hover_glyph\":null,\"muted_glyph\":null,\"nonselection_glyph\":{\"id\":\"5844\"},\"selection_glyph\":null,\"view\":{\"id\":\"5846\"}},\"id\":\"5845\",\"type\":\"GlyphRenderer\"},{\"attributes\":{\"below\":[{\"id\":\"5710\"}],\"center\":[{\"id\":\"5712\"},{\"id\":\"5716\"}],\"left\":[{\"id\":\"5713\"}],\"plot_height\":300,\"plot_width\":450,\"renderers\":[{\"id\":\"5734\"}],\"title\":{\"id\":\"5700\"},\"toolbar\":{\"id\":\"5724\"},\"toolbar_location\":null,\"x_range\":{\"id\":\"5702\"},\"x_scale\":{\"id\":\"5706\"},\"y_range\":{\"id\":\"5704\"},\"y_scale\":{\"id\":\"5708\"}},\"id\":\"5699\",\"subtype\":\"Figure\",\"type\":\"Plot\"},{\"attributes\":{},\"id\":\"5828\",\"type\":\"PanTool\"},{\"attributes\":{},\"id\":\"5829\",\"type\":\"WheelZoomTool\"},{\"attributes\":{\"overlay\":{\"id\":\"5834\"}},\"id\":\"5830\",\"type\":\"BoxZoomTool\"},{\"attributes\":{},\"id\":\"5831\",\"type\":\"SaveTool\"},{\"attributes\":{},\"id\":\"5832\",\"type\":\"ResetTool\"},{\"attributes\":{},\"id\":\"5833\",\"type\":\"HelpTool\"},{\"attributes\":{},\"id\":\"5860\",\"type\":\"BasicTickFormatter\"},{\"attributes\":{\"active_drag\":\"auto\",\"active_inspect\":\"auto\",\"active_multi\":null,\"active_scroll\":\"auto\",\"active_tap\":\"auto\",\"tools\":[{\"id\":\"5828\"},{\"id\":\"5829\"},{\"id\":\"5830\"},{\"id\":\"5831\"},{\"id\":\"5832\"},{\"id\":\"5833\"}]},\"id\":\"5835\",\"type\":\"Toolbar\"},{\"attributes\":{\"start\":0},\"id\":\"5778\",\"type\":\"DataRange1d\"},{\"attributes\":{\"bottom_units\":\"screen\",\"fill_alpha\":0.5,\"fill_color\":\"lightgrey\",\"left_units\":\"screen\",\"level\":\"overlay\",\"line_alpha\":1.0,\"line_color\":\"black\",\"line_dash\":[4,4],\"line_width\":2,\"right_units\":\"screen\",\"top_units\":\"screen\"},\"id\":\"5834\",\"type\":\"BoxAnnotation\"},{\"attributes\":{\"source\":{\"id\":\"5842\"}},\"id\":\"5846\",\"type\":\"CDSView\"},{\"attributes\":{},\"id\":\"5849\",\"type\":\"CategoricalTickFormatter\"},{\"attributes\":{},\"id\":\"5851\",\"type\":\"BasicTickFormatter\"},{\"attributes\":{\"data\":{\"top\":[68,36],\"x\":[\"No\",\"Yes\"]},\"selected\":{\"id\":\"5853\"},\"selection_policy\":{\"id\":\"5852\"}},\"id\":\"5694\",\"type\":\"ColumnDataSource\"},{\"attributes\":{},\"id\":\"5852\",\"type\":\"UnionRenderers\"},{\"attributes\":{},\"id\":\"5706\",\"type\":\"CategoricalScale\"},{\"attributes\":{\"axis\":{\"id\":\"5676\"},\"dimension\":1,\"ticker\":null},\"id\":\"5679\",\"type\":\"Grid\"},{\"attributes\":{},\"id\":\"5853\",\"type\":\"Selection\"},{\"attributes\":{},\"id\":\"5861\",\"type\":\"UnionRenderers\"},{\"attributes\":{},\"id\":\"5862\",\"type\":\"Selection\"},{\"attributes\":{},\"id\":\"5867\",\"type\":\"CategoricalTickFormatter\"},{\"attributes\":{\"axis_label\":\"count\",\"formatter\":{\"id\":\"5851\"},\"ticker\":{\"id\":\"5677\"}},\"id\":\"5676\",\"type\":\"LinearAxis\"},{\"attributes\":{},\"id\":\"5677\",\"type\":\"BasicTicker\"},{\"attributes\":{},\"id\":\"5869\",\"type\":\"BasicTickFormatter\"},{\"attributes\":{},\"id\":\"5674\",\"type\":\"CategoricalTicker\"},{\"attributes\":{},\"id\":\"5870\",\"type\":\"UnionRenderers\"},{\"attributes\":{\"below\":[{\"id\":\"5673\"}],\"center\":[{\"id\":\"5675\"},{\"id\":\"5679\"}],\"left\":[{\"id\":\"5676\"}],\"plot_height\":300,\"plot_width\":450,\"renderers\":[{\"id\":\"5697\"}],\"title\":{\"id\":\"5663\"},\"toolbar\":{\"id\":\"5687\"},\"toolbar_location\":null,\"x_range\":{\"id\":\"5665\"},\"x_scale\":{\"id\":\"5669\"},\"y_range\":{\"id\":\"5667\"},\"y_scale\":{\"id\":\"5671\"}},\"id\":\"5662\",\"subtype\":\"Figure\",\"type\":\"Plot\"},{\"attributes\":{},\"id\":\"5871\",\"type\":\"Selection\"},{\"attributes\":{},\"id\":\"5876\",\"type\":\"CategoricalTickFormatter\"},{\"attributes\":{},\"id\":\"5878\",\"type\":\"BasicTickFormatter\"},{\"attributes\":{\"factors\":[\"No\",\"Yes\"]},\"id\":\"5665\",\"type\":\"FactorRange\"},{\"attributes\":{},\"id\":\"5879\",\"type\":\"UnionRenderers\"},{\"attributes\":{},\"id\":\"5880\",\"type\":\"Selection\"},{\"attributes\":{},\"id\":\"5885\",\"type\":\"CategoricalTickFormatter\"},{\"attributes\":{},\"id\":\"5887\",\"type\":\"BasicTickFormatter\"},{\"attributes\":{\"text\":\"Enough\"},\"id\":\"5663\",\"type\":\"Title\"},{\"attributes\":{},\"id\":\"5888\",\"type\":\"UnionRenderers\"},{\"attributes\":{\"axis\":{\"id\":\"5673\"},\"grid_line_color\":null,\"ticker\":null},\"id\":\"5675\",\"type\":\"Grid\"},{\"attributes\":{},\"id\":\"5889\",\"type\":\"Selection\"},{\"attributes\":{},\"id\":\"5671\",\"type\":\"LinearScale\"},{\"attributes\":{\"toolbars\":[{\"id\":\"5687\"},{\"id\":\"5724\"},{\"id\":\"5761\"},{\"id\":\"5798\"},{\"id\":\"5835\"}],\"tools\":[{\"id\":\"5680\"},{\"id\":\"5681\"},{\"id\":\"5682\"},{\"id\":\"5683\"},{\"id\":\"5684\"},{\"id\":\"5685\"},{\"id\":\"5717\"},{\"id\":\"5718\"},{\"id\":\"5719\"},{\"id\":\"5720\"},{\"id\":\"5721\"},{\"id\":\"5722\"},{\"id\":\"5754\"},{\"id\":\"5755\"},{\"id\":\"5756\"},{\"id\":\"5757\"},{\"id\":\"5758\"},{\"id\":\"5759\"},{\"id\":\"5791\"},{\"id\":\"5792\"},{\"id\":\"5793\"},{\"id\":\"5794\"},{\"id\":\"5795\"},{\"id\":\"5796\"},{\"id\":\"5828\"},{\"id\":\"5829\"},{\"id\":\"5830\"},{\"id\":\"5831\"},{\"id\":\"5832\"},{\"id\":\"5833\"}]},\"id\":\"5893\",\"type\":\"ProxyToolbar\"},{\"attributes\":{},\"id\":\"5669\",\"type\":\"CategoricalScale\"},{\"attributes\":{\"toolbar\":{\"id\":\"5893\"},\"toolbar_location\":\"above\"},\"id\":\"5894\",\"type\":\"ToolbarBox\"},{\"attributes\":{\"axis_label\":\"value\",\"formatter\":{\"id\":\"5849\"},\"ticker\":{\"id\":\"5674\"}},\"id\":\"5673\",\"type\":\"CategoricalAxis\"},{\"attributes\":{\"start\":0},\"id\":\"5667\",\"type\":\"DataRange1d\"},{\"attributes\":{\"fill_color\":{\"value\":\"green\"},\"line_color\":{\"value\":\"green\"},\"top\":{\"field\":\"top\"},\"width\":{\"value\":0.8},\"x\":{\"field\":\"x\"}},\"id\":\"5695\",\"type\":\"VBar\"}],\"root_ids\":[\"5895\"]},\"title\":\"Bokeh Application\",\"version\":\"2.2.3\"}};\n",
       "  var render_items = [{\"docid\":\"5dd1f5d3-6f76-4ff6-818b-3e109ee3d0b0\",\"root_ids\":[\"5895\"],\"roots\":{\"5895\":\"bb4a2000-50b8-4693-aa9c-2bbe4f33c3dc\"}}];\n",
       "  root.Bokeh.embed.embed_items_notebook(docs_json, render_items);\n",
       "\n",
       "  }\n",
       "  if (root.Bokeh !== undefined) {\n",
       "    embed_document(root);\n",
       "  } else {\n",
       "    var attempts = 0;\n",
       "    var timer = setInterval(function(root) {\n",
       "      if (root.Bokeh !== undefined) {\n",
       "        clearInterval(timer);\n",
       "        embed_document(root);\n",
       "      } else {\n",
       "        attempts++;\n",
       "        if (attempts > 100) {\n",
       "          clearInterval(timer);\n",
       "          console.log(\"Bokeh: ERROR: Unable to run BokehJS code because BokehJS library is missing\");\n",
       "        }\n",
       "      }\n",
       "    }, 10, root)\n",
       "  }\n",
       "})(window);"
      ],
      "application/vnd.bokehjs_exec.v0+json": ""
     },
     "metadata": {
      "application/vnd.bokehjs_exec.v0+json": {
       "id": "5895"
      }
     },
     "output_type": "display_data"
    }
   ],
   "source": [
    "from bokeh.plotting import figure, show\n",
    "from bokeh.layouts import gridplot\n",
    "from bokeh.models import Range1d\n",
    "from bokeh.io import output_notebook\n",
    "output_notebook()\n",
    "\n",
    "#code your answer to the value counts and distribution plots here\n",
    "def make_plot(title, x, y):\n",
    "#     p = figure(title=title, background_fill_color=\"#fafafa\")\n",
    "#     p.vbar(x, top=y, color=\"green\", legend_label=\"\")\n",
    "    \n",
    "# #     p.x_range=Range1d(0, 30)\n",
    "#     p.xaxis.axis_label = \"\"\n",
    "#     p.yaxis.axis_label = \"\"\n",
    "#     p.legend.label_text_font_size = \"10px\"\n",
    "#     p.legend.background_fill_alpha = 0.5\n",
    "#     p.grid.grid_line_color=\"white\"\n",
    "    p = figure(x_range=x, plot_height=300, title=title)\n",
    "    p.vbar(x=x, top=y, width=0.8, color=\"green\")\n",
    "    p.xaxis.axis_label = \"value\"\n",
    "    p.yaxis.axis_label = \"count\"\n",
    "    p.xgrid.grid_line_color = None\n",
    "    p.y_range.start = 0\n",
    "    return p\n",
    "\n",
    "def show_info(df):\n",
    "    g = []\n",
    "    for column_name in df.drop(columns=['Hours']).columns:\n",
    "        value_counts = df[column_name].value_counts()\n",
    "        labels = list(value_counts.index.astype(str))\n",
    "        print(f\"{value_counts}\\n\")\n",
    "        p = make_plot(column_name, labels, value_counts)\n",
    "        g.append(p)\n",
    "    show(gridplot(g, ncols=2, plot_width=450, plot_height=300))\n",
    "\n",
    "show_info(df)"
   ]
  },
  {
   "cell_type": "code",
   "execution_count": 5,
   "metadata": {},
   "outputs": [],
   "source": [
    "#code for the scatter plot here"
   ]
  },
  {
   "cell_type": "code",
   "execution_count": 6,
   "metadata": {},
   "outputs": [],
   "source": [
    "#code your answer to the target statistics here"
   ]
  },
  {
   "cell_type": "code",
   "execution_count": 7,
   "metadata": {},
   "outputs": [],
   "source": [
    "#code your answer for the heatmap here and briefly state your finding"
   ]
  },
  {
   "cell_type": "markdown",
   "metadata": {},
   "source": [
    "---"
   ]
  },
  {
   "cell_type": "markdown",
   "metadata": {},
   "source": [
    "<a name='2'></a>\n",
    "## Part 3: Check Assumptions\n",
    "\n",
    "Before we answer the research question with ANOVA we need to check the following assumptions:\n",
    "\n",
    "1. ANOVA assumes that the dependent variable is normaly distributed\n",
    "2. ANOVA also assumes homogeneity of variance\n",
    "3. ANOVA also assumes that the observations are independent of each other. Most of the time we need domain knowledge and experiment setup descriptions to estimate this assumption\n",
    "\n",
    "We are going to do this graphically and statistically. "
   ]
  },
  {
   "cell_type": "markdown",
   "metadata": {},
   "source": [
    "<a name='ex-31'></a>\n",
    "### Check normality (10 pt)\n",
    "\n",
    "<ul><li>\n",
    "Plot the distribution of the dependent variable. Add a vertical line at the position of the average. Add a vertical line for the robuust estimation. Add the normal distribution line to the plot. Comment on the normallity of the data. Do you want the full points? Plot with bokeh!</li>\n",
    "\n",
    "<li>Use a Shapiro-Wilk Test or an Anderson-Darling test to check statistically</li></ul>\n",
    "\n",
    "\n",
    "<details>    \n",
    "<summary>\n",
    "    <font size=\"3\" color=\"darkgreen\"><b>Hints</b></font>\n",
    "</summary>\n",
    "    <ul><li>check the code of lesson 1 DS1 bayesian statistics</li>\n",
    "        <li>heart_failure case of gitbook uses bokeh histograms</li>\n",
    "</ul>\n",
    "</details>"
   ]
  },
  {
   "cell_type": "code",
   "execution_count": 8,
   "metadata": {},
   "outputs": [],
   "source": [
    "# your code to plot here"
   ]
  },
  {
   "cell_type": "code",
   "execution_count": 9,
   "metadata": {},
   "outputs": [],
   "source": [
    "# briefly summarize your findings"
   ]
  },
  {
   "cell_type": "markdown",
   "metadata": {},
   "source": [
    "<a name='ex-32'></a>\n",
    "### Check homogeneity of variance (20 pt)\n",
    "\n",
    "<ul><li>\n",
    "Use boxplots for the check of homoegeneity of variance. Do you want the full points? Plot with bokeh!</li>\n",
    "\n",
    "<li>Use a Levene’s & Bartlett’s Test of Equality (Homogeneity) of Variance to test equal variance statistically</li><ul>"
   ]
  },
  {
   "cell_type": "code",
   "execution_count": 10,
   "metadata": {},
   "outputs": [],
   "source": [
    "# your code to plot here"
   ]
  },
  {
   "cell_type": "code",
   "execution_count": 11,
   "metadata": {},
   "outputs": [],
   "source": [
    "# your code for the statistical test here"
   ]
  },
  {
   "cell_type": "code",
   "execution_count": 12,
   "metadata": {},
   "outputs": [],
   "source": [
    "# briefly summarize your findings"
   ]
  },
  {
   "cell_type": "markdown",
   "metadata": {},
   "source": [
    "---"
   ]
  },
  {
   "cell_type": "markdown",
   "metadata": {},
   "source": [
    "<a name='3'></a>\n",
    "## Part 4: Prepare your data (10 pt)\n",
    "\n",
    "Create a dataframe with equal samplesize. Make three categories for tireness 1-2 = no, 3 = maybe, 4-5 = yes"
   ]
  },
  {
   "cell_type": "code",
   "execution_count": 13,
   "metadata": {},
   "outputs": [],
   "source": [
    "#your solution here"
   ]
  },
  {
   "cell_type": "markdown",
   "metadata": {},
   "source": [
    "---"
   ]
  },
  {
   "cell_type": "markdown",
   "metadata": {},
   "source": [
    "<a name='4'></a>\n",
    "## Part 5: Answer the research questions (20 pt)\n",
    "\n",
    "<details>    \n",
    "<summary>\n",
    "    <font size=\"3\" color=\"darkgreen\"><b>Hints</b></font>\n",
    "</summary>\n",
    "    <ul><li>use one-way ANOVA for research question 1</li>\n",
    "    <li>Use two-way ANOVA for research question 2</li>\n",
    "    <li>https://reneshbedre.github.io/blog/anova.html</li>\n",
    "</ul>\n",
    "</details>"
   ]
  },
  {
   "cell_type": "code",
   "execution_count": 14,
   "metadata": {},
   "outputs": [],
   "source": [
    "#Your solution here"
   ]
  },
  {
   "cell_type": "markdown",
   "metadata": {},
   "source": [
    "---"
   ]
  },
  {
   "cell_type": "markdown",
   "metadata": {},
   "source": [
    "<a name='5'></a>\n",
    "## Part 6: Enhanced plotting (20 pt)\n",
    "\n",
    "Create a panel with 1) your dataframe with equal samplesize 2) a picture of a sleeping beauty, 3) the scatter plot of tired / hours of sleep with different colors for Breakfast from part 2 4) the boxplots given the p-value for the anova outcome in the title"
   ]
  },
  {
   "cell_type": "code",
   "execution_count": 15,
   "metadata": {},
   "outputs": [],
   "source": [
    "#your solution here"
   ]
  }
 ],
 "metadata": {
  "kernelspec": {
   "display_name": "Python 3",
   "language": "python",
   "name": "python3"
  },
  "language_info": {
   "codemirror_mode": {
    "name": "ipython",
    "version": 3
   },
   "file_extension": ".py",
   "mimetype": "text/x-python",
   "name": "python",
   "nbconvert_exporter": "python",
   "pygments_lexer": "ipython3",
   "version": "3.7.3"
  }
 },
 "nbformat": 4,
 "nbformat_minor": 4
}
