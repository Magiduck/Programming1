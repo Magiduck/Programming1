{
 "cells": [
  {
   "cell_type": "markdown",
   "metadata": {},
   "source": [
    "## Assignment week 05: Sleeping habits\n",
    "\n",
    "Welcome to **week five** of this course programming 1. You will learn about analysing data with pandas and numpy and you will learn to visualize with bokeh. Concretely, you will preprocess the Sleep Study data in an appropiate format in order to conduct statistical and visual analysis. Learning outcomes:\n",
    "\n",
    "\n",
    "## About the data\n",
    "\n",
    "The data is collected from a survey-based study of the sleeping habits of individuals within the US. \n",
    "\n",
    "Below is a description of each of the variables contained within the dataset.\n",
    "\n",
    "- Enough = Do you think that you get enough sleep?\n",
    "- Hours = On average, how many hours of sleep do you get on a weeknight?\n",
    "- PhoneReach = Do you sleep with your phone within arms reach?\n",
    "- PhoneTime = Do you use your phone within 30 minutes of falling asleep?\n",
    "- Tired = On a scale from 1 to 5, how tired are you throughout the day? (1 being not tired, 5 being very tired)\n",
    "- Breakfast = Do you typically eat breakfast?\n",
    "\n",
    "The two research questions you should answer in this assignment are:\n",
    "1. Is there a differences in Hours sleep caused by having breakfast (yes, no)?\n",
    "2. Is there a differences in Hours sleep caused by having breakfast and the tireness (score)\n",
    "\n",
    "\n",
    "The assignment consists of 6 parts:\n",
    "\n",
    "- [part 1: load the data](#0)\n",
    "- [part 2: data inspection](#1)\n",
    "- [part 3: check assumptions](#2)\n",
    "   - [check normality 3.1](#ex-31)\n",
    "   - [check equal variance 3.2](#ex-32)\n",
    "- [part 4: prepare the data](#3)\n",
    "- [part 5: answer the research question](#4)\n",
    "- [part 6: enhanced plotting](#5)\n",
    "\n",
    "Part 1 till 5 are mandatory, part 6 is optional (bonus)\n",
    "To pass the assingnment you need to a score of 60%. \n",
    "\n",
    "\n",
    "**NOTE If your project data is suitable you can use that data instead of the given data**"
   ]
  },
  {
   "cell_type": "markdown",
   "metadata": {},
   "source": [
    "## ANOVA\n",
    "\n",
    "Analysis of variance (ANOVA) compares the variances between groups versus within groups. It basically determines whether the differences between groups is larger than the differences within a group (the noise). \n",
    "A graph picturing this is as follow: https://link.springer.com/article/10.1007/s00424-019-02300-4/figures/2\n",
    "\n",
    "\n",
    "In ANOVA, the dependent variable must be a continuous (interval or ratio) level of measurement. For instance Glucose level. The independent variables in ANOVA must be categorical (nominal or ordinal) variables. For instance trial category, time of day (AM versus PM) or time of trial (different categories). Like the t-test, ANOVA is also a parametric test and has some assumptions. ANOVA assumes that the data is normally distributed.  The ANOVA also assumes homogeneity of variance, which means that the variance among the groups should be approximately equal. ANOVA also assumes that the observations are independent of each other. \n",
    "\n",
    "A one-way ANOVA has just one independent variable. A two-way ANOVA (are also called factorial ANOVA) refers to an ANOVA using two independent variables. For research question 1 we can use the one-way ANOVA, for research question two we can use two-way ANOVA. But first we need to check the assumptions. \n"
   ]
  },
  {
   "cell_type": "markdown",
   "metadata": {},
   "source": [
    "---"
   ]
  },
  {
   "cell_type": "markdown",
   "metadata": {},
   "source": [
    "<a name='0'></a>\n",
    "## Part 1: Load the data (10 pt)\n",
    "\n",
    "load the `sleep.csv` data. Get yourself familiar with the data. Answer the following questions.\n",
    "\n",
    "1. What is the percentage missing data?\n",
    "2. Considering the research question, what is the dependent variable and what are the indepent variables? Are they of the correct datatype? "
   ]
  },
  {
   "cell_type": "code",
   "execution_count": 1,
   "metadata": {},
   "outputs": [
    {
     "data": {
      "text/html": [
       "\n",
       "    <div class=\"bk-root\">\n",
       "        <a href=\"https://bokeh.org\" target=\"_blank\" class=\"bk-logo bk-logo-small bk-logo-notebook\"></a>\n",
       "        <span id=\"1001\">Loading BokehJS ...</span>\n",
       "    </div>"
      ]
     },
     "metadata": {},
     "output_type": "display_data"
    },
    {
     "data": {
      "application/javascript": [
       "\n",
       "(function(root) {\n",
       "  function now() {\n",
       "    return new Date();\n",
       "  }\n",
       "\n",
       "  var force = true;\n",
       "\n",
       "  if (typeof root._bokeh_onload_callbacks === \"undefined\" || force === true) {\n",
       "    root._bokeh_onload_callbacks = [];\n",
       "    root._bokeh_is_loading = undefined;\n",
       "  }\n",
       "\n",
       "  var JS_MIME_TYPE = 'application/javascript';\n",
       "  var HTML_MIME_TYPE = 'text/html';\n",
       "  var EXEC_MIME_TYPE = 'application/vnd.bokehjs_exec.v0+json';\n",
       "  var CLASS_NAME = 'output_bokeh rendered_html';\n",
       "\n",
       "  /**\n",
       "   * Render data to the DOM node\n",
       "   */\n",
       "  function render(props, node) {\n",
       "    var script = document.createElement(\"script\");\n",
       "    node.appendChild(script);\n",
       "  }\n",
       "\n",
       "  /**\n",
       "   * Handle when an output is cleared or removed\n",
       "   */\n",
       "  function handleClearOutput(event, handle) {\n",
       "    var cell = handle.cell;\n",
       "\n",
       "    var id = cell.output_area._bokeh_element_id;\n",
       "    var server_id = cell.output_area._bokeh_server_id;\n",
       "    // Clean up Bokeh references\n",
       "    if (id != null && id in Bokeh.index) {\n",
       "      Bokeh.index[id].model.document.clear();\n",
       "      delete Bokeh.index[id];\n",
       "    }\n",
       "\n",
       "    if (server_id !== undefined) {\n",
       "      // Clean up Bokeh references\n",
       "      var cmd = \"from bokeh.io.state import curstate; print(curstate().uuid_to_server['\" + server_id + \"'].get_sessions()[0].document.roots[0]._id)\";\n",
       "      cell.notebook.kernel.execute(cmd, {\n",
       "        iopub: {\n",
       "          output: function(msg) {\n",
       "            var id = msg.content.text.trim();\n",
       "            if (id in Bokeh.index) {\n",
       "              Bokeh.index[id].model.document.clear();\n",
       "              delete Bokeh.index[id];\n",
       "            }\n",
       "          }\n",
       "        }\n",
       "      });\n",
       "      // Destroy server and session\n",
       "      var cmd = \"import bokeh.io.notebook as ion; ion.destroy_server('\" + server_id + \"')\";\n",
       "      cell.notebook.kernel.execute(cmd);\n",
       "    }\n",
       "  }\n",
       "\n",
       "  /**\n",
       "   * Handle when a new output is added\n",
       "   */\n",
       "  function handleAddOutput(event, handle) {\n",
       "    var output_area = handle.output_area;\n",
       "    var output = handle.output;\n",
       "\n",
       "    // limit handleAddOutput to display_data with EXEC_MIME_TYPE content only\n",
       "    if ((output.output_type != \"display_data\") || (!output.data.hasOwnProperty(EXEC_MIME_TYPE))) {\n",
       "      return\n",
       "    }\n",
       "\n",
       "    var toinsert = output_area.element.find(\".\" + CLASS_NAME.split(' ')[0]);\n",
       "\n",
       "    if (output.metadata[EXEC_MIME_TYPE][\"id\"] !== undefined) {\n",
       "      toinsert[toinsert.length - 1].firstChild.textContent = output.data[JS_MIME_TYPE];\n",
       "      // store reference to embed id on output_area\n",
       "      output_area._bokeh_element_id = output.metadata[EXEC_MIME_TYPE][\"id\"];\n",
       "    }\n",
       "    if (output.metadata[EXEC_MIME_TYPE][\"server_id\"] !== undefined) {\n",
       "      var bk_div = document.createElement(\"div\");\n",
       "      bk_div.innerHTML = output.data[HTML_MIME_TYPE];\n",
       "      var script_attrs = bk_div.children[0].attributes;\n",
       "      for (var i = 0; i < script_attrs.length; i++) {\n",
       "        toinsert[toinsert.length - 1].firstChild.setAttribute(script_attrs[i].name, script_attrs[i].value);\n",
       "        toinsert[toinsert.length - 1].firstChild.textContent = bk_div.children[0].textContent\n",
       "      }\n",
       "      // store reference to server id on output_area\n",
       "      output_area._bokeh_server_id = output.metadata[EXEC_MIME_TYPE][\"server_id\"];\n",
       "    }\n",
       "  }\n",
       "\n",
       "  function register_renderer(events, OutputArea) {\n",
       "\n",
       "    function append_mime(data, metadata, element) {\n",
       "      // create a DOM node to render to\n",
       "      var toinsert = this.create_output_subarea(\n",
       "        metadata,\n",
       "        CLASS_NAME,\n",
       "        EXEC_MIME_TYPE\n",
       "      );\n",
       "      this.keyboard_manager.register_events(toinsert);\n",
       "      // Render to node\n",
       "      var props = {data: data, metadata: metadata[EXEC_MIME_TYPE]};\n",
       "      render(props, toinsert[toinsert.length - 1]);\n",
       "      element.append(toinsert);\n",
       "      return toinsert\n",
       "    }\n",
       "\n",
       "    /* Handle when an output is cleared or removed */\n",
       "    events.on('clear_output.CodeCell', handleClearOutput);\n",
       "    events.on('delete.Cell', handleClearOutput);\n",
       "\n",
       "    /* Handle when a new output is added */\n",
       "    events.on('output_added.OutputArea', handleAddOutput);\n",
       "\n",
       "    /**\n",
       "     * Register the mime type and append_mime function with output_area\n",
       "     */\n",
       "    OutputArea.prototype.register_mime_type(EXEC_MIME_TYPE, append_mime, {\n",
       "      /* Is output safe? */\n",
       "      safe: true,\n",
       "      /* Index of renderer in `output_area.display_order` */\n",
       "      index: 0\n",
       "    });\n",
       "  }\n",
       "\n",
       "  // register the mime type if in Jupyter Notebook environment and previously unregistered\n",
       "  if (root.Jupyter !== undefined) {\n",
       "    var events = require('base/js/events');\n",
       "    var OutputArea = require('notebook/js/outputarea').OutputArea;\n",
       "\n",
       "    if (OutputArea.prototype.mime_types().indexOf(EXEC_MIME_TYPE) == -1) {\n",
       "      register_renderer(events, OutputArea);\n",
       "    }\n",
       "  }\n",
       "\n",
       "  \n",
       "  if (typeof (root._bokeh_timeout) === \"undefined\" || force === true) {\n",
       "    root._bokeh_timeout = Date.now() + 5000;\n",
       "    root._bokeh_failed_load = false;\n",
       "  }\n",
       "\n",
       "  var NB_LOAD_WARNING = {'data': {'text/html':\n",
       "     \"<div style='background-color: #fdd'>\\n\"+\n",
       "     \"<p>\\n\"+\n",
       "     \"BokehJS does not appear to have successfully loaded. If loading BokehJS from CDN, this \\n\"+\n",
       "     \"may be due to a slow or bad network connection. Possible fixes:\\n\"+\n",
       "     \"</p>\\n\"+\n",
       "     \"<ul>\\n\"+\n",
       "     \"<li>re-rerun `output_notebook()` to attempt to load from CDN again, or</li>\\n\"+\n",
       "     \"<li>use INLINE resources instead, as so:</li>\\n\"+\n",
       "     \"</ul>\\n\"+\n",
       "     \"<code>\\n\"+\n",
       "     \"from bokeh.resources import INLINE\\n\"+\n",
       "     \"output_notebook(resources=INLINE)\\n\"+\n",
       "     \"</code>\\n\"+\n",
       "     \"</div>\"}};\n",
       "\n",
       "  function display_loaded() {\n",
       "    var el = document.getElementById(\"1001\");\n",
       "    if (el != null) {\n",
       "      el.textContent = \"BokehJS is loading...\";\n",
       "    }\n",
       "    if (root.Bokeh !== undefined) {\n",
       "      if (el != null) {\n",
       "        el.textContent = \"BokehJS \" + root.Bokeh.version + \" successfully loaded.\";\n",
       "      }\n",
       "    } else if (Date.now() < root._bokeh_timeout) {\n",
       "      setTimeout(display_loaded, 100)\n",
       "    }\n",
       "  }\n",
       "\n",
       "\n",
       "  function run_callbacks() {\n",
       "    try {\n",
       "      root._bokeh_onload_callbacks.forEach(function(callback) {\n",
       "        if (callback != null)\n",
       "          callback();\n",
       "      });\n",
       "    } finally {\n",
       "      delete root._bokeh_onload_callbacks\n",
       "    }\n",
       "    console.debug(\"Bokeh: all callbacks have finished\");\n",
       "  }\n",
       "\n",
       "  function load_libs(css_urls, js_urls, callback) {\n",
       "    if (css_urls == null) css_urls = [];\n",
       "    if (js_urls == null) js_urls = [];\n",
       "\n",
       "    root._bokeh_onload_callbacks.push(callback);\n",
       "    if (root._bokeh_is_loading > 0) {\n",
       "      console.debug(\"Bokeh: BokehJS is being loaded, scheduling callback at\", now());\n",
       "      return null;\n",
       "    }\n",
       "    if (js_urls == null || js_urls.length === 0) {\n",
       "      run_callbacks();\n",
       "      return null;\n",
       "    }\n",
       "    console.debug(\"Bokeh: BokehJS not loaded, scheduling load and callback at\", now());\n",
       "    root._bokeh_is_loading = css_urls.length + js_urls.length;\n",
       "\n",
       "    function on_load() {\n",
       "      root._bokeh_is_loading--;\n",
       "      if (root._bokeh_is_loading === 0) {\n",
       "        console.debug(\"Bokeh: all BokehJS libraries/stylesheets loaded\");\n",
       "        run_callbacks()\n",
       "      }\n",
       "    }\n",
       "\n",
       "    function on_error() {\n",
       "      console.error(\"failed to load \" + url);\n",
       "    }\n",
       "\n",
       "    for (var i = 0; i < css_urls.length; i++) {\n",
       "      var url = css_urls[i];\n",
       "      const element = document.createElement(\"link\");\n",
       "      element.onload = on_load;\n",
       "      element.onerror = on_error;\n",
       "      element.rel = \"stylesheet\";\n",
       "      element.type = \"text/css\";\n",
       "      element.href = url;\n",
       "      console.debug(\"Bokeh: injecting link tag for BokehJS stylesheet: \", url);\n",
       "      document.body.appendChild(element);\n",
       "    }\n",
       "\n",
       "    const hashes = {\"https://cdn.bokeh.org/bokeh/release/bokeh-2.2.3.min.js\": \"T2yuo9Oe71Cz/I4X9Ac5+gpEa5a8PpJCDlqKYO0CfAuEszu1JrXLl8YugMqYe3sM\", \"https://cdn.bokeh.org/bokeh/release/bokeh-widgets-2.2.3.min.js\": \"98GDGJ0kOMCUMUePhksaQ/GYgB3+NH9h996V88sh3aOiUNX3N+fLXAtry6xctSZ6\", \"https://cdn.bokeh.org/bokeh/release/bokeh-tables-2.2.3.min.js\": \"89bArO+nlbP3sgakeHjCo1JYxYR5wufVgA3IbUvDY+K7w4zyxJqssu7wVnfeKCq8\"};\n",
       "\n",
       "    for (var i = 0; i < js_urls.length; i++) {\n",
       "      var url = js_urls[i];\n",
       "      var element = document.createElement('script');\n",
       "      element.onload = on_load;\n",
       "      element.onerror = on_error;\n",
       "      element.async = false;\n",
       "      element.src = url;\n",
       "      if (url in hashes) {\n",
       "        element.crossOrigin = \"anonymous\";\n",
       "        element.integrity = \"sha384-\" + hashes[url];\n",
       "      }\n",
       "      console.debug(\"Bokeh: injecting script tag for BokehJS library: \", url);\n",
       "      document.head.appendChild(element);\n",
       "    }\n",
       "  };\n",
       "\n",
       "  function inject_raw_css(css) {\n",
       "    const element = document.createElement(\"style\");\n",
       "    element.appendChild(document.createTextNode(css));\n",
       "    document.body.appendChild(element);\n",
       "  }\n",
       "\n",
       "  \n",
       "  var js_urls = [\"https://cdn.bokeh.org/bokeh/release/bokeh-2.2.3.min.js\", \"https://cdn.bokeh.org/bokeh/release/bokeh-widgets-2.2.3.min.js\", \"https://cdn.bokeh.org/bokeh/release/bokeh-tables-2.2.3.min.js\"];\n",
       "  var css_urls = [];\n",
       "  \n",
       "\n",
       "  var inline_js = [\n",
       "    function(Bokeh) {\n",
       "      Bokeh.set_log_level(\"info\");\n",
       "    },\n",
       "    function(Bokeh) {\n",
       "    \n",
       "    \n",
       "    }\n",
       "  ];\n",
       "\n",
       "  function run_inline_js() {\n",
       "    \n",
       "    if (root.Bokeh !== undefined || force === true) {\n",
       "      \n",
       "    for (var i = 0; i < inline_js.length; i++) {\n",
       "      inline_js[i].call(root, root.Bokeh);\n",
       "    }\n",
       "    if (force === true) {\n",
       "        display_loaded();\n",
       "      }} else if (Date.now() < root._bokeh_timeout) {\n",
       "      setTimeout(run_inline_js, 100);\n",
       "    } else if (!root._bokeh_failed_load) {\n",
       "      console.log(\"Bokeh: BokehJS failed to load within specified timeout.\");\n",
       "      root._bokeh_failed_load = true;\n",
       "    } else if (force !== true) {\n",
       "      var cell = $(document.getElementById(\"1001\")).parents('.cell').data().cell;\n",
       "      cell.output_area.append_execute_result(NB_LOAD_WARNING)\n",
       "    }\n",
       "\n",
       "  }\n",
       "\n",
       "  if (root._bokeh_is_loading === 0) {\n",
       "    console.debug(\"Bokeh: BokehJS loaded, going straight to plotting\");\n",
       "    run_inline_js();\n",
       "  } else {\n",
       "    load_libs(css_urls, js_urls, function() {\n",
       "      console.debug(\"Bokeh: BokehJS plotting callback run at\", now());\n",
       "      run_inline_js();\n",
       "    });\n",
       "  }\n",
       "}(window));"
      ],
      "application/vnd.bokehjs_load.v0+json": "\n(function(root) {\n  function now() {\n    return new Date();\n  }\n\n  var force = true;\n\n  if (typeof root._bokeh_onload_callbacks === \"undefined\" || force === true) {\n    root._bokeh_onload_callbacks = [];\n    root._bokeh_is_loading = undefined;\n  }\n\n  \n\n  \n  if (typeof (root._bokeh_timeout) === \"undefined\" || force === true) {\n    root._bokeh_timeout = Date.now() + 5000;\n    root._bokeh_failed_load = false;\n  }\n\n  var NB_LOAD_WARNING = {'data': {'text/html':\n     \"<div style='background-color: #fdd'>\\n\"+\n     \"<p>\\n\"+\n     \"BokehJS does not appear to have successfully loaded. If loading BokehJS from CDN, this \\n\"+\n     \"may be due to a slow or bad network connection. Possible fixes:\\n\"+\n     \"</p>\\n\"+\n     \"<ul>\\n\"+\n     \"<li>re-rerun `output_notebook()` to attempt to load from CDN again, or</li>\\n\"+\n     \"<li>use INLINE resources instead, as so:</li>\\n\"+\n     \"</ul>\\n\"+\n     \"<code>\\n\"+\n     \"from bokeh.resources import INLINE\\n\"+\n     \"output_notebook(resources=INLINE)\\n\"+\n     \"</code>\\n\"+\n     \"</div>\"}};\n\n  function display_loaded() {\n    var el = document.getElementById(\"1001\");\n    if (el != null) {\n      el.textContent = \"BokehJS is loading...\";\n    }\n    if (root.Bokeh !== undefined) {\n      if (el != null) {\n        el.textContent = \"BokehJS \" + root.Bokeh.version + \" successfully loaded.\";\n      }\n    } else if (Date.now() < root._bokeh_timeout) {\n      setTimeout(display_loaded, 100)\n    }\n  }\n\n\n  function run_callbacks() {\n    try {\n      root._bokeh_onload_callbacks.forEach(function(callback) {\n        if (callback != null)\n          callback();\n      });\n    } finally {\n      delete root._bokeh_onload_callbacks\n    }\n    console.debug(\"Bokeh: all callbacks have finished\");\n  }\n\n  function load_libs(css_urls, js_urls, callback) {\n    if (css_urls == null) css_urls = [];\n    if (js_urls == null) js_urls = [];\n\n    root._bokeh_onload_callbacks.push(callback);\n    if (root._bokeh_is_loading > 0) {\n      console.debug(\"Bokeh: BokehJS is being loaded, scheduling callback at\", now());\n      return null;\n    }\n    if (js_urls == null || js_urls.length === 0) {\n      run_callbacks();\n      return null;\n    }\n    console.debug(\"Bokeh: BokehJS not loaded, scheduling load and callback at\", now());\n    root._bokeh_is_loading = css_urls.length + js_urls.length;\n\n    function on_load() {\n      root._bokeh_is_loading--;\n      if (root._bokeh_is_loading === 0) {\n        console.debug(\"Bokeh: all BokehJS libraries/stylesheets loaded\");\n        run_callbacks()\n      }\n    }\n\n    function on_error() {\n      console.error(\"failed to load \" + url);\n    }\n\n    for (var i = 0; i < css_urls.length; i++) {\n      var url = css_urls[i];\n      const element = document.createElement(\"link\");\n      element.onload = on_load;\n      element.onerror = on_error;\n      element.rel = \"stylesheet\";\n      element.type = \"text/css\";\n      element.href = url;\n      console.debug(\"Bokeh: injecting link tag for BokehJS stylesheet: \", url);\n      document.body.appendChild(element);\n    }\n\n    const hashes = {\"https://cdn.bokeh.org/bokeh/release/bokeh-2.2.3.min.js\": \"T2yuo9Oe71Cz/I4X9Ac5+gpEa5a8PpJCDlqKYO0CfAuEszu1JrXLl8YugMqYe3sM\", \"https://cdn.bokeh.org/bokeh/release/bokeh-widgets-2.2.3.min.js\": \"98GDGJ0kOMCUMUePhksaQ/GYgB3+NH9h996V88sh3aOiUNX3N+fLXAtry6xctSZ6\", \"https://cdn.bokeh.org/bokeh/release/bokeh-tables-2.2.3.min.js\": \"89bArO+nlbP3sgakeHjCo1JYxYR5wufVgA3IbUvDY+K7w4zyxJqssu7wVnfeKCq8\"};\n\n    for (var i = 0; i < js_urls.length; i++) {\n      var url = js_urls[i];\n      var element = document.createElement('script');\n      element.onload = on_load;\n      element.onerror = on_error;\n      element.async = false;\n      element.src = url;\n      if (url in hashes) {\n        element.crossOrigin = \"anonymous\";\n        element.integrity = \"sha384-\" + hashes[url];\n      }\n      console.debug(\"Bokeh: injecting script tag for BokehJS library: \", url);\n      document.head.appendChild(element);\n    }\n  };\n\n  function inject_raw_css(css) {\n    const element = document.createElement(\"style\");\n    element.appendChild(document.createTextNode(css));\n    document.body.appendChild(element);\n  }\n\n  \n  var js_urls = [\"https://cdn.bokeh.org/bokeh/release/bokeh-2.2.3.min.js\", \"https://cdn.bokeh.org/bokeh/release/bokeh-widgets-2.2.3.min.js\", \"https://cdn.bokeh.org/bokeh/release/bokeh-tables-2.2.3.min.js\"];\n  var css_urls = [];\n  \n\n  var inline_js = [\n    function(Bokeh) {\n      Bokeh.set_log_level(\"info\");\n    },\n    function(Bokeh) {\n    \n    \n    }\n  ];\n\n  function run_inline_js() {\n    \n    if (root.Bokeh !== undefined || force === true) {\n      \n    for (var i = 0; i < inline_js.length; i++) {\n      inline_js[i].call(root, root.Bokeh);\n    }\n    if (force === true) {\n        display_loaded();\n      }} else if (Date.now() < root._bokeh_timeout) {\n      setTimeout(run_inline_js, 100);\n    } else if (!root._bokeh_failed_load) {\n      console.log(\"Bokeh: BokehJS failed to load within specified timeout.\");\n      root._bokeh_failed_load = true;\n    } else if (force !== true) {\n      var cell = $(document.getElementById(\"1001\")).parents('.cell').data().cell;\n      cell.output_area.append_execute_result(NB_LOAD_WARNING)\n    }\n\n  }\n\n  if (root._bokeh_is_loading === 0) {\n    console.debug(\"Bokeh: BokehJS loaded, going straight to plotting\");\n    run_inline_js();\n  } else {\n    load_libs(css_urls, js_urls, function() {\n      console.debug(\"Bokeh: BokehJS plotting callback run at\", now());\n      run_inline_js();\n    });\n  }\n}(window));"
     },
     "metadata": {},
     "output_type": "display_data"
    }
   ],
   "source": [
    "from bokeh.plotting import figure, show\n",
    "from bokeh.layouts import gridplot\n",
    "from bokeh.models import Range1d, CategoricalColorMapper, Legend\n",
    "from bokeh.palettes import Colorblind\n",
    "from bokeh.io import output_notebook\n",
    "output_notebook()"
   ]
  },
  {
   "cell_type": "code",
   "execution_count": 2,
   "metadata": {},
   "outputs": [
    {
     "name": "stdout",
     "output_type": "stream",
     "text": [
      "Enough        0.000000\n",
      "Hours         1.923077\n",
      "PhoneReach    0.000000\n",
      "PhoneTime     0.000000\n",
      "Tired         0.000000\n",
      "Breakfast     0.000000\n",
      "dtype: float64\n"
     ]
    }
   ],
   "source": [
    "#code printing percentage missing data\n",
    "import pandas as pd\n",
    "\n",
    "PATH = \"../data/sleep.csv\"\n",
    "df = pd.read_csv(PATH)\n",
    "print(f\"{(df.isnull().sum()/len(df))*100}\")"
   ]
  },
  {
   "cell_type": "code",
   "execution_count": 3,
   "metadata": {},
   "outputs": [
    {
     "name": "stdout",
     "output_type": "stream",
     "text": [
      "Dependent variable = Hours\n",
      "Independent variables = ['Enough', 'PhoneReach', 'PhoneTime', 'Tired', 'Breakfast']\n"
     ]
    }
   ],
   "source": [
    "#code printing answer dependent and independent variables\n",
    "print(f\"Dependent variable = {df.Hours.name}\")\n",
    "print(f\"Independent variables = {[col for col in df.drop(columns=['Hours']).columns]}\")"
   ]
  },
  {
   "cell_type": "code",
   "execution_count": 34,
   "metadata": {},
   "outputs": [
    {
     "name": "stdout",
     "output_type": "stream",
     "text": [
      "<class 'pandas.core.frame.DataFrame'>\n",
      "RangeIndex: 104 entries, 0 to 103\n",
      "Data columns (total 6 columns):\n",
      " #   Column      Non-Null Count  Dtype   \n",
      "---  ------      --------------  -----   \n",
      " 0   Enough      104 non-null    category\n",
      " 1   Hours       102 non-null    float64 \n",
      " 2   PhoneReach  104 non-null    category\n",
      " 3   PhoneTime   104 non-null    category\n",
      " 4   Tired       104 non-null    category\n",
      " 5   Breakfast   104 non-null    category\n",
      "dtypes: category(5), float64(1)\n",
      "memory usage: 2.0 KB\n",
      "None\n",
      "<class 'pandas.core.frame.DataFrame'>\n",
      "RangeIndex: 104 entries, 0 to 103\n",
      "Data columns (total 6 columns):\n",
      " #   Column      Non-Null Count  Dtype   \n",
      "---  ------      --------------  -----   \n",
      " 0   Enough      104 non-null    category\n",
      " 1   Hours       102 non-null    float64 \n",
      " 2   PhoneReach  104 non-null    category\n",
      " 3   PhoneTime   104 non-null    category\n",
      " 4   Tired       104 non-null    category\n",
      " 5   Breakfast   104 non-null    category\n",
      "dtypes: category(5), float64(1)\n",
      "memory usage: 2.0 KB\n",
      "None\n"
     ]
    }
   ],
   "source": [
    "#code printing answer about datatypes\n",
    "print(df.info())\n",
    "\n",
    "# Create numeric for heatmap\n",
    "numeric_df = df.copy()\n",
    "numeric_df.Enough = numeric_df.Enough.eq('Yes').mul(1)\n",
    "numeric_df.PhoneReach = numeric_df.PhoneReach.eq('Yes').mul(1)\n",
    "numeric_df.PhoneTime = numeric_df.PhoneTime.eq('Yes').mul(1)\n",
    "numeric_df.Tired = numeric_df.Tired.astype('int64')\n",
    "\n",
    "df.Enough = df.Enough.astype('category')\n",
    "df.PhoneReach = df.PhoneReach.astype('category')\n",
    "df.PhoneTime = df.PhoneTime.astype('category')\n",
    "df.Tired = df.Tired.astype('category')\n",
    "df.Breakfast = df.Breakfast.astype('category')\n",
    "\n",
    "print(df.info())"
   ]
  },
  {
   "cell_type": "markdown",
   "metadata": {},
   "source": [
    "---"
   ]
  },
  {
   "cell_type": "markdown",
   "metadata": {},
   "source": [
    "<a name='1'></a>\n",
    "## Part 2: Inspect the data (30 pt)\n",
    "\n",
    "Inspect the data practically. Get an idea about how well the variable categories are ballanced. Are the values of a variable equally divided? What is the mean value of the dependent variable? Are there correlations amongs the variables?\n"
   ]
  },
  {
   "cell_type": "markdown",
   "metadata": {},
   "source": [
    "<ul>\n",
    "<li>Create some meaninful overviews such as variable value counts</li>\n",
    "<li>Create a scatter plot ploting the relation between being tired and hours of sleep with different colors for Breakfast</li>\n",
    "    <li>Print some basic statistics about the target (mean, standard deviation)</li>\n",
    "    <li>Create a heatmap to check for correlations among variables. </li>\n",
    "\n",
    "<details>    \n",
    "<summary>\n",
    "    <font size=\"3\" color=\"darkgreen\"><b>Hints</b></font>\n",
    "</summary>\n",
    "    <ul><li>the gitbook has a bokeh heatmap example</li></ul>\n",
    "</details>\n",
    "</ul>"
   ]
  },
  {
   "cell_type": "code",
   "execution_count": 28,
   "metadata": {},
   "outputs": [
    {
     "name": "stdout",
     "output_type": "stream",
     "text": [
      "No     68\n",
      "Yes    36\n",
      "Name: Enough, dtype: int64\n",
      "\n",
      "Yes    72\n",
      "No     32\n",
      "Name: PhoneReach, dtype: int64\n",
      "\n",
      "Yes    84\n",
      "No     20\n",
      "Name: PhoneTime, dtype: int64\n",
      "\n",
      "3    40\n",
      "2    27\n",
      "4    23\n",
      "5    10\n",
      "1     4\n",
      "Name: Tired, dtype: int64\n",
      "\n",
      "Yes    63\n",
      "No     41\n",
      "Name: Breakfast, dtype: int64\n",
      "\n"
     ]
    },
    {
     "data": {
      "text/html": [
       "\n",
       "\n",
       "\n",
       "\n",
       "\n",
       "\n",
       "  <div class=\"bk-root\" id=\"e973cc1b-093a-42b1-b6a0-2fc0eb3d5421\" data-root-id=\"2557\"></div>\n"
      ]
     },
     "metadata": {},
     "output_type": "display_data"
    },
    {
     "data": {
      "application/javascript": [
       "(function(root) {\n",
       "  function embed_document(root) {\n",
       "    \n",
       "  var docs_json = {\"267a5c22-3e75-43d1-991f-009db5a41a8a\":{\"roots\":{\"references\":[{\"attributes\":{\"children\":[{\"id\":\"2556\"},{\"id\":\"2554\"}]},\"id\":\"2557\",\"type\":\"Column\"},{\"attributes\":{\"data_source\":{\"id\":\"2504\"},\"glyph\":{\"id\":\"2505\"},\"hover_glyph\":null,\"muted_glyph\":null,\"nonselection_glyph\":{\"id\":\"2506\"},\"selection_glyph\":null,\"view\":{\"id\":\"2508\"}},\"id\":\"2507\",\"type\":\"GlyphRenderer\"},{\"attributes\":{\"source\":{\"id\":\"2504\"}},\"id\":\"2508\",\"type\":\"CDSView\"},{\"attributes\":{},\"id\":\"2490\",\"type\":\"PanTool\"},{\"attributes\":{},\"id\":\"2491\",\"type\":\"WheelZoomTool\"},{\"attributes\":{\"overlay\":{\"id\":\"2496\"}},\"id\":\"2492\",\"type\":\"BoxZoomTool\"},{\"attributes\":{},\"id\":\"2493\",\"type\":\"SaveTool\"},{\"attributes\":{},\"id\":\"2494\",\"type\":\"ResetTool\"},{\"attributes\":{\"source\":{\"id\":\"2356\"}},\"id\":\"2360\",\"type\":\"CDSView\"},{\"attributes\":{},\"id\":\"2495\",\"type\":\"HelpTool\"},{\"attributes\":{},\"id\":\"2532\",\"type\":\"Selection\"},{\"attributes\":{\"active_drag\":\"auto\",\"active_inspect\":\"auto\",\"active_multi\":null,\"active_scroll\":\"auto\",\"active_tap\":\"auto\",\"tools\":[{\"id\":\"2490\"},{\"id\":\"2491\"},{\"id\":\"2492\"},{\"id\":\"2493\"},{\"id\":\"2494\"},{\"id\":\"2495\"}]},\"id\":\"2497\",\"type\":\"Toolbar\"},{\"attributes\":{},\"id\":\"2528\",\"type\":\"CategoricalTickFormatter\"},{\"attributes\":{},\"id\":\"2530\",\"type\":\"BasicTickFormatter\"},{\"attributes\":{},\"id\":\"2524\",\"type\":\"UnionRenderers\"},{\"attributes\":{\"bottom_units\":\"screen\",\"fill_alpha\":0.5,\"fill_color\":\"lightgrey\",\"left_units\":\"screen\",\"level\":\"overlay\",\"line_alpha\":1.0,\"line_color\":\"black\",\"line_dash\":[4,4],\"line_width\":2,\"right_units\":\"screen\",\"top_units\":\"screen\"},\"id\":\"2496\",\"type\":\"BoxAnnotation\"},{\"attributes\":{},\"id\":\"2510\",\"type\":\"CategoricalTickFormatter\"},{\"attributes\":{\"fill_alpha\":{\"value\":0.1},\"fill_color\":{\"value\":\"darkgreen\"},\"line_alpha\":{\"value\":0.1},\"line_color\":{\"value\":\"darkgreen\"},\"top\":{\"field\":\"top\"},\"width\":{\"value\":0.8},\"x\":{\"field\":\"x\"}},\"id\":\"2506\",\"type\":\"VBar\"},{\"attributes\":{},\"id\":\"2512\",\"type\":\"BasicTickFormatter\"},{\"attributes\":{},\"id\":\"2514\",\"type\":\"Selection\"},{\"attributes\":{},\"id\":\"2515\",\"type\":\"UnionRenderers\"},{\"attributes\":{},\"id\":\"2533\",\"type\":\"UnionRenderers\"},{\"attributes\":{},\"id\":\"2537\",\"type\":\"CategoricalTickFormatter\"},{\"attributes\":{},\"id\":\"2539\",\"type\":\"BasicTickFormatter\"},{\"attributes\":{},\"id\":\"2541\",\"type\":\"Selection\"},{\"attributes\":{},\"id\":\"2542\",\"type\":\"UnionRenderers\"},{\"attributes\":{},\"id\":\"2546\",\"type\":\"CategoricalTickFormatter\"},{\"attributes\":{},\"id\":\"2548\",\"type\":\"BasicTickFormatter\"},{\"attributes\":{},\"id\":\"2550\",\"type\":\"Selection\"},{\"attributes\":{},\"id\":\"2551\",\"type\":\"UnionRenderers\"},{\"attributes\":{\"toolbars\":[{\"id\":\"2349\"},{\"id\":\"2386\"},{\"id\":\"2423\"},{\"id\":\"2460\"},{\"id\":\"2497\"}],\"tools\":[{\"id\":\"2342\"},{\"id\":\"2343\"},{\"id\":\"2344\"},{\"id\":\"2345\"},{\"id\":\"2346\"},{\"id\":\"2347\"},{\"id\":\"2379\"},{\"id\":\"2380\"},{\"id\":\"2381\"},{\"id\":\"2382\"},{\"id\":\"2383\"},{\"id\":\"2384\"},{\"id\":\"2416\"},{\"id\":\"2417\"},{\"id\":\"2418\"},{\"id\":\"2419\"},{\"id\":\"2420\"},{\"id\":\"2421\"},{\"id\":\"2453\"},{\"id\":\"2454\"},{\"id\":\"2455\"},{\"id\":\"2456\"},{\"id\":\"2457\"},{\"id\":\"2458\"},{\"id\":\"2490\"},{\"id\":\"2491\"},{\"id\":\"2492\"},{\"id\":\"2493\"},{\"id\":\"2494\"},{\"id\":\"2495\"}]},\"id\":\"2555\",\"type\":\"ProxyToolbar\"},{\"attributes\":{\"toolbar\":{\"id\":\"2555\"},\"toolbar_location\":\"above\"},\"id\":\"2556\",\"type\":\"ToolbarBox\"},{\"attributes\":{\"fill_alpha\":{\"value\":0.1},\"fill_color\":{\"value\":\"darkgreen\"},\"line_alpha\":{\"value\":0.1},\"line_color\":{\"value\":\"darkgreen\"},\"top\":{\"field\":\"top\"},\"width\":{\"value\":0.8},\"x\":{\"field\":\"x\"}},\"id\":\"2469\",\"type\":\"VBar\"},{\"attributes\":{},\"id\":\"2453\",\"type\":\"PanTool\"},{\"attributes\":{\"text\":\"Distribution of variable PhoneReach\"},\"id\":\"2362\",\"type\":\"Title\"},{\"attributes\":{\"start\":0},\"id\":\"2403\",\"type\":\"DataRange1d\"},{\"attributes\":{},\"id\":\"2368\",\"type\":\"CategoricalScale\"},{\"attributes\":{\"text\":\"Distribution of variable PhoneTime\"},\"id\":\"2399\",\"type\":\"Title\"},{\"attributes\":{\"axis_label\":\"count\",\"formatter\":{\"id\":\"2539\"},\"ticker\":{\"id\":\"2450\"}},\"id\":\"2449\",\"type\":\"LinearAxis\"},{\"attributes\":{\"bottom_units\":\"screen\",\"fill_alpha\":0.5,\"fill_color\":\"lightgrey\",\"left_units\":\"screen\",\"level\":\"overlay\",\"line_alpha\":1.0,\"line_color\":\"black\",\"line_dash\":[4,4],\"line_width\":2,\"right_units\":\"screen\",\"top_units\":\"screen\"},\"id\":\"2348\",\"type\":\"BoxAnnotation\"},{\"attributes\":{\"factors\":[\"Yes\",\"No\"]},\"id\":\"2401\",\"type\":\"FactorRange\"},{\"attributes\":{},\"id\":\"2450\",\"type\":\"BasicTicker\"},{\"attributes\":{},\"id\":\"2405\",\"type\":\"CategoricalScale\"},{\"attributes\":{\"below\":[{\"id\":\"2372\"}],\"center\":[{\"id\":\"2374\"},{\"id\":\"2378\"}],\"left\":[{\"id\":\"2375\"}],\"plot_height\":300,\"plot_width\":450,\"renderers\":[{\"id\":\"2396\"}],\"title\":{\"id\":\"2362\"},\"toolbar\":{\"id\":\"2386\"},\"toolbar_location\":null,\"x_range\":{\"id\":\"2364\"},\"x_scale\":{\"id\":\"2368\"},\"y_range\":{\"id\":\"2366\"},\"y_scale\":{\"id\":\"2370\"}},\"id\":\"2361\",\"subtype\":\"Figure\",\"type\":\"Plot\"},{\"attributes\":{\"start\":0},\"id\":\"2366\",\"type\":\"DataRange1d\"},{\"attributes\":{},\"id\":\"2407\",\"type\":\"LinearScale\"},{\"attributes\":{\"axis\":{\"id\":\"2449\"},\"dimension\":1,\"ticker\":null},\"id\":\"2452\",\"type\":\"Grid\"},{\"attributes\":{},\"id\":\"2454\",\"type\":\"WheelZoomTool\"},{\"attributes\":{\"axis_label\":\"value\",\"formatter\":{\"id\":\"2528\"},\"ticker\":{\"id\":\"2410\"}},\"id\":\"2409\",\"type\":\"CategoricalAxis\"},{\"attributes\":{\"children\":[[{\"id\":\"2324\"},0,0],[{\"id\":\"2361\"},0,1],[{\"id\":\"2398\"},1,0],[{\"id\":\"2435\"},1,1],[{\"id\":\"2472\"},2,0]]},\"id\":\"2554\",\"type\":\"GridBox\"},{\"attributes\":{\"data_source\":{\"id\":\"2467\"},\"glyph\":{\"id\":\"2468\"},\"hover_glyph\":null,\"muted_glyph\":null,\"nonselection_glyph\":{\"id\":\"2469\"},\"selection_glyph\":null,\"view\":{\"id\":\"2471\"}},\"id\":\"2470\",\"type\":\"GlyphRenderer\"},{\"attributes\":{\"below\":[{\"id\":\"2335\"}],\"center\":[{\"id\":\"2337\"},{\"id\":\"2341\"}],\"left\":[{\"id\":\"2338\"}],\"plot_height\":300,\"plot_width\":450,\"renderers\":[{\"id\":\"2359\"}],\"title\":{\"id\":\"2325\"},\"toolbar\":{\"id\":\"2349\"},\"toolbar_location\":null,\"x_range\":{\"id\":\"2327\"},\"x_scale\":{\"id\":\"2331\"},\"y_range\":{\"id\":\"2329\"},\"y_scale\":{\"id\":\"2333\"}},\"id\":\"2324\",\"subtype\":\"Figure\",\"type\":\"Plot\"},{\"attributes\":{},\"id\":\"2410\",\"type\":\"CategoricalTicker\"},{\"attributes\":{\"overlay\":{\"id\":\"2459\"}},\"id\":\"2455\",\"type\":\"BoxZoomTool\"},{\"attributes\":{\"start\":0},\"id\":\"2329\",\"type\":\"DataRange1d\"},{\"attributes\":{\"factors\":[\"Yes\",\"No\"]},\"id\":\"2364\",\"type\":\"FactorRange\"},{\"attributes\":{\"axis\":{\"id\":\"2409\"},\"grid_line_color\":null,\"ticker\":null},\"id\":\"2411\",\"type\":\"Grid\"},{\"attributes\":{},\"id\":\"2456\",\"type\":\"SaveTool\"},{\"attributes\":{\"axis_label\":\"count\",\"formatter\":{\"id\":\"2530\"},\"ticker\":{\"id\":\"2413\"}},\"id\":\"2412\",\"type\":\"LinearAxis\"},{\"attributes\":{},\"id\":\"2457\",\"type\":\"ResetTool\"},{\"attributes\":{},\"id\":\"2370\",\"type\":\"LinearScale\"},{\"attributes\":{},\"id\":\"2413\",\"type\":\"BasicTicker\"},{\"attributes\":{},\"id\":\"2458\",\"type\":\"HelpTool\"},{\"attributes\":{\"axis_label\":\"value\",\"formatter\":{\"id\":\"2519\"},\"ticker\":{\"id\":\"2373\"}},\"id\":\"2372\",\"type\":\"CategoricalAxis\"},{\"attributes\":{\"factors\":[\"No\",\"Yes\"]},\"id\":\"2327\",\"type\":\"FactorRange\"},{\"attributes\":{\"axis\":{\"id\":\"2412\"},\"dimension\":1,\"ticker\":null},\"id\":\"2415\",\"type\":\"Grid\"},{\"attributes\":{},\"id\":\"2373\",\"type\":\"CategoricalTicker\"},{\"attributes\":{\"active_drag\":\"auto\",\"active_inspect\":\"auto\",\"active_multi\":null,\"active_scroll\":\"auto\",\"active_tap\":\"auto\",\"tools\":[{\"id\":\"2453\"},{\"id\":\"2454\"},{\"id\":\"2455\"},{\"id\":\"2456\"},{\"id\":\"2457\"},{\"id\":\"2458\"}]},\"id\":\"2460\",\"type\":\"Toolbar\"},{\"attributes\":{\"fill_alpha\":{\"value\":0.1},\"fill_color\":{\"value\":\"darkgreen\"},\"line_alpha\":{\"value\":0.1},\"line_color\":{\"value\":\"darkgreen\"},\"top\":{\"field\":\"top\"},\"width\":{\"value\":0.8},\"x\":{\"field\":\"x\"}},\"id\":\"2358\",\"type\":\"VBar\"},{\"attributes\":{\"text\":\"Distribution of variable Enough\"},\"id\":\"2325\",\"type\":\"Title\"},{\"attributes\":{\"axis\":{\"id\":\"2372\"},\"grid_line_color\":null,\"ticker\":null},\"id\":\"2374\",\"type\":\"Grid\"},{\"attributes\":{\"fill_alpha\":{\"value\":0.1},\"fill_color\":{\"value\":\"darkgreen\"},\"line_alpha\":{\"value\":0.1},\"line_color\":{\"value\":\"darkgreen\"},\"top\":{\"field\":\"top\"},\"width\":{\"value\":0.8},\"x\":{\"field\":\"x\"}},\"id\":\"2432\",\"type\":\"VBar\"},{\"attributes\":{\"data_source\":{\"id\":\"2430\"},\"glyph\":{\"id\":\"2431\"},\"hover_glyph\":null,\"muted_glyph\":null,\"nonselection_glyph\":{\"id\":\"2432\"},\"selection_glyph\":null,\"view\":{\"id\":\"2434\"}},\"id\":\"2433\",\"type\":\"GlyphRenderer\"},{\"attributes\":{},\"id\":\"2521\",\"type\":\"BasicTickFormatter\"},{\"attributes\":{\"axis_label\":\"count\",\"formatter\":{\"id\":\"2521\"},\"ticker\":{\"id\":\"2376\"}},\"id\":\"2375\",\"type\":\"LinearAxis\"},{\"attributes\":{},\"id\":\"2331\",\"type\":\"CategoricalScale\"},{\"attributes\":{},\"id\":\"2519\",\"type\":\"CategoricalTickFormatter\"},{\"attributes\":{},\"id\":\"2416\",\"type\":\"PanTool\"},{\"attributes\":{},\"id\":\"2376\",\"type\":\"BasicTicker\"},{\"attributes\":{},\"id\":\"2333\",\"type\":\"LinearScale\"},{\"attributes\":{},\"id\":\"2523\",\"type\":\"Selection\"},{\"attributes\":{},\"id\":\"2417\",\"type\":\"WheelZoomTool\"},{\"attributes\":{\"axis\":{\"id\":\"2375\"},\"dimension\":1,\"ticker\":null},\"id\":\"2378\",\"type\":\"Grid\"},{\"attributes\":{\"bottom_units\":\"screen\",\"fill_alpha\":0.5,\"fill_color\":\"lightgrey\",\"left_units\":\"screen\",\"level\":\"overlay\",\"line_alpha\":1.0,\"line_color\":\"black\",\"line_dash\":[4,4],\"line_width\":2,\"right_units\":\"screen\",\"top_units\":\"screen\"},\"id\":\"2459\",\"type\":\"BoxAnnotation\"},{\"attributes\":{\"axis_label\":\"value\",\"formatter\":{\"id\":\"2510\"},\"ticker\":{\"id\":\"2336\"}},\"id\":\"2335\",\"type\":\"CategoricalAxis\"},{\"attributes\":{\"overlay\":{\"id\":\"2422\"}},\"id\":\"2418\",\"type\":\"BoxZoomTool\"},{\"attributes\":{\"fill_alpha\":{\"value\":0.1},\"fill_color\":{\"value\":\"darkgreen\"},\"line_alpha\":{\"value\":0.1},\"line_color\":{\"value\":\"darkgreen\"},\"top\":{\"field\":\"top\"},\"width\":{\"value\":0.8},\"x\":{\"field\":\"x\"}},\"id\":\"2395\",\"type\":\"VBar\"},{\"attributes\":{\"fill_color\":{\"value\":\"darkgreen\"},\"line_color\":{\"value\":\"darkgreen\"},\"top\":{\"field\":\"top\"},\"width\":{\"value\":0.8},\"x\":{\"field\":\"x\"}},\"id\":\"2468\",\"type\":\"VBar\"},{\"attributes\":{\"data_source\":{\"id\":\"2393\"},\"glyph\":{\"id\":\"2394\"},\"hover_glyph\":null,\"muted_glyph\":null,\"nonselection_glyph\":{\"id\":\"2395\"},\"selection_glyph\":null,\"view\":{\"id\":\"2397\"}},\"id\":\"2396\",\"type\":\"GlyphRenderer\"},{\"attributes\":{\"start\":0},\"id\":\"2477\",\"type\":\"DataRange1d\"},{\"attributes\":{},\"id\":\"2336\",\"type\":\"CategoricalTicker\"},{\"attributes\":{},\"id\":\"2419\",\"type\":\"SaveTool\"},{\"attributes\":{\"source\":{\"id\":\"2467\"}},\"id\":\"2471\",\"type\":\"CDSView\"},{\"attributes\":{\"axis\":{\"id\":\"2335\"},\"grid_line_color\":null,\"ticker\":null},\"id\":\"2337\",\"type\":\"Grid\"},{\"attributes\":{\"data\":{\"top\":[72,32],\"x\":[\"Yes\",\"No\"]},\"selected\":{\"id\":\"2523\"},\"selection_policy\":{\"id\":\"2524\"}},\"id\":\"2393\",\"type\":\"ColumnDataSource\"},{\"attributes\":{},\"id\":\"2420\",\"type\":\"ResetTool\"},{\"attributes\":{\"below\":[{\"id\":\"2483\"}],\"center\":[{\"id\":\"2485\"},{\"id\":\"2489\"}],\"left\":[{\"id\":\"2486\"}],\"plot_height\":300,\"plot_width\":450,\"renderers\":[{\"id\":\"2507\"}],\"title\":{\"id\":\"2473\"},\"toolbar\":{\"id\":\"2497\"},\"toolbar_location\":null,\"x_range\":{\"id\":\"2475\"},\"x_scale\":{\"id\":\"2479\"},\"y_range\":{\"id\":\"2477\"},\"y_scale\":{\"id\":\"2481\"}},\"id\":\"2472\",\"subtype\":\"Figure\",\"type\":\"Plot\"},{\"attributes\":{},\"id\":\"2379\",\"type\":\"PanTool\"},{\"attributes\":{\"axis_label\":\"count\",\"formatter\":{\"id\":\"2512\"},\"ticker\":{\"id\":\"2339\"}},\"id\":\"2338\",\"type\":\"LinearAxis\"},{\"attributes\":{},\"id\":\"2421\",\"type\":\"HelpTool\"},{\"attributes\":{},\"id\":\"2380\",\"type\":\"WheelZoomTool\"},{\"attributes\":{},\"id\":\"2339\",\"type\":\"BasicTicker\"},{\"attributes\":{},\"id\":\"2444\",\"type\":\"LinearScale\"},{\"attributes\":{\"overlay\":{\"id\":\"2385\"}},\"id\":\"2381\",\"type\":\"BoxZoomTool\"},{\"attributes\":{\"active_drag\":\"auto\",\"active_inspect\":\"auto\",\"active_multi\":null,\"active_scroll\":\"auto\",\"active_tap\":\"auto\",\"tools\":[{\"id\":\"2416\"},{\"id\":\"2417\"},{\"id\":\"2418\"},{\"id\":\"2419\"},{\"id\":\"2420\"},{\"id\":\"2421\"}]},\"id\":\"2423\",\"type\":\"Toolbar\"},{\"attributes\":{\"axis\":{\"id\":\"2338\"},\"dimension\":1,\"ticker\":null},\"id\":\"2341\",\"type\":\"Grid\"},{\"attributes\":{},\"id\":\"2382\",\"type\":\"SaveTool\"},{\"attributes\":{\"data_source\":{\"id\":\"2356\"},\"glyph\":{\"id\":\"2357\"},\"hover_glyph\":null,\"muted_glyph\":null,\"nonselection_glyph\":{\"id\":\"2358\"},\"selection_glyph\":null,\"view\":{\"id\":\"2360\"}},\"id\":\"2359\",\"type\":\"GlyphRenderer\"},{\"attributes\":{\"start\":0},\"id\":\"2440\",\"type\":\"DataRange1d\"},{\"attributes\":{},\"id\":\"2383\",\"type\":\"ResetTool\"},{\"attributes\":{\"factors\":[\"Yes\",\"No\"]},\"id\":\"2475\",\"type\":\"FactorRange\"},{\"attributes\":{\"fill_color\":{\"value\":\"darkgreen\"},\"line_color\":{\"value\":\"darkgreen\"},\"top\":{\"field\":\"top\"},\"width\":{\"value\":0.8},\"x\":{\"field\":\"x\"}},\"id\":\"2357\",\"type\":\"VBar\"},{\"attributes\":{},\"id\":\"2384\",\"type\":\"HelpTool\"},{\"attributes\":{\"data\":{\"top\":[68,36],\"x\":[\"No\",\"Yes\"]},\"selected\":{\"id\":\"2514\"},\"selection_policy\":{\"id\":\"2515\"}},\"id\":\"2356\",\"type\":\"ColumnDataSource\"},{\"attributes\":{\"fill_color\":{\"value\":\"darkgreen\"},\"line_color\":{\"value\":\"darkgreen\"},\"top\":{\"field\":\"top\"},\"width\":{\"value\":0.8},\"x\":{\"field\":\"x\"}},\"id\":\"2505\",\"type\":\"VBar\"},{\"attributes\":{\"text\":\"Distribution of variable Breakfast\"},\"id\":\"2473\",\"type\":\"Title\"},{\"attributes\":{},\"id\":\"2342\",\"type\":\"PanTool\"},{\"attributes\":{\"active_drag\":\"auto\",\"active_inspect\":\"auto\",\"active_multi\":null,\"active_scroll\":\"auto\",\"active_tap\":\"auto\",\"tools\":[{\"id\":\"2379\"},{\"id\":\"2380\"},{\"id\":\"2381\"},{\"id\":\"2382\"},{\"id\":\"2383\"},{\"id\":\"2384\"}]},\"id\":\"2386\",\"type\":\"Toolbar\"},{\"attributes\":{},\"id\":\"2442\",\"type\":\"CategoricalScale\"},{\"attributes\":{},\"id\":\"2343\",\"type\":\"WheelZoomTool\"},{\"attributes\":{\"factors\":[\"3\",\"2\",\"4\",\"5\",\"1\"]},\"id\":\"2438\",\"type\":\"FactorRange\"},{\"attributes\":{},\"id\":\"2479\",\"type\":\"CategoricalScale\"},{\"attributes\":{},\"id\":\"2447\",\"type\":\"CategoricalTicker\"},{\"attributes\":{\"overlay\":{\"id\":\"2348\"}},\"id\":\"2344\",\"type\":\"BoxZoomTool\"},{\"attributes\":{\"axis_label\":\"value\",\"formatter\":{\"id\":\"2537\"},\"ticker\":{\"id\":\"2447\"}},\"id\":\"2446\",\"type\":\"CategoricalAxis\"},{\"attributes\":{},\"id\":\"2481\",\"type\":\"LinearScale\"},{\"attributes\":{\"bottom_units\":\"screen\",\"fill_alpha\":0.5,\"fill_color\":\"lightgrey\",\"left_units\":\"screen\",\"level\":\"overlay\",\"line_alpha\":1.0,\"line_color\":\"black\",\"line_dash\":[4,4],\"line_width\":2,\"right_units\":\"screen\",\"top_units\":\"screen\"},\"id\":\"2422\",\"type\":\"BoxAnnotation\"},{\"attributes\":{},\"id\":\"2345\",\"type\":\"SaveTool\"},{\"attributes\":{\"axis\":{\"id\":\"2446\"},\"grid_line_color\":null,\"ticker\":null},\"id\":\"2448\",\"type\":\"Grid\"},{\"attributes\":{\"axis_label\":\"value\",\"formatter\":{\"id\":\"2546\"},\"ticker\":{\"id\":\"2484\"}},\"id\":\"2483\",\"type\":\"CategoricalAxis\"},{\"attributes\":{\"fill_color\":{\"value\":\"darkgreen\"},\"line_color\":{\"value\":\"darkgreen\"},\"top\":{\"field\":\"top\"},\"width\":{\"value\":0.8},\"x\":{\"field\":\"x\"}},\"id\":\"2431\",\"type\":\"VBar\"},{\"attributes\":{\"text\":\"Distribution of variable Tired\"},\"id\":\"2436\",\"type\":\"Title\"},{\"attributes\":{\"bottom_units\":\"screen\",\"fill_alpha\":0.5,\"fill_color\":\"lightgrey\",\"left_units\":\"screen\",\"level\":\"overlay\",\"line_alpha\":1.0,\"line_color\":\"black\",\"line_dash\":[4,4],\"line_width\":2,\"right_units\":\"screen\",\"top_units\":\"screen\"},\"id\":\"2385\",\"type\":\"BoxAnnotation\"},{\"attributes\":{},\"id\":\"2346\",\"type\":\"ResetTool\"},{\"attributes\":{\"source\":{\"id\":\"2430\"}},\"id\":\"2434\",\"type\":\"CDSView\"},{\"attributes\":{},\"id\":\"2484\",\"type\":\"CategoricalTicker\"},{\"attributes\":{\"fill_color\":{\"value\":\"darkgreen\"},\"line_color\":{\"value\":\"darkgreen\"},\"top\":{\"field\":\"top\"},\"width\":{\"value\":0.8},\"x\":{\"field\":\"x\"}},\"id\":\"2394\",\"type\":\"VBar\"},{\"attributes\":{},\"id\":\"2347\",\"type\":\"HelpTool\"},{\"attributes\":{\"axis\":{\"id\":\"2483\"},\"grid_line_color\":null,\"ticker\":null},\"id\":\"2485\",\"type\":\"Grid\"},{\"attributes\":{\"data\":{\"top\":[84,20],\"x\":[\"Yes\",\"No\"]},\"selected\":{\"id\":\"2532\"},\"selection_policy\":{\"id\":\"2533\"}},\"id\":\"2430\",\"type\":\"ColumnDataSource\"},{\"attributes\":{\"source\":{\"id\":\"2393\"}},\"id\":\"2397\",\"type\":\"CDSView\"},{\"attributes\":{\"axis_label\":\"count\",\"formatter\":{\"id\":\"2548\"},\"ticker\":{\"id\":\"2487\"}},\"id\":\"2486\",\"type\":\"LinearAxis\"},{\"attributes\":{\"below\":[{\"id\":\"2446\"}],\"center\":[{\"id\":\"2448\"},{\"id\":\"2452\"}],\"left\":[{\"id\":\"2449\"}],\"plot_height\":300,\"plot_width\":450,\"renderers\":[{\"id\":\"2470\"}],\"title\":{\"id\":\"2436\"},\"toolbar\":{\"id\":\"2460\"},\"toolbar_location\":null,\"x_range\":{\"id\":\"2438\"},\"x_scale\":{\"id\":\"2442\"},\"y_range\":{\"id\":\"2440\"},\"y_scale\":{\"id\":\"2444\"}},\"id\":\"2435\",\"subtype\":\"Figure\",\"type\":\"Plot\"},{\"attributes\":{\"active_drag\":\"auto\",\"active_inspect\":\"auto\",\"active_multi\":null,\"active_scroll\":\"auto\",\"active_tap\":\"auto\",\"tools\":[{\"id\":\"2342\"},{\"id\":\"2343\"},{\"id\":\"2344\"},{\"id\":\"2345\"},{\"id\":\"2346\"},{\"id\":\"2347\"}]},\"id\":\"2349\",\"type\":\"Toolbar\"},{\"attributes\":{\"below\":[{\"id\":\"2409\"}],\"center\":[{\"id\":\"2411\"},{\"id\":\"2415\"}],\"left\":[{\"id\":\"2412\"}],\"plot_height\":300,\"plot_width\":450,\"renderers\":[{\"id\":\"2433\"}],\"title\":{\"id\":\"2399\"},\"toolbar\":{\"id\":\"2423\"},\"toolbar_location\":null,\"x_range\":{\"id\":\"2401\"},\"x_scale\":{\"id\":\"2405\"},\"y_range\":{\"id\":\"2403\"},\"y_scale\":{\"id\":\"2407\"}},\"id\":\"2398\",\"subtype\":\"Figure\",\"type\":\"Plot\"},{\"attributes\":{},\"id\":\"2487\",\"type\":\"BasicTicker\"},{\"attributes\":{\"data\":{\"top\":[40,27,23,10,4],\"x\":[\"3\",\"2\",\"4\",\"5\",\"1\"]},\"selected\":{\"id\":\"2541\"},\"selection_policy\":{\"id\":\"2542\"}},\"id\":\"2467\",\"type\":\"ColumnDataSource\"},{\"attributes\":{\"axis\":{\"id\":\"2486\"},\"dimension\":1,\"ticker\":null},\"id\":\"2489\",\"type\":\"Grid\"},{\"attributes\":{\"data\":{\"top\":[63,41],\"x\":[\"Yes\",\"No\"]},\"selected\":{\"id\":\"2550\"},\"selection_policy\":{\"id\":\"2551\"}},\"id\":\"2504\",\"type\":\"ColumnDataSource\"}],\"root_ids\":[\"2557\"]},\"title\":\"Bokeh Application\",\"version\":\"2.2.3\"}};\n",
       "  var render_items = [{\"docid\":\"267a5c22-3e75-43d1-991f-009db5a41a8a\",\"root_ids\":[\"2557\"],\"roots\":{\"2557\":\"e973cc1b-093a-42b1-b6a0-2fc0eb3d5421\"}}];\n",
       "  root.Bokeh.embed.embed_items_notebook(docs_json, render_items);\n",
       "\n",
       "  }\n",
       "  if (root.Bokeh !== undefined) {\n",
       "    embed_document(root);\n",
       "  } else {\n",
       "    var attempts = 0;\n",
       "    var timer = setInterval(function(root) {\n",
       "      if (root.Bokeh !== undefined) {\n",
       "        clearInterval(timer);\n",
       "        embed_document(root);\n",
       "      } else {\n",
       "        attempts++;\n",
       "        if (attempts > 100) {\n",
       "          clearInterval(timer);\n",
       "          console.log(\"Bokeh: ERROR: Unable to run BokehJS code because BokehJS library is missing\");\n",
       "        }\n",
       "      }\n",
       "    }, 10, root)\n",
       "  }\n",
       "})(window);"
      ],
      "application/vnd.bokehjs_exec.v0+json": ""
     },
     "metadata": {
      "application/vnd.bokehjs_exec.v0+json": {
       "id": "2557"
      }
     },
     "output_type": "display_data"
    }
   ],
   "source": [
    "#code your answer to the value counts and distribution plots here\n",
    "def make_plot(title, x, y):\n",
    "    p = figure(x_range=x, plot_height=300, title=f\"Distribution of variable {title}\")\n",
    "    p.vbar(x=x, top=y, width=0.8, color=\"darkgreen\")\n",
    "    p.xaxis.axis_label = \"value\"\n",
    "    p.yaxis.axis_label = \"count\"\n",
    "    p.xgrid.grid_line_color = None\n",
    "    p.y_range.start = 0\n",
    "    return p\n",
    "\n",
    "def show_info(df):\n",
    "    g = []\n",
    "    for column_name in df.drop(columns=['Hours']).columns:\n",
    "        value_counts = df[column_name].value_counts()\n",
    "        labels = list(value_counts.index.astype(str))\n",
    "        print(f\"{value_counts}\\n\")\n",
    "        p = make_plot(column_name, labels, value_counts)\n",
    "        g.append(p)\n",
    "    show(gridplot(g, ncols=2, plot_width=450, plot_height=300))\n",
    "\n",
    "show_info(df)"
   ]
  },
  {
   "cell_type": "code",
   "execution_count": 29,
   "metadata": {},
   "outputs": [
    {
     "name": "stdout",
     "output_type": "stream",
     "text": [
      "Tired  Breakfast\n",
      "1      No           7.000000\n",
      "       Yes          8.333333\n",
      "2      No           6.428571\n",
      "       Yes          6.736842\n",
      "3      No           6.266667\n",
      "       Yes          7.000000\n",
      "4      No           6.727273\n",
      "       Yes          6.750000\n",
      "5      No           5.285714\n",
      "       Yes          6.666667\n",
      "Name: Hours, dtype: float64\n"
     ]
    }
   ],
   "source": [
    "tscore = df.copy()\n",
    "tscore_mean = tscore.groupby(['Tired', 'Breakfast'])['Hours'].mean()\n",
    "print(tscore_mean)"
   ]
  },
  {
   "cell_type": "code",
   "execution_count": 30,
   "metadata": {},
   "outputs": [
    {
     "data": {
      "text/html": [
       "\n",
       "\n",
       "\n",
       "\n",
       "\n",
       "\n",
       "  <div class=\"bk-root\" id=\"3c3aa749-fc2d-4274-8729-a21a3e337e4b\" data-root-id=\"2895\"></div>\n"
      ]
     },
     "metadata": {},
     "output_type": "display_data"
    },
    {
     "data": {
      "application/javascript": [
       "(function(root) {\n",
       "  function embed_document(root) {\n",
       "    \n",
       "  var docs_json = {\"f1498d97-af08-43c9-a84c-bd4cd08340e8\":{\"roots\":{\"references\":[{\"attributes\":{\"below\":[{\"id\":\"2906\"}],\"center\":[{\"id\":\"2909\"},{\"id\":\"2913\"}],\"left\":[{\"id\":\"2910\"}],\"plot_width\":900,\"renderers\":[{\"id\":\"2933\"}],\"right\":[{\"id\":\"2928\"}],\"title\":{\"id\":\"2896\"},\"toolbar\":{\"id\":\"2921\"},\"x_range\":{\"id\":\"2898\"},\"x_scale\":{\"id\":\"2902\"},\"y_range\":{\"id\":\"2900\"},\"y_scale\":{\"id\":\"2904\"}},\"id\":\"2895\",\"subtype\":\"Figure\",\"type\":\"Plot\"},{\"attributes\":{\"axis_label\":\"Tireness score\",\"formatter\":{\"id\":\"2936\"},\"ticker\":{\"id\":\"2907\"}},\"id\":\"2906\",\"type\":\"LinearAxis\"},{\"attributes\":{\"items\":[{\"id\":\"2943\"},{\"id\":\"2944\"}],\"title\":\"Had Breakfast\"},\"id\":\"2928\",\"type\":\"Legend\"},{\"attributes\":{\"active_drag\":\"auto\",\"active_inspect\":\"auto\",\"active_multi\":null,\"active_scroll\":\"auto\",\"active_tap\":\"auto\",\"tools\":[{\"id\":\"2914\"},{\"id\":\"2915\"},{\"id\":\"2916\"},{\"id\":\"2917\"},{\"id\":\"2918\"},{\"id\":\"2919\"}]},\"id\":\"2921\",\"type\":\"Toolbar\"},{\"attributes\":{},\"id\":\"2907\",\"type\":\"BasicTicker\"},{\"attributes\":{},\"id\":\"2898\",\"type\":\"DataRange1d\"},{\"attributes\":{\"fill_color\":{\"field\":\"Breakfast\",\"transform\":{\"id\":\"2894\"}},\"line_color\":{\"field\":\"Breakfast\",\"transform\":{\"id\":\"2894\"}},\"size\":{\"units\":\"screen\",\"value\":20},\"x\":{\"field\":\"Tired\"},\"y\":{\"field\":\"Hours\"}},\"id\":\"2931\",\"type\":\"Circle\"},{\"attributes\":{\"axis\":{\"id\":\"2906\"},\"ticker\":null},\"id\":\"2909\",\"type\":\"Grid\"},{\"attributes\":{\"index\":0,\"label\":{\"value\":\"Yes\"},\"renderers\":[{\"id\":\"2933\"}]},\"id\":\"2944\",\"type\":\"LegendItem\"},{\"attributes\":{\"overlay\":{\"id\":\"2920\"}},\"id\":\"2916\",\"type\":\"BoxZoomTool\"},{\"attributes\":{\"start\":0},\"id\":\"2900\",\"type\":\"DataRange1d\"},{\"attributes\":{\"axis_label\":\"Hours slept\",\"formatter\":{\"id\":\"2938\"},\"ticker\":{\"id\":\"2911\"}},\"id\":\"2910\",\"type\":\"LinearAxis\"},{\"attributes\":{\"index\":1,\"label\":{\"value\":\"No\"},\"renderers\":[{\"id\":\"2933\"}]},\"id\":\"2943\",\"type\":\"LegendItem\"},{\"attributes\":{\"text\":\"Having breakfast against Hours slept and tireness score\"},\"id\":\"2896\",\"type\":\"Title\"},{\"attributes\":{},\"id\":\"2911\",\"type\":\"BasicTicker\"},{\"attributes\":{\"bottom_units\":\"screen\",\"fill_alpha\":0.5,\"fill_color\":\"lightgrey\",\"left_units\":\"screen\",\"level\":\"overlay\",\"line_alpha\":1.0,\"line_color\":\"black\",\"line_dash\":[4,4],\"line_width\":2,\"right_units\":\"screen\",\"top_units\":\"screen\"},\"id\":\"2920\",\"type\":\"BoxAnnotation\"},{\"attributes\":{},\"id\":\"2941\",\"type\":\"UnionRenderers\"},{\"attributes\":{},\"id\":\"2919\",\"type\":\"HelpTool\"},{\"attributes\":{\"fill_alpha\":{\"value\":0.1},\"fill_color\":{\"field\":\"Breakfast\",\"transform\":{\"id\":\"2894\"}},\"line_alpha\":{\"value\":0.1},\"line_color\":{\"field\":\"Breakfast\",\"transform\":{\"id\":\"2894\"}},\"size\":{\"units\":\"screen\",\"value\":20},\"x\":{\"field\":\"Tired\"},\"y\":{\"field\":\"Hours\"}},\"id\":\"2932\",\"type\":\"Circle\"},{\"attributes\":{},\"id\":\"2936\",\"type\":\"BasicTickFormatter\"},{\"attributes\":{},\"id\":\"2915\",\"type\":\"WheelZoomTool\"},{\"attributes\":{\"factors\":[\"Yes\",\"No\"],\"palette\":[\"#0072B2\",\"#E69F00\",\"#F0E442\",\"#009E73\",\"#56B4E9\",\"#D55E00\",\"#CC79A7\",\"#000000\"]},\"id\":\"2894\",\"type\":\"CategoricalColorMapper\"},{\"attributes\":{\"source\":{\"id\":\"2929\"}},\"id\":\"2934\",\"type\":\"CDSView\"},{\"attributes\":{\"data_source\":{\"id\":\"2929\"},\"glyph\":{\"id\":\"2931\"},\"hover_glyph\":null,\"muted_glyph\":null,\"nonselection_glyph\":{\"id\":\"2932\"},\"selection_glyph\":null,\"view\":{\"id\":\"2934\"}},\"id\":\"2933\",\"type\":\"GlyphRenderer\"},{\"attributes\":{},\"id\":\"2914\",\"type\":\"PanTool\"},{\"attributes\":{},\"id\":\"2904\",\"type\":\"LinearScale\"},{\"attributes\":{},\"id\":\"2917\",\"type\":\"SaveTool\"},{\"attributes\":{},\"id\":\"2902\",\"type\":\"LinearScale\"},{\"attributes\":{},\"id\":\"2938\",\"type\":\"BasicTickFormatter\"},{\"attributes\":{},\"id\":\"2940\",\"type\":\"Selection\"},{\"attributes\":{\"axis\":{\"id\":\"2910\"},\"dimension\":1,\"ticker\":null},\"id\":\"2913\",\"type\":\"Grid\"},{\"attributes\":{},\"id\":\"2918\",\"type\":\"ResetTool\"},{\"attributes\":{\"data\":{\"Breakfast\":[\"Yes\",\"No\",\"Yes\",\"No\",\"Yes\",\"No\",\"Yes\",\"Yes\",\"Yes\",\"Yes\",\"No\",\"Yes\",\"No\",\"No\",\"Yes\",\"No\",\"Yes\",\"Yes\",\"Yes\",\"No\",\"No\",\"Yes\",\"Yes\",\"Yes\",\"No\",\"No\",\"No\",\"No\",\"Yes\",\"Yes\",\"Yes\",\"Yes\",\"No\",\"No\",\"Yes\",\"Yes\",\"Yes\",\"Yes\",\"No\",\"No\",\"Yes\",\"Yes\",\"No\",\"Yes\",\"No\",\"No\",\"Yes\",\"Yes\",\"Yes\",\"Yes\",\"No\",\"Yes\",\"Yes\",\"No\",\"Yes\",\"Yes\",\"No\",\"No\",\"Yes\",\"No\",\"No\",\"Yes\",\"No\",\"No\",\"Yes\",\"Yes\",\"No\",\"Yes\",\"No\",\"Yes\",\"Yes\",\"Yes\",\"No\",\"Yes\",\"Yes\",\"No\",\"Yes\",\"No\",\"Yes\",\"No\",\"No\",\"No\",\"No\",\"Yes\",\"Yes\",\"No\",\"Yes\",\"Yes\",\"Yes\",\"Yes\",\"Yes\",\"Yes\",\"Yes\",\"Yes\",\"No\",\"Yes\",\"Yes\",\"No\",\"No\",\"Yes\",\"Yes\",\"Yes\",\"Yes\",\"Yes\"],\"Enough\":[\"Yes\",\"No\",\"Yes\",\"No\",\"No\",\"No\",\"Yes\",\"No\",\"No\",\"No\",\"No\",\"No\",\"Yes\",\"Yes\",\"Yes\",\"Yes\",\"Yes\",\"Yes\",\"No\",\"Yes\",\"No\",\"No\",\"No\",\"No\",\"No\",\"No\",\"No\",\"No\",\"Yes\",\"Yes\",\"Yes\",\"No\",\"No\",\"No\",\"No\",\"No\",\"Yes\",\"Yes\",\"No\",\"No\",\"Yes\",\"No\",\"No\",\"No\",\"No\",\"No\",\"Yes\",\"No\",\"No\",\"No\",\"No\",\"No\",\"No\",\"No\",\"No\",\"No\",\"No\",\"No\",\"No\",\"Yes\",\"No\",\"No\",\"No\",\"No\",\"No\",\"No\",\"Yes\",\"No\",\"Yes\",\"No\",\"Yes\",\"No\",\"No\",\"No\",\"Yes\",\"No\",\"No\",\"Yes\",\"No\",\"No\",\"Yes\",\"No\",\"No\",\"Yes\",\"Yes\",\"No\",\"No\",\"No\",\"No\",\"Yes\",\"No\",\"Yes\",\"Yes\",\"Yes\",\"Yes\",\"Yes\",\"No\",\"Yes\",\"No\",\"No\",\"No\",\"Yes\",\"Yes\",\"Yes\"],\"Hours\":{\"__ndarray__\":\"AAAAAAAAIEAAAAAAAAAYQAAAAAAAABhAAAAAAAAAHEAAAAAAAAAcQAAAAAAAABxAAAAAAAAAHEAAAAAAAAAcQAAAAAAAABBAAAAAAAAAGEAAAAAAAAAkQAAAAAAAABxAAAAAAAAAHEAAAAAAAAAgQAAAAAAAABxAAAAAAAAAIEAAAAAAAAAYQAAAAAAAACBAAAAAAAAAIkAAAAAAAAAgQAAAAAAAAABAAAAAAAAAEEAAAAAAAAAUQAAAAAAAABxAAAAAAAAAFEAAAAAAAAAcQAAAAAAAABhAAAAAAAAAGEAAAAAAAAAcQAAAAAAAACJAAAAAAAAAIEAAAAAAAAAgQAAAAAAAABhAAAAAAAAAGEAAAAAAAAAcQAAAAAAAABxAAAAAAAAAHEAAAAAAAAAiQAAAAAAAABRAAAAAAAAAHEAAAAAAAAAgQAAAAAAAABxAAAAAAAAAFEAAAAAAAAAYQAAAAAAAABBAAAAAAAAAHEAAAAAAAAAiQAAAAAAAABRAAAAAAAAAGEAAAAAAAAAQQAAAAAAAABRAAAAAAAAAIEAAAAAAAAAcQAAAAAAAABRAAAAAAAAAHEAAAAAAAAAUQAAAAAAAABhAAAAAAAAAIkAAAAAAAAAiQAAAAAAAABxAAAAAAAAAGEAAAAAAAAAcQAAAAAAAAABAAAAAAAAAIEAAAAAAAAAcQAAAAAAAAPh/AAAAAAAAHEAAAAAAAAAcQAAAAAAAABxAAAAAAAAAGEAAAAAAAAAYQAAAAAAAABRAAAAAAAAAFEAAAAAAAAAYQAAAAAAAABxAAAAAAAAAGEAAAAAAAAAgQAAAAAAAABhAAAAAAAAAGEAAAAAAAAAcQAAAAAAAABhAAAAAAAAAGEAAAAAAAAAUQAAAAAAAACBAAAAAAAAAIEAAAAAAAAAYQAAAAAAAACJAAAAAAAAAFEAAAAAAAAAYQAAAAAAAACBAAAAAAAAAHEAAAAAAAAD4fwAAAAAAABxAAAAAAAAAIkAAAAAAAAAgQAAAAAAAABxAAAAAAAAAHEAAAAAAAAAcQAAAAAAAABhAAAAAAAAAHEAAAAAAAAAcQAAAAAAAACBAAAAAAAAAHEAAAAAAAAAYQA==\",\"dtype\":\"float64\",\"order\":\"little\",\"shape\":[104]},\"PhoneReach\":[\"Yes\",\"Yes\",\"Yes\",\"Yes\",\"Yes\",\"Yes\",\"Yes\",\"Yes\",\"No\",\"Yes\",\"Yes\",\"Yes\",\"Yes\",\"Yes\",\"No\",\"Yes\",\"Yes\",\"Yes\",\"Yes\",\"Yes\",\"Yes\",\"Yes\",\"Yes\",\"Yes\",\"Yes\",\"No\",\"Yes\",\"Yes\",\"Yes\",\"No\",\"Yes\",\"No\",\"Yes\",\"No\",\"No\",\"Yes\",\"No\",\"No\",\"Yes\",\"Yes\",\"No\",\"No\",\"Yes\",\"Yes\",\"No\",\"Yes\",\"Yes\",\"No\",\"No\",\"Yes\",\"Yes\",\"Yes\",\"No\",\"Yes\",\"Yes\",\"No\",\"Yes\",\"No\",\"Yes\",\"Yes\",\"Yes\",\"Yes\",\"No\",\"Yes\",\"Yes\",\"Yes\",\"Yes\",\"Yes\",\"Yes\",\"Yes\",\"No\",\"Yes\",\"Yes\",\"No\",\"Yes\",\"No\",\"Yes\",\"Yes\",\"Yes\",\"Yes\",\"Yes\",\"Yes\",\"No\",\"No\",\"No\",\"Yes\",\"No\",\"Yes\",\"Yes\",\"No\",\"No\",\"No\",\"No\",\"No\",\"Yes\",\"No\",\"Yes\",\"Yes\",\"Yes\",\"Yes\",\"No\",\"Yes\",\"Yes\",\"Yes\"],\"PhoneTime\":[\"Yes\",\"Yes\",\"Yes\",\"Yes\",\"Yes\",\"Yes\",\"Yes\",\"Yes\",\"Yes\",\"Yes\",\"Yes\",\"Yes\",\"Yes\",\"Yes\",\"Yes\",\"Yes\",\"Yes\",\"Yes\",\"Yes\",\"Yes\",\"Yes\",\"Yes\",\"No\",\"No\",\"Yes\",\"Yes\",\"Yes\",\"Yes\",\"No\",\"No\",\"Yes\",\"Yes\",\"Yes\",\"No\",\"Yes\",\"Yes\",\"No\",\"Yes\",\"No\",\"Yes\",\"Yes\",\"Yes\",\"Yes\",\"Yes\",\"No\",\"Yes\",\"Yes\",\"No\",\"Yes\",\"Yes\",\"No\",\"Yes\",\"Yes\",\"Yes\",\"Yes\",\"Yes\",\"Yes\",\"Yes\",\"No\",\"Yes\",\"Yes\",\"Yes\",\"No\",\"Yes\",\"Yes\",\"No\",\"No\",\"Yes\",\"No\",\"Yes\",\"Yes\",\"Yes\",\"Yes\",\"Yes\",\"Yes\",\"Yes\",\"Yes\",\"Yes\",\"Yes\",\"Yes\",\"Yes\",\"Yes\",\"No\",\"No\",\"Yes\",\"Yes\",\"Yes\",\"No\",\"No\",\"Yes\",\"Yes\",\"Yes\",\"Yes\",\"No\",\"Yes\",\"Yes\",\"Yes\",\"Yes\",\"Yes\",\"Yes\",\"Yes\",\"Yes\",\"Yes\",\"Yes\"],\"Tired\":[3,3,2,4,2,4,3,3,2,3,4,2,3,2,3,3,4,3,3,3,5,2,3,3,2,5,3,2,2,2,2,3,4,3,3,3,2,2,5,2,1,4,3,3,5,4,1,5,3,2,3,3,4,2,3,2,3,5,4,2,3,3,5,5,4,3,1,3,3,3,4,4,4,5,4,4,4,4,3,4,3,3,4,2,1,3,5,4,2,3,4,2,2,2,4,2,4,2,3,2,3,3,2,3],\"index\":[0,1,2,3,4,5,6,7,8,9,10,11,12,13,14,15,16,17,18,19,20,21,22,23,24,25,26,27,28,29,30,31,32,33,34,35,36,37,38,39,40,41,42,43,44,45,46,47,48,49,50,51,52,53,54,55,56,57,58,59,60,61,62,63,64,65,66,67,68,69,70,71,72,73,74,75,76,77,78,79,80,81,82,83,84,85,86,87,88,89,90,91,92,93,94,95,96,97,98,99,100,101,102,103]},\"selected\":{\"id\":\"2940\"},\"selection_policy\":{\"id\":\"2941\"}},\"id\":\"2929\",\"type\":\"ColumnDataSource\"}],\"root_ids\":[\"2895\"]},\"title\":\"Bokeh Application\",\"version\":\"2.2.3\"}};\n",
       "  var render_items = [{\"docid\":\"f1498d97-af08-43c9-a84c-bd4cd08340e8\",\"root_ids\":[\"2895\"],\"roots\":{\"2895\":\"3c3aa749-fc2d-4274-8729-a21a3e337e4b\"}}];\n",
       "  root.Bokeh.embed.embed_items_notebook(docs_json, render_items);\n",
       "\n",
       "  }\n",
       "  if (root.Bokeh !== undefined) {\n",
       "    embed_document(root);\n",
       "  } else {\n",
       "    var attempts = 0;\n",
       "    var timer = setInterval(function(root) {\n",
       "      if (root.Bokeh !== undefined) {\n",
       "        clearInterval(timer);\n",
       "        embed_document(root);\n",
       "      } else {\n",
       "        attempts++;\n",
       "        if (attempts > 100) {\n",
       "          clearInterval(timer);\n",
       "          console.log(\"Bokeh: ERROR: Unable to run BokehJS code because BokehJS library is missing\");\n",
       "        }\n",
       "      }\n",
       "    }, 10, root)\n",
       "  }\n",
       "})(window);"
      ],
      "application/vnd.bokehjs_exec.v0+json": ""
     },
     "metadata": {
      "application/vnd.bokehjs_exec.v0+json": {
       "id": "2895"
      }
     },
     "output_type": "display_data"
    }
   ],
   "source": [
    "#code for the scatter plot here\n",
    "cat_color_mapper = CategoricalColorMapper(factors=[x for x in df['Breakfast'].unique()], \n",
    "                                          palette=Colorblind[8])\n",
    "p = figure(title=\"Having breakfast against Hours slept and tireness score\",\n",
    "           plot_width=900, \n",
    "           plot_height=600)\n",
    "p.add_layout(Legend(), 'right')\n",
    "p.legend.title = \"Had Breakfast\"\n",
    "p.circle('Tired', 'Hours', legend_group='Breakfast', size=20,\n",
    "        color=dict(field='Breakfast', transform=cat_color_mapper), source=df)\n",
    "p.xaxis.axis_label = \"Tireness score\"\n",
    "p.yaxis.axis_label = \"Hours slept\"\n",
    "p.y_range.start = 0\n",
    "\n",
    "show(p)"
   ]
  },
  {
   "cell_type": "code",
   "execution_count": 31,
   "metadata": {},
   "outputs": [
    {
     "data": {
      "text/plain": [
       "count    102.000000\n",
       "mean       6.656863\n",
       "std        1.417676\n",
       "min        2.000000\n",
       "25%        6.000000\n",
       "50%        7.000000\n",
       "75%        7.000000\n",
       "max       10.000000\n",
       "Name: Hours, dtype: float64"
      ]
     },
     "execution_count": 31,
     "metadata": {},
     "output_type": "execute_result"
    }
   ],
   "source": [
    "#code your answer to the target statistics here\n",
    "df.Hours.describe()"
   ]
  },
  {
   "cell_type": "code",
   "execution_count": 38,
   "metadata": {},
   "outputs": [
    {
     "data": {
      "text/html": [
       "<div>\n",
       "<style scoped>\n",
       "    .dataframe tbody tr th:only-of-type {\n",
       "        vertical-align: middle;\n",
       "    }\n",
       "\n",
       "    .dataframe tbody tr th {\n",
       "        vertical-align: top;\n",
       "    }\n",
       "\n",
       "    .dataframe thead th {\n",
       "        text-align: right;\n",
       "    }\n",
       "</style>\n",
       "<table border=\"1\" class=\"dataframe\">\n",
       "  <thead>\n",
       "    <tr style=\"text-align: right;\">\n",
       "      <th></th>\n",
       "      <th>Enough</th>\n",
       "      <th>Hours</th>\n",
       "      <th>PhoneReach</th>\n",
       "      <th>PhoneTime</th>\n",
       "      <th>Tired</th>\n",
       "    </tr>\n",
       "  </thead>\n",
       "  <tbody>\n",
       "    <tr>\n",
       "      <th>Enough</th>\n",
       "      <td>1.000000</td>\n",
       "      <td>0.380740</td>\n",
       "      <td>0.084214</td>\n",
       "      <td>0.003945</td>\n",
       "      <td>0.417006</td>\n",
       "    </tr>\n",
       "    <tr>\n",
       "      <th>Hours</th>\n",
       "      <td>0.380740</td>\n",
       "      <td>1.000000</td>\n",
       "      <td>0.054957</td>\n",
       "      <td>0.151378</td>\n",
       "      <td>0.191913</td>\n",
       "    </tr>\n",
       "    <tr>\n",
       "      <th>PhoneReach</th>\n",
       "      <td>0.084214</td>\n",
       "      <td>0.054957</td>\n",
       "      <td>1.000000</td>\n",
       "      <td>0.150451</td>\n",
       "      <td>0.073232</td>\n",
       "    </tr>\n",
       "    <tr>\n",
       "      <th>PhoneTime</th>\n",
       "      <td>0.003945</td>\n",
       "      <td>0.151378</td>\n",
       "      <td>0.150451</td>\n",
       "      <td>1.000000</td>\n",
       "      <td>0.035423</td>\n",
       "    </tr>\n",
       "    <tr>\n",
       "      <th>Tired</th>\n",
       "      <td>0.417006</td>\n",
       "      <td>0.191913</td>\n",
       "      <td>0.073232</td>\n",
       "      <td>0.035423</td>\n",
       "      <td>1.000000</td>\n",
       "    </tr>\n",
       "  </tbody>\n",
       "</table>\n",
       "</div>"
      ],
      "text/plain": [
       "              Enough     Hours  PhoneReach  PhoneTime     Tired\n",
       "Enough      1.000000  0.380740    0.084214   0.003945  0.417006\n",
       "Hours       0.380740  1.000000    0.054957   0.151378  0.191913\n",
       "PhoneReach  0.084214  0.054957    1.000000   0.150451  0.073232\n",
       "PhoneTime   0.003945  0.151378    0.150451   1.000000  0.035423\n",
       "Tired       0.417006  0.191913    0.073232   0.035423  1.000000"
      ]
     },
     "metadata": {},
     "output_type": "display_data"
    }
   ],
   "source": [
    "#code your answer for the heatmap here and briefly state your finding\n",
    "# Based on code by Fenna Feenstra\n",
    "c = numeric_df.corr().abs()\n",
    "y_range = (list(reversed(c.columns)))\n",
    "x_range = (list(c.index))\n",
    "display(c)\n"
   ]
  },
  {
   "cell_type": "markdown",
   "metadata": {},
   "source": [
    "---"
   ]
  },
  {
   "cell_type": "markdown",
   "metadata": {},
   "source": [
    "<a name='2'></a>\n",
    "## Part 3: Check Assumptions\n",
    "\n",
    "Before we answer the research question with ANOVA we need to check the following assumptions:\n",
    "\n",
    "1. ANOVA assumes that the dependent variable is normaly distributed\n",
    "2. ANOVA also assumes homogeneity of variance\n",
    "3. ANOVA also assumes that the observations are independent of each other. Most of the time we need domain knowledge and experiment setup descriptions to estimate this assumption\n",
    "\n",
    "We are going to do this graphically and statistically. "
   ]
  },
  {
   "cell_type": "markdown",
   "metadata": {},
   "source": [
    "<a name='ex-31'></a>\n",
    "### Check normality (10 pt)\n",
    "\n",
    "<ul><li>\n",
    "Plot the distribution of the dependent variable. Add a vertical line at the position of the average. Add a vertical line for the robuust estimation. Add the normal distribution line to the plot. Comment on the normallity of the data. Do you want the full points? Plot with bokeh!</li>\n",
    "\n",
    "<li>Use a Shapiro-Wilk Test or an Anderson-Darling test to check statistically</li></ul>\n",
    "\n",
    "\n",
    "<details>    \n",
    "<summary>\n",
    "    <font size=\"3\" color=\"darkgreen\"><b>Hints</b></font>\n",
    "</summary>\n",
    "    <ul><li>check the code of lesson 1 DS1 bayesian statistics</li>\n",
    "        <li>heart_failure case of gitbook uses bokeh histograms</li>\n",
    "</ul>\n",
    "</details>"
   ]
  },
  {
   "cell_type": "code",
   "execution_count": 9,
   "metadata": {},
   "outputs": [],
   "source": [
    "# your code to plot here"
   ]
  },
  {
   "cell_type": "code",
   "execution_count": 10,
   "metadata": {},
   "outputs": [],
   "source": [
    "# briefly summarize your findings"
   ]
  },
  {
   "cell_type": "markdown",
   "metadata": {},
   "source": [
    "<a name='ex-32'></a>\n",
    "### Check homogeneity of variance (20 pt)\n",
    "\n",
    "<ul><li>\n",
    "Use boxplots for the check of homoegeneity of variance. Do you want the full points? Plot with bokeh!</li>\n",
    "\n",
    "<li>Use a Levene’s & Bartlett’s Test of Equality (Homogeneity) of Variance to test equal variance statistically</li><ul>"
   ]
  },
  {
   "cell_type": "code",
   "execution_count": 11,
   "metadata": {},
   "outputs": [],
   "source": [
    "# your code to plot here"
   ]
  },
  {
   "cell_type": "code",
   "execution_count": 12,
   "metadata": {},
   "outputs": [],
   "source": [
    "# your code for the statistical test here"
   ]
  },
  {
   "cell_type": "code",
   "execution_count": 13,
   "metadata": {},
   "outputs": [],
   "source": [
    "# briefly summarize your findings"
   ]
  },
  {
   "cell_type": "markdown",
   "metadata": {},
   "source": [
    "---"
   ]
  },
  {
   "cell_type": "markdown",
   "metadata": {},
   "source": [
    "<a name='3'></a>\n",
    "## Part 4: Prepare your data (10 pt)\n",
    "\n",
    "Create a dataframe with equal samplesize. Make three categories for tireness 1-2 = no, 3 = maybe, 4-5 = yes"
   ]
  },
  {
   "cell_type": "code",
   "execution_count": 14,
   "metadata": {},
   "outputs": [],
   "source": [
    "#your solution here"
   ]
  },
  {
   "cell_type": "markdown",
   "metadata": {},
   "source": [
    "---"
   ]
  },
  {
   "cell_type": "markdown",
   "metadata": {},
   "source": [
    "<a name='4'></a>\n",
    "## Part 5: Answer the research questions (20 pt)\n",
    "\n",
    "<details>    \n",
    "<summary>\n",
    "    <font size=\"3\" color=\"darkgreen\"><b>Hints</b></font>\n",
    "</summary>\n",
    "    <ul><li>use one-way ANOVA for research question 1</li>\n",
    "    <li>Use two-way ANOVA for research question 2</li>\n",
    "    <li>https://reneshbedre.github.io/blog/anova.html</li>\n",
    "</ul>\n",
    "</details>"
   ]
  },
  {
   "cell_type": "code",
   "execution_count": 15,
   "metadata": {},
   "outputs": [],
   "source": [
    "#Your solution here"
   ]
  },
  {
   "cell_type": "markdown",
   "metadata": {},
   "source": [
    "---"
   ]
  },
  {
   "cell_type": "markdown",
   "metadata": {},
   "source": [
    "<a name='5'></a>\n",
    "## Part 6: Enhanced plotting (20 pt)\n",
    "\n",
    "Create a panel with 1) your dataframe with equal samplesize 2) a picture of a sleeping beauty, 3) the scatter plot of tired / hours of sleep with different colors for Breakfast from part 2 4) the boxplots given the p-value for the anova outcome in the title"
   ]
  },
  {
   "cell_type": "code",
   "execution_count": 16,
   "metadata": {},
   "outputs": [],
   "source": [
    "#your solution here"
   ]
  }
 ],
 "metadata": {
  "kernelspec": {
   "display_name": "Python 3",
   "language": "python",
   "name": "python3"
  },
  "language_info": {
   "codemirror_mode": {
    "name": "ipython",
    "version": 3
   },
   "file_extension": ".py",
   "mimetype": "text/x-python",
   "name": "python",
   "nbconvert_exporter": "python",
   "pygments_lexer": "ipython3",
   "version": "3.6.9"
  }
 },
 "nbformat": 4,
 "nbformat_minor": 4
}
