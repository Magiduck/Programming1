{
 "cells": [
  {
   "cell_type": "markdown",
   "metadata": {},
   "source": [
    "# Week 04 Assignment weather data\n",
    "\n",
    "Welcome to week four of this course programming 1. You will to organise your data into the required format and apply smoothing. In this assignment we will work with weatherdata from the KNMI. A subset of weatherdata is for you available in the file: `KNMI_20181231.csv`. The data consist of several stations with daily weather data of several years. Your task is to make a plot similar to the plot below.\n",
    "\n",
    "\n",
    "<img src=\"../images/weather.png\" alt=\"drawing\" width=\"400\"/>\n",
    "\n",
    "\n",
    "Furthermore the plot needs the following enhancements\n",
    "\n",
    "1. proper titles and ticks\n",
    "2. a slider widget selecting a particular year or all years\n",
    "3. lines need to be smoothed\n",
    "3. legends needs to be added\n",
    "\n",
    "Use your creativity. Consider colors, alpha settings, sizes etc. \n",
    "\n",
    "Learning outcomes\n",
    "\n",
    "- load, inspect and clean a dataset \n",
    "- reformat dataframes\n",
    "- apply smoothing technologies\n",
    "- visualize timeseries data\n",
    "\n",
    "The assignment consists of 6 parts:\n",
    "\n",
    "- [part 1: load the data](#0)\n",
    "- [part 2: clean the data](#1)\n",
    "- [part 3: reformat data](#2)\n",
    "- [part 4: smooth the data](#3)\n",
    "- [part 5: visualize the data](#4)\n",
    "- [part 6: Challenge](#5)\n",
    "\n",
    "Part 1 and 5 are mandatory, part 6 is optional (bonus)\n",
    "To pass the assingnment you need to a score of 60%. \n"
   ]
  },
  {
   "cell_type": "markdown",
   "metadata": {},
   "source": [
    "---"
   ]
  },
  {
   "cell_type": "markdown",
   "metadata": {},
   "source": [
    "<a name='0'></a>\n",
    "## Part 1: Load the data\n",
    "\n",
    "Either load the dataset `KNMI_20181231.csv` or `KNMI_20181231.txt.tsv`. The dataheaders contain spaces and are not very self explainable. Change this into more readable ones. Select data from station 270. Select only the mean, minimum and maximum temperature. The data should look something like this:\n"
   ]
  },
  {
   "cell_type": "raw",
   "metadata": {},
   "source": [
    "        station      Date  Tmean   Tmin   Tmax\n",
    "245205      270  19510101      0    -40     24\n",
    "245206      270  19510102      9     -5     19\n",
    "245207      270  19510103      5     -8     17\n",
    "245208      270  19510104      5    -15     17\n",
    "245209      270  19510105     26      6     46"
   ]
  },
  {
   "cell_type": "code",
   "execution_count": 98,
   "metadata": {},
   "outputs": [
    {
     "name": "stderr",
     "output_type": "stream",
     "text": [
      "/home/tijs/DSLSvenv/lib/python3.6/site-packages/IPython/core/interactiveshell.py:3072: DtypeWarning: Columns (2,3,4) have mixed types.Specify dtype option on import or set low_memory=False.\n",
      "  interactivity=interactivity, compiler=compiler, result=result)\n"
     ]
    },
    {
     "data": {
      "text/html": [
       "<div>\n",
       "<style scoped>\n",
       "    .dataframe tbody tr th:only-of-type {\n",
       "        vertical-align: middle;\n",
       "    }\n",
       "\n",
       "    .dataframe tbody tr th {\n",
       "        vertical-align: top;\n",
       "    }\n",
       "\n",
       "    .dataframe thead th {\n",
       "        text-align: right;\n",
       "    }\n",
       "</style>\n",
       "<table border=\"1\" class=\"dataframe\">\n",
       "  <thead>\n",
       "    <tr style=\"text-align: right;\">\n",
       "      <th></th>\n",
       "      <th>station</th>\n",
       "      <th>Date</th>\n",
       "      <th>Tmean</th>\n",
       "      <th>Tmin</th>\n",
       "      <th>Tmax</th>\n",
       "    </tr>\n",
       "  </thead>\n",
       "  <tbody>\n",
       "    <tr>\n",
       "      <th>97641</th>\n",
       "      <td>270</td>\n",
       "      <td>20000101</td>\n",
       "      <td>42</td>\n",
       "      <td>-4</td>\n",
       "      <td>79</td>\n",
       "    </tr>\n",
       "    <tr>\n",
       "      <th>97642</th>\n",
       "      <td>270</td>\n",
       "      <td>20000102</td>\n",
       "      <td>55</td>\n",
       "      <td>33</td>\n",
       "      <td>74</td>\n",
       "    </tr>\n",
       "    <tr>\n",
       "      <th>97643</th>\n",
       "      <td>270</td>\n",
       "      <td>20000103</td>\n",
       "      <td>74</td>\n",
       "      <td>49</td>\n",
       "      <td>89</td>\n",
       "    </tr>\n",
       "    <tr>\n",
       "      <th>97644</th>\n",
       "      <td>270</td>\n",
       "      <td>20000104</td>\n",
       "      <td>46</td>\n",
       "      <td>22</td>\n",
       "      <td>75</td>\n",
       "    </tr>\n",
       "    <tr>\n",
       "      <th>97645</th>\n",
       "      <td>270</td>\n",
       "      <td>20000105</td>\n",
       "      <td>41</td>\n",
       "      <td>14</td>\n",
       "      <td>56</td>\n",
       "    </tr>\n",
       "    <tr>\n",
       "      <th>...</th>\n",
       "      <td>...</td>\n",
       "      <td>...</td>\n",
       "      <td>...</td>\n",
       "      <td>...</td>\n",
       "      <td>...</td>\n",
       "    </tr>\n",
       "    <tr>\n",
       "      <th>104576</th>\n",
       "      <td>270</td>\n",
       "      <td>20181227</td>\n",
       "      <td>57</td>\n",
       "      <td>53</td>\n",
       "      <td>62</td>\n",
       "    </tr>\n",
       "    <tr>\n",
       "      <th>104577</th>\n",
       "      <td>270</td>\n",
       "      <td>20181228</td>\n",
       "      <td>71</td>\n",
       "      <td>58</td>\n",
       "      <td>81</td>\n",
       "    </tr>\n",
       "    <tr>\n",
       "      <th>104578</th>\n",
       "      <td>270</td>\n",
       "      <td>20181229</td>\n",
       "      <td>85</td>\n",
       "      <td>69</td>\n",
       "      <td>102</td>\n",
       "    </tr>\n",
       "    <tr>\n",
       "      <th>104579</th>\n",
       "      <td>270</td>\n",
       "      <td>20181230</td>\n",
       "      <td>80</td>\n",
       "      <td>68</td>\n",
       "      <td>90</td>\n",
       "    </tr>\n",
       "    <tr>\n",
       "      <th>104580</th>\n",
       "      <td>270</td>\n",
       "      <td>20181231</td>\n",
       "      <td>87</td>\n",
       "      <td>82</td>\n",
       "      <td>97</td>\n",
       "    </tr>\n",
       "  </tbody>\n",
       "</table>\n",
       "<p>6940 rows × 5 columns</p>\n",
       "</div>"
      ],
      "text/plain": [
       "        station      Date  Tmean   Tmin   Tmax\n",
       "97641       270  20000101     42     -4     79\n",
       "97642       270  20000102     55     33     74\n",
       "97643       270  20000103     74     49     89\n",
       "97644       270  20000104     46     22     75\n",
       "97645       270  20000105     41     14     56\n",
       "...         ...       ...    ...    ...    ...\n",
       "104576      270  20181227     57     53     62\n",
       "104577      270  20181228     71     58     81\n",
       "104578      270  20181229     85     69    102\n",
       "104579      270  20181230     80     68     90\n",
       "104580      270  20181231     87     82     97\n",
       "\n",
       "[6940 rows x 5 columns]"
      ]
     },
     "execution_count": 98,
     "metadata": {},
     "output_type": "execute_result"
    }
   ],
   "source": [
    "import pandas as pd\n",
    "import numpy as np\n",
    "\n",
    "df = pd.read_csv(\"/home/tijs/programming1/Programming1/data/KNMI_20181231.txt.tsv\",\n",
    "                 sep=\",\", \n",
    "                 usecols=[0, 1, 2, 3, 4], \n",
    "                 names=[\"station\", \"Date\", \"Tmean\", \"Tmin\", \"Tmax\"], \n",
    "                 comment=\"#\")\n",
    "df = df[df.station == 270]\n",
    "df"
   ]
  },
  {
   "cell_type": "markdown",
   "metadata": {},
   "source": [
    "---"
   ]
  },
  {
   "cell_type": "markdown",
   "metadata": {},
   "source": [
    "<a name='1'></a>\n",
    "## Part 2: Clean the data"
   ]
  },
  {
   "cell_type": "markdown",
   "metadata": {},
   "source": [
    "The data ia not clean. There are empty cells in the dataframe which needs to be replaced with NaN's and the temperature is in centidegrees which needs to be transformed into degrees. The date field needs a datetime format. For visualization convience we would like to remove the leap year. Conduct the cleaning."
   ]
  },
  {
   "cell_type": "code",
   "execution_count": 99,
   "metadata": {
    "scrolled": true
   },
   "outputs": [],
   "source": [
    "#replace cells with spaces to NaN\n",
    "df = df.replace(r\"^\\s*$\", np.nan, regex=True)\n",
    "#change data formats\n",
    "df.Date = pd.to_datetime(df['Date'].astype(str), format='%Y%m%d')\n",
    "#change temperatures to celcius degrees\n",
    "df.Tmean = pd.to_numeric(df.Tmean, errors='coerce') / 10\n",
    "df.Tmin = pd.to_numeric(df.Tmin, errors='coerce') / 10\n",
    "df.Tmax = pd.to_numeric(df.Tmax, errors='coerce') / 10\n",
    "#remove leap year\n",
    "df = df[~((df.Date.dt.month == 2) & (df.Date.dt.day == 29))]"
   ]
  },
  {
   "cell_type": "markdown",
   "metadata": {},
   "source": [
    "<details>    \n",
    "<summary>\n",
    "    <font size=\"3\" color=\"darkgreen\"><b>Hints</b></font>\n",
    "</summary>\n",
    "<ul><li>pd.to_datetime(df['Date'].astype(str), format='%Y%m%d')</li>\n",
    "    <li>regex for empty cells = `^\\s*$` </li>\n",
    "    <li>remove month == 2 & day == 29</li> \n",
    "</ul>\n",
    "</details>"
   ]
  },
  {
   "cell_type": "code",
   "execution_count": 100,
   "metadata": {},
   "outputs": [
    {
     "name": "stdout",
     "output_type": "stream",
     "text": [
      "<class 'pandas.core.frame.DataFrame'>\n",
      "Int64Index: 6935 entries, 97641 to 104580\n",
      "Data columns (total 5 columns):\n",
      " #   Column   Non-Null Count  Dtype         \n",
      "---  ------   --------------  -----         \n",
      " 0   station  6935 non-null   int64         \n",
      " 1   Date     6935 non-null   datetime64[ns]\n",
      " 2   Tmean    6935 non-null   float64       \n",
      " 3   Tmin     6935 non-null   float64       \n",
      " 4   Tmax     6935 non-null   float64       \n",
      "dtypes: datetime64[ns](1), float64(3), int64(1)\n",
      "memory usage: 325.1 KB\n"
     ]
    }
   ],
   "source": [
    "#Test your outcome\n",
    "df.info()"
   ]
  },
  {
   "cell_type": "markdown",
   "metadata": {},
   "source": [
    "### Expected outcome"
   ]
  },
  {
   "cell_type": "raw",
   "metadata": {},
   "source": [
    "DatetimeIndex: 24820 entries, 1951-01-01 to 2018-12-31\n",
    "Data columns (total 5 columns):\n",
    " #   Column   Non-Null Count  Dtype         \n",
    "---  ------   --------------  -----         \n",
    " 0   station  24820 non-null  int64         \n",
    " 1   Date     24820 non-null  datetime64[ns]\n",
    " 2   Tmean    24819 non-null  float64       \n",
    " 3   Tmin     24819 non-null  float64       \n",
    " 4   Tmax     24819 non-null  float64       \n",
    "dtypes: datetime64[ns](1), float64(3), int64(1)\n",
    "memory usage: 1.1 MB"
   ]
  },
  {
   "cell_type": "markdown",
   "metadata": {},
   "source": [
    "---"
   ]
  },
  {
   "cell_type": "markdown",
   "metadata": {},
   "source": [
    "<a name='2'></a>\n",
    "## Part 3: Reform your data\n",
    "\n",
    "First we will split the data in data from 2018 and data before 2018. Best is to split this in two dataframes. \n",
    "Next we need for the non 2018 data the minimum values for each day and the maximum values for each day. So we look for the minimum value out of all january-01 minimum values (regardless the year). Create a dataframe with 365 days containing the ultimate minimum and the ultimate maximum per day. \n"
   ]
  },
  {
   "cell_type": "markdown",
   "metadata": {},
   "source": [
    "# From this point onward I worked together with André"
   ]
  },
  {
   "cell_type": "code",
   "execution_count": 101,
   "metadata": {},
   "outputs": [],
   "source": [
    "def month_day(df_multipleyears):\n",
    "    #your code to reform data here\n",
    "    df_multipleyears_Tmin =  df_multipleyears.groupby([df_multipleyears.index.month, df_multipleyears.index.day]).Tmin.min()\n",
    "    df_multipleyears_Tmax =  df_multipleyears.groupby([df_multipleyears.index.month, df_multipleyears.index.day]).Tmax.max()\n",
    "    df_groupedbymonthday = pd.concat([df_multipleyears_Tmin,df_multipleyears_Tmax], axis=1)\n",
    "    print(df_groupedbymonthday)\n",
    "    return df_groupedbymonthday"
   ]
  },
  {
   "cell_type": "code",
   "execution_count": 102,
   "metadata": {},
   "outputs": [
    {
     "name": "stdout",
     "output_type": "stream",
     "text": [
      "           Tmin  Tmax\n",
      "Date Date            \n",
      "1    1     -5.8  11.1\n",
      "     2     -7.5  10.2\n",
      "     3    -12.6  10.7\n",
      "     4     -4.1   9.2\n",
      "     5     -6.0   8.4\n",
      "...         ...   ...\n",
      "12   27    -4.8  11.7\n",
      "     28    -4.2  10.9\n",
      "     29    -6.7  11.4\n",
      "     30   -10.2   9.5\n",
      "     31   -10.6  11.8\n",
      "\n",
      "[365 rows x 2 columns]\n"
     ]
    }
   ],
   "source": [
    "#Test your code\n",
    "def test_reformed(df):\n",
    "    df_outside2018 = df[(df.Date.dt.year > 2007) & (df.Date.dt.year < 2018)]\n",
    "    df_outside2018 = df_outside2018.reset_index().set_index(df_outside2018.Date)\n",
    "    df_2018 = df[df.Date.dt.year == 2018]\n",
    "    return month_day(df_outside2018), df_2018\n",
    "    \n",
    "\n",
    "df_outside2018, df_2018 = test_reformed(df)"
   ]
  },
  {
   "cell_type": "markdown",
   "metadata": {},
   "source": [
    "<details>    \n",
    "<summary>\n",
    "    <font size=\"3\" color=\"darkgreen\"><b>Hints</b></font>\n",
    "</summary>\n",
    "<ul><li>use the dt.month and dt.day to groupby</li>\n",
    "</ul>\n",
    "</details>"
   ]
  },
  {
   "cell_type": "markdown",
   "metadata": {},
   "source": [
    "### Expected outcome\n",
    "Note, the layout or names my differ, but the length should be 365 and the minimum values should be the same"
   ]
  },
  {
   "cell_type": "raw",
   "metadata": {},
   "source": [
    "month  day\n",
    "1      1      -5.8\n",
    "       2      -7.5\n",
    "       3     -12.6\n",
    "       4      -4.1\n",
    "       5      -6.0\n",
    "              ... \n",
    "12     27     -4.8\n",
    "       28     -4.2\n",
    "       29     -6.7\n",
    "       30    -10.2\n",
    "       31    -10.6\n",
    "Name: Tmin, Length: 365, dtype: float64"
   ]
  },
  {
   "cell_type": "markdown",
   "metadata": {},
   "source": [
    "---"
   ]
  },
  {
   "cell_type": "markdown",
   "metadata": {},
   "source": [
    "<a name='3'></a>\n",
    "## Part 4: Smooth the data\n",
    "\n",
    "Make a function that takes an array or a dataframe column and returns an array of smoothed data. Explain in words why you choose a certain smoothing algoritm\n"
   ]
  },
  {
   "cell_type": "code",
   "execution_count": 148,
   "metadata": {},
   "outputs": [],
   "source": [
    "#your code here\n",
    "from scipy.interpolate import CubicSpline\n",
    "\n",
    "def smooth_data(x, y):\n",
    "    return CubicSpline(x, y)\n",
    "\n",
    "#your motivation here"
   ]
  },
  {
   "cell_type": "markdown",
   "metadata": {},
   "source": [
    "---"
   ]
  },
  {
   "cell_type": "markdown",
   "metadata": {},
   "source": [
    "<a name='4'></a>\n",
    "## Part 5: Visualize the data"
   ]
  },
  {
   "cell_type": "markdown",
   "metadata": {},
   "source": [
    "Plot the mean temperature of the year 2018. Create a shaded band with the ultimate minimum values and the ultimate maximum values from the multi-year dataset. Add labels, titles and legends. Use proper ranges. Be creative to make the plot attractive. \n",
    "\n"
   ]
  },
  {
   "cell_type": "code",
   "execution_count": 153,
   "metadata": {},
   "outputs": [
    {
     "data": {
      "text/html": [
       "\n",
       "    <div class=\"bk-root\">\n",
       "        <a href=\"https://bokeh.org\" target=\"_blank\" class=\"bk-logo bk-logo-small bk-logo-notebook\"></a>\n",
       "        <span id=\"12945\">Loading BokehJS ...</span>\n",
       "    </div>"
      ]
     },
     "metadata": {},
     "output_type": "display_data"
    },
    {
     "data": {
      "application/javascript": [
       "\n",
       "(function(root) {\n",
       "  function now() {\n",
       "    return new Date();\n",
       "  }\n",
       "\n",
       "  var force = true;\n",
       "\n",
       "  if (typeof root._bokeh_onload_callbacks === \"undefined\" || force === true) {\n",
       "    root._bokeh_onload_callbacks = [];\n",
       "    root._bokeh_is_loading = undefined;\n",
       "  }\n",
       "\n",
       "  var JS_MIME_TYPE = 'application/javascript';\n",
       "  var HTML_MIME_TYPE = 'text/html';\n",
       "  var EXEC_MIME_TYPE = 'application/vnd.bokehjs_exec.v0+json';\n",
       "  var CLASS_NAME = 'output_bokeh rendered_html';\n",
       "\n",
       "  /**\n",
       "   * Render data to the DOM node\n",
       "   */\n",
       "  function render(props, node) {\n",
       "    var script = document.createElement(\"script\");\n",
       "    node.appendChild(script);\n",
       "  }\n",
       "\n",
       "  /**\n",
       "   * Handle when an output is cleared or removed\n",
       "   */\n",
       "  function handleClearOutput(event, handle) {\n",
       "    var cell = handle.cell;\n",
       "\n",
       "    var id = cell.output_area._bokeh_element_id;\n",
       "    var server_id = cell.output_area._bokeh_server_id;\n",
       "    // Clean up Bokeh references\n",
       "    if (id != null && id in Bokeh.index) {\n",
       "      Bokeh.index[id].model.document.clear();\n",
       "      delete Bokeh.index[id];\n",
       "    }\n",
       "\n",
       "    if (server_id !== undefined) {\n",
       "      // Clean up Bokeh references\n",
       "      var cmd = \"from bokeh.io.state import curstate; print(curstate().uuid_to_server['\" + server_id + \"'].get_sessions()[0].document.roots[0]._id)\";\n",
       "      cell.notebook.kernel.execute(cmd, {\n",
       "        iopub: {\n",
       "          output: function(msg) {\n",
       "            var id = msg.content.text.trim();\n",
       "            if (id in Bokeh.index) {\n",
       "              Bokeh.index[id].model.document.clear();\n",
       "              delete Bokeh.index[id];\n",
       "            }\n",
       "          }\n",
       "        }\n",
       "      });\n",
       "      // Destroy server and session\n",
       "      var cmd = \"import bokeh.io.notebook as ion; ion.destroy_server('\" + server_id + \"')\";\n",
       "      cell.notebook.kernel.execute(cmd);\n",
       "    }\n",
       "  }\n",
       "\n",
       "  /**\n",
       "   * Handle when a new output is added\n",
       "   */\n",
       "  function handleAddOutput(event, handle) {\n",
       "    var output_area = handle.output_area;\n",
       "    var output = handle.output;\n",
       "\n",
       "    // limit handleAddOutput to display_data with EXEC_MIME_TYPE content only\n",
       "    if ((output.output_type != \"display_data\") || (!output.data.hasOwnProperty(EXEC_MIME_TYPE))) {\n",
       "      return\n",
       "    }\n",
       "\n",
       "    var toinsert = output_area.element.find(\".\" + CLASS_NAME.split(' ')[0]);\n",
       "\n",
       "    if (output.metadata[EXEC_MIME_TYPE][\"id\"] !== undefined) {\n",
       "      toinsert[toinsert.length - 1].firstChild.textContent = output.data[JS_MIME_TYPE];\n",
       "      // store reference to embed id on output_area\n",
       "      output_area._bokeh_element_id = output.metadata[EXEC_MIME_TYPE][\"id\"];\n",
       "    }\n",
       "    if (output.metadata[EXEC_MIME_TYPE][\"server_id\"] !== undefined) {\n",
       "      var bk_div = document.createElement(\"div\");\n",
       "      bk_div.innerHTML = output.data[HTML_MIME_TYPE];\n",
       "      var script_attrs = bk_div.children[0].attributes;\n",
       "      for (var i = 0; i < script_attrs.length; i++) {\n",
       "        toinsert[toinsert.length - 1].firstChild.setAttribute(script_attrs[i].name, script_attrs[i].value);\n",
       "        toinsert[toinsert.length - 1].firstChild.textContent = bk_div.children[0].textContent\n",
       "      }\n",
       "      // store reference to server id on output_area\n",
       "      output_area._bokeh_server_id = output.metadata[EXEC_MIME_TYPE][\"server_id\"];\n",
       "    }\n",
       "  }\n",
       "\n",
       "  function register_renderer(events, OutputArea) {\n",
       "\n",
       "    function append_mime(data, metadata, element) {\n",
       "      // create a DOM node to render to\n",
       "      var toinsert = this.create_output_subarea(\n",
       "        metadata,\n",
       "        CLASS_NAME,\n",
       "        EXEC_MIME_TYPE\n",
       "      );\n",
       "      this.keyboard_manager.register_events(toinsert);\n",
       "      // Render to node\n",
       "      var props = {data: data, metadata: metadata[EXEC_MIME_TYPE]};\n",
       "      render(props, toinsert[toinsert.length - 1]);\n",
       "      element.append(toinsert);\n",
       "      return toinsert\n",
       "    }\n",
       "\n",
       "    /* Handle when an output is cleared or removed */\n",
       "    events.on('clear_output.CodeCell', handleClearOutput);\n",
       "    events.on('delete.Cell', handleClearOutput);\n",
       "\n",
       "    /* Handle when a new output is added */\n",
       "    events.on('output_added.OutputArea', handleAddOutput);\n",
       "\n",
       "    /**\n",
       "     * Register the mime type and append_mime function with output_area\n",
       "     */\n",
       "    OutputArea.prototype.register_mime_type(EXEC_MIME_TYPE, append_mime, {\n",
       "      /* Is output safe? */\n",
       "      safe: true,\n",
       "      /* Index of renderer in `output_area.display_order` */\n",
       "      index: 0\n",
       "    });\n",
       "  }\n",
       "\n",
       "  // register the mime type if in Jupyter Notebook environment and previously unregistered\n",
       "  if (root.Jupyter !== undefined) {\n",
       "    var events = require('base/js/events');\n",
       "    var OutputArea = require('notebook/js/outputarea').OutputArea;\n",
       "\n",
       "    if (OutputArea.prototype.mime_types().indexOf(EXEC_MIME_TYPE) == -1) {\n",
       "      register_renderer(events, OutputArea);\n",
       "    }\n",
       "  }\n",
       "\n",
       "  \n",
       "  if (typeof (root._bokeh_timeout) === \"undefined\" || force === true) {\n",
       "    root._bokeh_timeout = Date.now() + 5000;\n",
       "    root._bokeh_failed_load = false;\n",
       "  }\n",
       "\n",
       "  var NB_LOAD_WARNING = {'data': {'text/html':\n",
       "     \"<div style='background-color: #fdd'>\\n\"+\n",
       "     \"<p>\\n\"+\n",
       "     \"BokehJS does not appear to have successfully loaded. If loading BokehJS from CDN, this \\n\"+\n",
       "     \"may be due to a slow or bad network connection. Possible fixes:\\n\"+\n",
       "     \"</p>\\n\"+\n",
       "     \"<ul>\\n\"+\n",
       "     \"<li>re-rerun `output_notebook()` to attempt to load from CDN again, or</li>\\n\"+\n",
       "     \"<li>use INLINE resources instead, as so:</li>\\n\"+\n",
       "     \"</ul>\\n\"+\n",
       "     \"<code>\\n\"+\n",
       "     \"from bokeh.resources import INLINE\\n\"+\n",
       "     \"output_notebook(resources=INLINE)\\n\"+\n",
       "     \"</code>\\n\"+\n",
       "     \"</div>\"}};\n",
       "\n",
       "  function display_loaded() {\n",
       "    var el = document.getElementById(\"12945\");\n",
       "    if (el != null) {\n",
       "      el.textContent = \"BokehJS is loading...\";\n",
       "    }\n",
       "    if (root.Bokeh !== undefined) {\n",
       "      if (el != null) {\n",
       "        el.textContent = \"BokehJS \" + root.Bokeh.version + \" successfully loaded.\";\n",
       "      }\n",
       "    } else if (Date.now() < root._bokeh_timeout) {\n",
       "      setTimeout(display_loaded, 100)\n",
       "    }\n",
       "  }\n",
       "\n",
       "\n",
       "  function run_callbacks() {\n",
       "    try {\n",
       "      root._bokeh_onload_callbacks.forEach(function(callback) {\n",
       "        if (callback != null)\n",
       "          callback();\n",
       "      });\n",
       "    } finally {\n",
       "      delete root._bokeh_onload_callbacks\n",
       "    }\n",
       "    console.debug(\"Bokeh: all callbacks have finished\");\n",
       "  }\n",
       "\n",
       "  function load_libs(css_urls, js_urls, callback) {\n",
       "    if (css_urls == null) css_urls = [];\n",
       "    if (js_urls == null) js_urls = [];\n",
       "\n",
       "    root._bokeh_onload_callbacks.push(callback);\n",
       "    if (root._bokeh_is_loading > 0) {\n",
       "      console.debug(\"Bokeh: BokehJS is being loaded, scheduling callback at\", now());\n",
       "      return null;\n",
       "    }\n",
       "    if (js_urls == null || js_urls.length === 0) {\n",
       "      run_callbacks();\n",
       "      return null;\n",
       "    }\n",
       "    console.debug(\"Bokeh: BokehJS not loaded, scheduling load and callback at\", now());\n",
       "    root._bokeh_is_loading = css_urls.length + js_urls.length;\n",
       "\n",
       "    function on_load() {\n",
       "      root._bokeh_is_loading--;\n",
       "      if (root._bokeh_is_loading === 0) {\n",
       "        console.debug(\"Bokeh: all BokehJS libraries/stylesheets loaded\");\n",
       "        run_callbacks()\n",
       "      }\n",
       "    }\n",
       "\n",
       "    function on_error() {\n",
       "      console.error(\"failed to load \" + url);\n",
       "    }\n",
       "\n",
       "    for (var i = 0; i < css_urls.length; i++) {\n",
       "      var url = css_urls[i];\n",
       "      const element = document.createElement(\"link\");\n",
       "      element.onload = on_load;\n",
       "      element.onerror = on_error;\n",
       "      element.rel = \"stylesheet\";\n",
       "      element.type = \"text/css\";\n",
       "      element.href = url;\n",
       "      console.debug(\"Bokeh: injecting link tag for BokehJS stylesheet: \", url);\n",
       "      document.body.appendChild(element);\n",
       "    }\n",
       "\n",
       "    const hashes = {\"https://cdn.bokeh.org/bokeh/release/bokeh-2.2.3.min.js\": \"T2yuo9Oe71Cz/I4X9Ac5+gpEa5a8PpJCDlqKYO0CfAuEszu1JrXLl8YugMqYe3sM\", \"https://cdn.bokeh.org/bokeh/release/bokeh-widgets-2.2.3.min.js\": \"98GDGJ0kOMCUMUePhksaQ/GYgB3+NH9h996V88sh3aOiUNX3N+fLXAtry6xctSZ6\", \"https://cdn.bokeh.org/bokeh/release/bokeh-tables-2.2.3.min.js\": \"89bArO+nlbP3sgakeHjCo1JYxYR5wufVgA3IbUvDY+K7w4zyxJqssu7wVnfeKCq8\"};\n",
       "\n",
       "    for (var i = 0; i < js_urls.length; i++) {\n",
       "      var url = js_urls[i];\n",
       "      var element = document.createElement('script');\n",
       "      element.onload = on_load;\n",
       "      element.onerror = on_error;\n",
       "      element.async = false;\n",
       "      element.src = url;\n",
       "      if (url in hashes) {\n",
       "        element.crossOrigin = \"anonymous\";\n",
       "        element.integrity = \"sha384-\" + hashes[url];\n",
       "      }\n",
       "      console.debug(\"Bokeh: injecting script tag for BokehJS library: \", url);\n",
       "      document.head.appendChild(element);\n",
       "    }\n",
       "  };\n",
       "\n",
       "  function inject_raw_css(css) {\n",
       "    const element = document.createElement(\"style\");\n",
       "    element.appendChild(document.createTextNode(css));\n",
       "    document.body.appendChild(element);\n",
       "  }\n",
       "\n",
       "  \n",
       "  var js_urls = [\"https://cdn.bokeh.org/bokeh/release/bokeh-2.2.3.min.js\", \"https://cdn.bokeh.org/bokeh/release/bokeh-widgets-2.2.3.min.js\", \"https://cdn.bokeh.org/bokeh/release/bokeh-tables-2.2.3.min.js\"];\n",
       "  var css_urls = [];\n",
       "  \n",
       "\n",
       "  var inline_js = [\n",
       "    function(Bokeh) {\n",
       "      Bokeh.set_log_level(\"info\");\n",
       "    },\n",
       "    function(Bokeh) {\n",
       "    \n",
       "    \n",
       "    }\n",
       "  ];\n",
       "\n",
       "  function run_inline_js() {\n",
       "    \n",
       "    if (root.Bokeh !== undefined || force === true) {\n",
       "      \n",
       "    for (var i = 0; i < inline_js.length; i++) {\n",
       "      inline_js[i].call(root, root.Bokeh);\n",
       "    }\n",
       "    if (force === true) {\n",
       "        display_loaded();\n",
       "      }} else if (Date.now() < root._bokeh_timeout) {\n",
       "      setTimeout(run_inline_js, 100);\n",
       "    } else if (!root._bokeh_failed_load) {\n",
       "      console.log(\"Bokeh: BokehJS failed to load within specified timeout.\");\n",
       "      root._bokeh_failed_load = true;\n",
       "    } else if (force !== true) {\n",
       "      var cell = $(document.getElementById(\"12945\")).parents('.cell').data().cell;\n",
       "      cell.output_area.append_execute_result(NB_LOAD_WARNING)\n",
       "    }\n",
       "\n",
       "  }\n",
       "\n",
       "  if (root._bokeh_is_loading === 0) {\n",
       "    console.debug(\"Bokeh: BokehJS loaded, going straight to plotting\");\n",
       "    run_inline_js();\n",
       "  } else {\n",
       "    load_libs(css_urls, js_urls, function() {\n",
       "      console.debug(\"Bokeh: BokehJS plotting callback run at\", now());\n",
       "      run_inline_js();\n",
       "    });\n",
       "  }\n",
       "}(window));"
      ],
      "application/vnd.bokehjs_load.v0+json": "\n(function(root) {\n  function now() {\n    return new Date();\n  }\n\n  var force = true;\n\n  if (typeof root._bokeh_onload_callbacks === \"undefined\" || force === true) {\n    root._bokeh_onload_callbacks = [];\n    root._bokeh_is_loading = undefined;\n  }\n\n  \n\n  \n  if (typeof (root._bokeh_timeout) === \"undefined\" || force === true) {\n    root._bokeh_timeout = Date.now() + 5000;\n    root._bokeh_failed_load = false;\n  }\n\n  var NB_LOAD_WARNING = {'data': {'text/html':\n     \"<div style='background-color: #fdd'>\\n\"+\n     \"<p>\\n\"+\n     \"BokehJS does not appear to have successfully loaded. If loading BokehJS from CDN, this \\n\"+\n     \"may be due to a slow or bad network connection. Possible fixes:\\n\"+\n     \"</p>\\n\"+\n     \"<ul>\\n\"+\n     \"<li>re-rerun `output_notebook()` to attempt to load from CDN again, or</li>\\n\"+\n     \"<li>use INLINE resources instead, as so:</li>\\n\"+\n     \"</ul>\\n\"+\n     \"<code>\\n\"+\n     \"from bokeh.resources import INLINE\\n\"+\n     \"output_notebook(resources=INLINE)\\n\"+\n     \"</code>\\n\"+\n     \"</div>\"}};\n\n  function display_loaded() {\n    var el = document.getElementById(\"12945\");\n    if (el != null) {\n      el.textContent = \"BokehJS is loading...\";\n    }\n    if (root.Bokeh !== undefined) {\n      if (el != null) {\n        el.textContent = \"BokehJS \" + root.Bokeh.version + \" successfully loaded.\";\n      }\n    } else if (Date.now() < root._bokeh_timeout) {\n      setTimeout(display_loaded, 100)\n    }\n  }\n\n\n  function run_callbacks() {\n    try {\n      root._bokeh_onload_callbacks.forEach(function(callback) {\n        if (callback != null)\n          callback();\n      });\n    } finally {\n      delete root._bokeh_onload_callbacks\n    }\n    console.debug(\"Bokeh: all callbacks have finished\");\n  }\n\n  function load_libs(css_urls, js_urls, callback) {\n    if (css_urls == null) css_urls = [];\n    if (js_urls == null) js_urls = [];\n\n    root._bokeh_onload_callbacks.push(callback);\n    if (root._bokeh_is_loading > 0) {\n      console.debug(\"Bokeh: BokehJS is being loaded, scheduling callback at\", now());\n      return null;\n    }\n    if (js_urls == null || js_urls.length === 0) {\n      run_callbacks();\n      return null;\n    }\n    console.debug(\"Bokeh: BokehJS not loaded, scheduling load and callback at\", now());\n    root._bokeh_is_loading = css_urls.length + js_urls.length;\n\n    function on_load() {\n      root._bokeh_is_loading--;\n      if (root._bokeh_is_loading === 0) {\n        console.debug(\"Bokeh: all BokehJS libraries/stylesheets loaded\");\n        run_callbacks()\n      }\n    }\n\n    function on_error() {\n      console.error(\"failed to load \" + url);\n    }\n\n    for (var i = 0; i < css_urls.length; i++) {\n      var url = css_urls[i];\n      const element = document.createElement(\"link\");\n      element.onload = on_load;\n      element.onerror = on_error;\n      element.rel = \"stylesheet\";\n      element.type = \"text/css\";\n      element.href = url;\n      console.debug(\"Bokeh: injecting link tag for BokehJS stylesheet: \", url);\n      document.body.appendChild(element);\n    }\n\n    const hashes = {\"https://cdn.bokeh.org/bokeh/release/bokeh-2.2.3.min.js\": \"T2yuo9Oe71Cz/I4X9Ac5+gpEa5a8PpJCDlqKYO0CfAuEszu1JrXLl8YugMqYe3sM\", \"https://cdn.bokeh.org/bokeh/release/bokeh-widgets-2.2.3.min.js\": \"98GDGJ0kOMCUMUePhksaQ/GYgB3+NH9h996V88sh3aOiUNX3N+fLXAtry6xctSZ6\", \"https://cdn.bokeh.org/bokeh/release/bokeh-tables-2.2.3.min.js\": \"89bArO+nlbP3sgakeHjCo1JYxYR5wufVgA3IbUvDY+K7w4zyxJqssu7wVnfeKCq8\"};\n\n    for (var i = 0; i < js_urls.length; i++) {\n      var url = js_urls[i];\n      var element = document.createElement('script');\n      element.onload = on_load;\n      element.onerror = on_error;\n      element.async = false;\n      element.src = url;\n      if (url in hashes) {\n        element.crossOrigin = \"anonymous\";\n        element.integrity = \"sha384-\" + hashes[url];\n      }\n      console.debug(\"Bokeh: injecting script tag for BokehJS library: \", url);\n      document.head.appendChild(element);\n    }\n  };\n\n  function inject_raw_css(css) {\n    const element = document.createElement(\"style\");\n    element.appendChild(document.createTextNode(css));\n    document.body.appendChild(element);\n  }\n\n  \n  var js_urls = [\"https://cdn.bokeh.org/bokeh/release/bokeh-2.2.3.min.js\", \"https://cdn.bokeh.org/bokeh/release/bokeh-widgets-2.2.3.min.js\", \"https://cdn.bokeh.org/bokeh/release/bokeh-tables-2.2.3.min.js\"];\n  var css_urls = [];\n  \n\n  var inline_js = [\n    function(Bokeh) {\n      Bokeh.set_log_level(\"info\");\n    },\n    function(Bokeh) {\n    \n    \n    }\n  ];\n\n  function run_inline_js() {\n    \n    if (root.Bokeh !== undefined || force === true) {\n      \n    for (var i = 0; i < inline_js.length; i++) {\n      inline_js[i].call(root, root.Bokeh);\n    }\n    if (force === true) {\n        display_loaded();\n      }} else if (Date.now() < root._bokeh_timeout) {\n      setTimeout(run_inline_js, 100);\n    } else if (!root._bokeh_failed_load) {\n      console.log(\"Bokeh: BokehJS failed to load within specified timeout.\");\n      root._bokeh_failed_load = true;\n    } else if (force !== true) {\n      var cell = $(document.getElementById(\"12945\")).parents('.cell').data().cell;\n      cell.output_area.append_execute_result(NB_LOAD_WARNING)\n    }\n\n  }\n\n  if (root._bokeh_is_loading === 0) {\n    console.debug(\"Bokeh: BokehJS loaded, going straight to plotting\");\n    run_inline_js();\n  } else {\n    load_libs(css_urls, js_urls, function() {\n      console.debug(\"Bokeh: BokehJS plotting callback run at\", now());\n      run_inline_js();\n    });\n  }\n}(window));"
     },
     "metadata": {},
     "output_type": "display_data"
    },
    {
     "data": {
      "text/html": [
       "\n",
       "\n",
       "\n",
       "\n",
       "\n",
       "\n",
       "  <div class=\"bk-root\" id=\"469eba7d-c364-4640-9369-814b071a090c\" data-root-id=\"12946\"></div>\n"
      ]
     },
     "metadata": {},
     "output_type": "display_data"
    },
    {
     "data": {
      "application/javascript": [
       "(function(root) {\n",
       "  function embed_document(root) {\n",
       "    \n",
       "  var docs_json = {\"faaaad8c-00ab-47b5-847b-6560d3b9512a\":{\"roots\":{\"references\":[{\"attributes\":{\"background_fill_color\":\"#fafafa\",\"below\":[{\"id\":\"12957\"}],\"center\":[{\"id\":\"12960\"},{\"id\":\"12964\"},{\"id\":\"12992\"}],\"left\":[{\"id\":\"12961\"}],\"renderers\":[{\"id\":\"12982\"},{\"id\":\"12997\"},{\"id\":\"13013\"},{\"id\":\"13031\"}],\"title\":{\"id\":\"12947\"},\"toolbar\":{\"id\":\"12972\"},\"x_range\":{\"id\":\"13048\"},\"x_scale\":{\"id\":\"12953\"},\"y_range\":{\"id\":\"12951\"},\"y_scale\":{\"id\":\"12955\"}},\"id\":\"12946\",\"subtype\":\"Figure\",\"type\":\"Plot\"},{\"attributes\":{\"axis\":{\"id\":\"12957\"},\"grid_line_color\":\"white\",\"ticker\":null},\"id\":\"12960\",\"type\":\"Grid\"},{\"attributes\":{\"axis_label\":\"Temperature in degrees celcius\",\"formatter\":{\"id\":\"12987\"},\"ticker\":{\"id\":\"12962\"}},\"id\":\"12961\",\"type\":\"LinearAxis\"},{\"attributes\":{\"source\":{\"id\":\"13010\"}},\"id\":\"13014\",\"type\":\"CDSView\"},{\"attributes\":{},\"id\":\"12958\",\"type\":\"BasicTicker\"},{\"attributes\":{},\"id\":\"12962\",\"type\":\"BasicTicker\"},{\"attributes\":{},\"id\":\"12987\",\"type\":\"BasicTickFormatter\"},{\"attributes\":{},\"id\":\"13024\",\"type\":\"UnionRenderers\"},{\"attributes\":{\"axis\":{\"id\":\"12961\"},\"dimension\":1,\"grid_line_color\":\"white\",\"ticker\":null},\"id\":\"12964\",\"type\":\"Grid\"},{\"attributes\":{},\"id\":\"12989\",\"type\":\"UnionRenderers\"},{\"attributes\":{\"data_source\":{\"id\":\"12979\"},\"glyph\":{\"id\":\"12980\"},\"hover_glyph\":null,\"muted_glyph\":null,\"nonselection_glyph\":{\"id\":\"12981\"},\"selection_glyph\":null,\"view\":{\"id\":\"12983\"}},\"id\":\"12982\",\"type\":\"GlyphRenderer\"},{\"attributes\":{},\"id\":\"13025\",\"type\":\"Selection\"},{\"attributes\":{},\"id\":\"12990\",\"type\":\"Selection\"},{\"attributes\":{\"label\":{\"value\":\"maximum outside 2018\"},\"renderers\":[{\"id\":\"13013\"}]},\"id\":\"13027\",\"type\":\"LegendItem\"},{\"attributes\":{\"source\":{\"id\":\"12979\"}},\"id\":\"12983\",\"type\":\"CDSView\"},{\"attributes\":{\"background_fill_alpha\":0.5,\"items\":[{\"id\":\"12993\"},{\"id\":\"13009\"},{\"id\":\"13027\"},{\"id\":\"13047\"}],\"label_text_font_size\":\"10px\"},\"id\":\"12992\",\"type\":\"Legend\"},{\"attributes\":{\"data\":{\"x\":[1,2,3,4,5,6,7,8,9,10,11,12,13,14,15,16,17,18,19,20,21,22,23,24,25,26,27,28,29,30,31,32,33,34,35,36,37,38,39,40,41,42,43,44,45,46,47,48,49,50,51,52,53,54,55,56,57,58,59,60,61,62,63,64,65,66,67,68,69,70,71,72,73,74,75,76,77,78,79,80,81,82,83,84,85,86,87,88,89,90,91,92,93,94,95,96,97,98,99,100,101,102,103,104,105,106,107,108,109,110,111,112,113,114,115,116,117,118,119,120,121,122,123,124,125,126,127,128,129,130,131,132,133,134,135,136,137,138,139,140,141,142,143,144,145,146,147,148,149,150,151,152,153,154,155,156,157,158,159,160,161,162,163,164,165,166,167,168,169,170,171,172,173,174,175,176,177,178,179,180,181,182,183,184,185,186,187,188,189,190,191,192,193,194,195,196,197,198,199,200,201,202,203,204,205,206,207,208,209,210,211,212,213,214,215,216,217,218,219,220,221,222,223,224,225,226,227,228,229,230,231,232,233,234,235,236,237,238,239,240,241,242,243,244,245,246,247,248,249,250,251,252,253,254,255,256,257,258,259,260,261,262,263,264,265,266,267,268,269,270,271,272,273,274,275,276,277,278,279,280,281,282,283,284,285,286,287,288,289,290,291,292,293,294,295,296,297,298,299,300,301,302,303,304,305,306,307,308,309,310,311,312,313,314,315,316,317,318,319,320,321,322,323,324,325,326,327,328,329,330,331,332,333,334,335,336,337,338,339,340,341,342,343,344,345,346,347,348,349,350,351,352,353,354,355,356,357,358,359,360,361,362,363,364,365],\"y\":{\"__ndarray__\":\"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\",\"dtype\":\"float64\",\"order\":\"little\",\"shape\":[365]}},\"selected\":{\"id\":\"13045\"},\"selection_policy\":{\"id\":\"13044\"}},\"id\":\"13028\",\"type\":\"ColumnDataSource\"},{\"attributes\":{},\"id\":\"12985\",\"type\":\"BasicTickFormatter\"},{\"attributes\":{\"label\":{\"value\":\"2018\"},\"renderers\":[{\"id\":\"12982\"}]},\"id\":\"12993\",\"type\":\"LegendItem\"},{\"attributes\":{},\"id\":\"13044\",\"type\":\"UnionRenderers\"},{\"attributes\":{\"source\":{\"id\":\"13028\"}},\"id\":\"13032\",\"type\":\"CDSView\"},{\"attributes\":{},\"id\":\"12965\",\"type\":\"PanTool\"},{\"attributes\":{\"data\":{\"x\":[1,2,3,4,5,6,7,8,9,10,11,12,13,14,15,16,17,18,19,20,21,22,23,24,25,26,27,28,29,30,31,32,33,34,35,36,37,38,39,40,41,42,43,44,45,46,47,48,49,50,51,52,53,54,55,56,57,58,59,60,61,62,63,64,65,66,67,68,69,70,71,72,73,74,75,76,77,78,79,80,81,82,83,84,85,86,87,88,89,90,91,92,93,94,95,96,97,98,99,100,101,102,103,104,105,106,107,108,109,110,111,112,113,114,115,116,117,118,119,120,121,122,123,124,125,126,127,128,129,130,131,132,133,134,135,136,137,138,139,140,141,142,143,144,145,146,147,148,149,150,151,152,153,154,155,156,157,158,159,160,161,162,163,164,165,166,167,168,169,170,171,172,173,174,175,176,177,178,179,180,181,182,183,184,185,186,187,188,189,190,191,192,193,194,195,196,197,198,199,200,201,202,203,204,205,206,207,208,209,210,211,212,213,214,215,216,217,218,219,220,221,222,223,224,225,226,227,228,229,230,231,232,233,234,235,236,237,238,239,240,241,242,243,244,245,246,247,248,249,250,251,252,253,254,255,256,257,258,259,260,261,262,263,264,265,266,267,268,269,270,271,272,273,274,275,276,277,278,279,280,281,282,283,284,285,286,287,288,289,290,291,292,293,294,295,296,297,298,299,300,301,302,303,304,305,306,307,308,309,310,311,312,313,314,315,316,317,318,319,320,321,322,323,324,325,326,327,328,329,330,331,332,333,334,335,336,337,338,339,340,341,342,343,344,345,346,347,348,349,350,351,352,353,354,355,356,357,358,359,360,361,362,363,364,365],\"y\":{\"__ndarray__\":\"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\",\"dtype\":\"float64\",\"order\":\"little\",\"shape\":[365]}},\"selected\":{\"id\":\"13007\"},\"selection_policy\":{\"id\":\"13006\"}},\"id\":\"12994\",\"type\":\"ColumnDataSource\"},{\"attributes\":{\"data_source\":{\"id\":\"13028\"},\"glyph\":{\"id\":\"13029\"},\"hover_glyph\":null,\"muted_glyph\":null,\"nonselection_glyph\":{\"id\":\"13030\"},\"selection_glyph\":null,\"view\":{\"id\":\"13032\"}},\"id\":\"13031\",\"type\":\"GlyphRenderer\"},{\"attributes\":{\"line_alpha\":0.1,\"line_color\":\"green\",\"x\":{\"field\":\"x\"},\"y\":{\"field\":\"y\"}},\"id\":\"13030\",\"type\":\"Line\"},{\"attributes\":{},\"id\":\"12966\",\"type\":\"WheelZoomTool\"},{\"attributes\":{},\"id\":\"13006\",\"type\":\"UnionRenderers\"},{\"attributes\":{\"source\":{\"id\":\"12994\"}},\"id\":\"12998\",\"type\":\"CDSView\"},{\"attributes\":{\"line_color\":\"green\",\"x\":{\"field\":\"x\"},\"y\":{\"field\":\"y\"}},\"id\":\"13029\",\"type\":\"Line\"},{\"attributes\":{\"overlay\":{\"id\":\"12971\"}},\"id\":\"12967\",\"type\":\"BoxZoomTool\"},{\"attributes\":{\"text\":\"Weather data\"},\"id\":\"12947\",\"type\":\"Title\"},{\"attributes\":{\"data_source\":{\"id\":\"12994\"},\"glyph\":{\"id\":\"12995\"},\"hover_glyph\":null,\"muted_glyph\":null,\"nonselection_glyph\":{\"id\":\"12996\"},\"selection_glyph\":null,\"view\":{\"id\":\"12998\"}},\"id\":\"12997\",\"type\":\"GlyphRenderer\"},{\"attributes\":{\"line_alpha\":0.1,\"line_color\":\"orange\",\"x\":{\"field\":\"x\"},\"y\":{\"field\":\"y\"}},\"id\":\"12996\",\"type\":\"Line\"},{\"attributes\":{},\"id\":\"12968\",\"type\":\"SaveTool\"},{\"attributes\":{\"data\":{\"x\":[1,2,3,4,5,6,7,8,9,10,11,12,13,14,15,16,17,18,19,20,21,22,23,24,25,26,27,28,29,30,31,32,33,34,35,36,37,38,39,40,41,42,43,44,45,46,47,48,49,50,51,52,53,54,55,56,57,58,59,60,61,62,63,64,65,66,67,68,69,70,71,72,73,74,75,76,77,78,79,80,81,82,83,84,85,86,87,88,89,90,91,92,93,94,95,96,97,98,99,100,101,102,103,104,105,106,107,108,109,110,111,112,113,114,115,116,117,118,119,120,121,122,123,124,125,126,127,128,129,130,131,132,133,134,135,136,137,138,139,140,141,142,143,144,145,146,147,148,149,150,151,152,153,154,155,156,157,158,159,160,161,162,163,164,165,166,167,168,169,170,171,172,173,174,175,176,177,178,179,180,181,182,183,184,185,186,187,188,189,190,191,192,193,194,195,196,197,198,199,200,201,202,203,204,205,206,207,208,209,210,211,212,213,214,215,216,217,218,219,220,221,222,223,224,225,226,227,228,229,230,231,232,233,234,235,236,237,238,239,240,241,242,243,244,245,246,247,248,249,250,251,252,253,254,255,256,257,258,259,260,261,262,263,264,265,266,267,268,269,270,271,272,273,274,275,276,277,278,279,280,281,282,283,284,285,286,287,288,289,290,291,292,293,294,295,296,297,298,299,300,301,302,303,304,305,306,307,308,309,310,311,312,313,314,315,316,317,318,319,320,321,322,323,324,325,326,327,328,329,330,331,332,333,334,335,336,337,338,339,340,341,342,343,344,345,346,347,348,349,350,351,352,353,354,355,356,357,358,359,360,361,362,363,364,365],\"y\":{\"__ndarray__\":\"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\",\"dtype\":\"float64\",\"order\":\"little\",\"shape\":[365]}},\"selected\":{\"id\":\"12990\"},\"selection_policy\":{\"id\":\"12989\"}},\"id\":\"12979\",\"type\":\"ColumnDataSource\"},{\"attributes\":{\"line_color\":\"orange\",\"x\":{\"field\":\"x\"},\"y\":{\"field\":\"y\"}},\"id\":\"12995\",\"type\":\"Line\"},{\"attributes\":{},\"id\":\"12969\",\"type\":\"ResetTool\"},{\"attributes\":{},\"id\":\"13045\",\"type\":\"Selection\"},{\"attributes\":{},\"id\":\"12970\",\"type\":\"HelpTool\"},{\"attributes\":{\"label\":{\"value\":\"Smooth 2018\"},\"renderers\":[{\"id\":\"13031\"}]},\"id\":\"13047\",\"type\":\"LegendItem\"},{\"attributes\":{},\"id\":\"12951\",\"type\":\"DataRange1d\"},{\"attributes\":{},\"id\":\"13007\",\"type\":\"Selection\"},{\"attributes\":{\"end\":365},\"id\":\"13048\",\"type\":\"Range1d\"},{\"attributes\":{},\"id\":\"12955\",\"type\":\"LinearScale\"},{\"attributes\":{\"active_drag\":\"auto\",\"active_inspect\":\"auto\",\"active_multi\":null,\"active_scroll\":\"auto\",\"active_tap\":\"auto\",\"tools\":[{\"id\":\"12965\"},{\"id\":\"12966\"},{\"id\":\"12967\"},{\"id\":\"12968\"},{\"id\":\"12969\"},{\"id\":\"12970\"}]},\"id\":\"12972\",\"type\":\"Toolbar\"},{\"attributes\":{},\"id\":\"12953\",\"type\":\"LinearScale\"},{\"attributes\":{\"label\":{\"value\":\"minimum outside 2018\"},\"renderers\":[{\"id\":\"12997\"}]},\"id\":\"13009\",\"type\":\"LegendItem\"},{\"attributes\":{\"data\":{\"x\":[1,2,3,4,5,6,7,8,9,10,11,12,13,14,15,16,17,18,19,20,21,22,23,24,25,26,27,28,29,30,31,32,33,34,35,36,37,38,39,40,41,42,43,44,45,46,47,48,49,50,51,52,53,54,55,56,57,58,59,60,61,62,63,64,65,66,67,68,69,70,71,72,73,74,75,76,77,78,79,80,81,82,83,84,85,86,87,88,89,90,91,92,93,94,95,96,97,98,99,100,101,102,103,104,105,106,107,108,109,110,111,112,113,114,115,116,117,118,119,120,121,122,123,124,125,126,127,128,129,130,131,132,133,134,135,136,137,138,139,140,141,142,143,144,145,146,147,148,149,150,151,152,153,154,155,156,157,158,159,160,161,162,163,164,165,166,167,168,169,170,171,172,173,174,175,176,177,178,179,180,181,182,183,184,185,186,187,188,189,190,191,192,193,194,195,196,197,198,199,200,201,202,203,204,205,206,207,208,209,210,211,212,213,214,215,216,217,218,219,220,221,222,223,224,225,226,227,228,229,230,231,232,233,234,235,236,237,238,239,240,241,242,243,244,245,246,247,248,249,250,251,252,253,254,255,256,257,258,259,260,261,262,263,264,265,266,267,268,269,270,271,272,273,274,275,276,277,278,279,280,281,282,283,284,285,286,287,288,289,290,291,292,293,294,295,296,297,298,299,300,301,302,303,304,305,306,307,308,309,310,311,312,313,314,315,316,317,318,319,320,321,322,323,324,325,326,327,328,329,330,331,332,333,334,335,336,337,338,339,340,341,342,343,344,345,346,347,348,349,350,351,352,353,354,355,356,357,358,359,360,361,362,363,364,365],\"y\":{\"__ndarray__\":\"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\",\"dtype\":\"float64\",\"order\":\"little\",\"shape\":[365]}},\"selected\":{\"id\":\"13025\"},\"selection_policy\":{\"id\":\"13024\"}},\"id\":\"13010\",\"type\":\"ColumnDataSource\"},{\"attributes\":{\"axis_label\":\"days\",\"formatter\":{\"id\":\"12985\"},\"ticker\":{\"id\":\"12958\"}},\"id\":\"12957\",\"type\":\"LinearAxis\"},{\"attributes\":{\"bottom_units\":\"screen\",\"fill_alpha\":0.5,\"fill_color\":\"lightgrey\",\"left_units\":\"screen\",\"level\":\"overlay\",\"line_alpha\":1.0,\"line_color\":\"black\",\"line_dash\":[4,4],\"line_width\":2,\"right_units\":\"screen\",\"top_units\":\"screen\"},\"id\":\"12971\",\"type\":\"BoxAnnotation\"},{\"attributes\":{\"line_color\":\"hotpink\",\"x\":{\"field\":\"x\"},\"y\":{\"field\":\"y\"}},\"id\":\"13011\",\"type\":\"Line\"},{\"attributes\":{\"line_alpha\":0.1,\"line_color\":\"blue\",\"x\":{\"field\":\"x\"},\"y\":{\"field\":\"y\"}},\"id\":\"12981\",\"type\":\"Line\"},{\"attributes\":{\"line_color\":\"blue\",\"x\":{\"field\":\"x\"},\"y\":{\"field\":\"y\"}},\"id\":\"12980\",\"type\":\"Line\"},{\"attributes\":{\"line_alpha\":0.1,\"line_color\":\"hotpink\",\"x\":{\"field\":\"x\"},\"y\":{\"field\":\"y\"}},\"id\":\"13012\",\"type\":\"Line\"},{\"attributes\":{\"data_source\":{\"id\":\"13010\"},\"glyph\":{\"id\":\"13011\"},\"hover_glyph\":null,\"muted_glyph\":null,\"nonselection_glyph\":{\"id\":\"13012\"},\"selection_glyph\":null,\"view\":{\"id\":\"13014\"}},\"id\":\"13013\",\"type\":\"GlyphRenderer\"}],\"root_ids\":[\"12946\"]},\"title\":\"Bokeh Application\",\"version\":\"2.2.3\"}};\n",
       "  var render_items = [{\"docid\":\"faaaad8c-00ab-47b5-847b-6560d3b9512a\",\"root_ids\":[\"12946\"],\"roots\":{\"12946\":\"469eba7d-c364-4640-9369-814b071a090c\"}}];\n",
       "  root.Bokeh.embed.embed_items_notebook(docs_json, render_items);\n",
       "\n",
       "  }\n",
       "  if (root.Bokeh !== undefined) {\n",
       "    embed_document(root);\n",
       "  } else {\n",
       "    var attempts = 0;\n",
       "    var timer = setInterval(function(root) {\n",
       "      if (root.Bokeh !== undefined) {\n",
       "        clearInterval(timer);\n",
       "        embed_document(root);\n",
       "      } else {\n",
       "        attempts++;\n",
       "        if (attempts > 100) {\n",
       "          clearInterval(timer);\n",
       "          console.log(\"Bokeh: ERROR: Unable to run BokehJS code because BokehJS library is missing\");\n",
       "        }\n",
       "      }\n",
       "    }, 10, root)\n",
       "  }\n",
       "})(window);"
      ],
      "application/vnd.bokehjs_exec.v0+json": ""
     },
     "metadata": {
      "application/vnd.bokehjs_exec.v0+json": {
       "id": "12946"
      }
     },
     "output_type": "display_data"
    }
   ],
   "source": [
    "# smoothed_data = smooth_data(df.Date.dt.Days, )\n",
    "from bokeh.plotting import figure, show\n",
    "from bokeh.layouts import gridplot\n",
    "from bokeh.models import Range1d\n",
    "from bokeh.io import output_notebook\n",
    "output_notebook()\n",
    "\n",
    "def make_plot(df_2018, df_outside2018):\n",
    "    p = figure(title=\"Weather data\", \n",
    "               background_fill_color=\"#fafafa\")\n",
    "    \n",
    "    x2018 = df_2018.Date.dt.date\n",
    "    x = [pd.Period(xi, freq='D').dayofyear for xi in x2018]\n",
    "    y2018 = df_2018.Tmean\n",
    "    p.line(x, y2018, color=\"blue\", legend_label=\"2018\")\n",
    "    \n",
    "    ymin = df_outside2018.Tmin\n",
    "    ymax = df_outside2018.Tmax\n",
    "    p.line(x, ymin, color=\"orange\", legend_label=\"minimum outside 2018\")\n",
    "    p.line(x, ymax, color=\"hotpink\", legend_label=\"maximum outside 2018\")\n",
    "    \n",
    "    y2018_smooth = smooth_data(x, y2018)\n",
    "    xvals=np.linspace(1, 300, 365)\n",
    "    y2018_smooth = y2018_smooth(xvals)\n",
    "    p.line(x, y2018_smooth, color=\"green\", legend_label=\"Smooth 2018\")\n",
    "    \n",
    "    p.x_range=Range1d(0, 365)\n",
    "    p.xaxis.axis_label = \"days\"\n",
    "    p.yaxis.axis_label = \"Temperature in degrees celcius\"\n",
    "    p.legend.label_text_font_size = \"10px\"\n",
    "    p.legend.background_fill_alpha = 0.5\n",
    "    p.grid.grid_line_color=\"white\"\n",
    "    return p\n",
    "show(make_plot(df_2018, df_outside2018))"
   ]
  },
  {
   "cell_type": "markdown",
   "metadata": {},
   "source": [
    "<details>    \n",
    "<summary>\n",
    "    <font size=\"3\" color=\"darkgreen\"><b>Hints</b></font>\n",
    "</summary>\n",
    "<ul><li>use from bokeh.models import Band</li>\n",
    "    <li>use ColumnDataSource to parse data arrays</li>\n",
    "    <li>look for xaxis tick formatters</li>\n",
    "</ul>\n",
    "</details>"
   ]
  },
  {
   "cell_type": "markdown",
   "metadata": {},
   "source": [
    "---"
   ]
  },
  {
   "cell_type": "markdown",
   "metadata": {},
   "source": [
    "<a name='5'></a>\n",
    "## Part 6: Challenge"
   ]
  },
  {
   "cell_type": "markdown",
   "metadata": {},
   "source": [
    "Make a widget in which you can select the year range for the multiyear set. Add this to your layout to make the plot interactive. Add another widget to select or deselect the smoother. Inspiration: https://demo.bokeh.org/weather"
   ]
  },
  {
   "cell_type": "code",
   "execution_count": null,
   "metadata": {},
   "outputs": [],
   "source": []
  }
 ],
 "metadata": {
  "kernelspec": {
   "display_name": "Python 3",
   "language": "python",
   "name": "python3"
  },
  "language_info": {
   "codemirror_mode": {
    "name": "ipython",
    "version": 3
   },
   "file_extension": ".py",
   "mimetype": "text/x-python",
   "name": "python",
   "nbconvert_exporter": "python",
   "pygments_lexer": "ipython3",
   "version": "3.6.9"
  }
 },
 "nbformat": 4,
 "nbformat_minor": 2
}
